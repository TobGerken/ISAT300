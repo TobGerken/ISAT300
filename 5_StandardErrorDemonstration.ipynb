{
 "cells": [
  {
   "cell_type": "markdown",
   "id": "e6eb18b0",
   "metadata": {},
   "source": [
    "[![Open In Colab](https://colab.research.google.com/assets/colab-badge.svg)](https://colab.research.google.com/github/TobGerken/ISAT300/blob/main/5_StandardErrorDemostration.ipynb)"
   ]
  },
  {
   "cell_type": "markdown",
   "id": "8757ed60",
   "metadata": {},
   "source": [
    "# Starndard Error Demonstration\n",
    "\n",
    "\n",
    "**This notebook is published on my github. It is publicly accessible, but you cannot save your changes to my github. Learning git & github is beyond the scope of this course. If you are familiar with github, you know that to do. If you don't know github, you can save a personal copy of the file to your google drive, so that you can save your changes and can access them at a later date**\n",
    "\n",
    "This notebook is a continuation from previous classes:\n",
    "\n",
    "1. [GettingStarted](https://github.com/TobGerken/ISAT300/blob/main/1_GettingStarted.ipynb)\n",
    "2. [Data Visualization](https://github.com/TobGerken/ISAT300/blob/main/2_DataVisualization.ipynb)\n",
    "3. [Heart Rate Lab Review](https://github.com/TobGerken/ISAT300/blob/main/3_HeartRateLabReview.ipynb)\n",
    "4. [Temperature Response Lab Review](https://github.com/TobGerken/ISAT300/blob/main/4_TemperatureResponseLabReview.ipynb)\n",
    "\n",
    "This notebook was created to demonstrate the relationship between standard deviation ($/sigma$) and standard error.\n",
    "\n",
    "I am outlining here a simple experiment\n",
    "\n",
    "Before we start we are importing a couple of libraries. "
   ]
  },
  {
   "cell_type": "code",
   "execution_count": 59,
   "id": "c0d7c9ec",
   "metadata": {},
   "outputs": [],
   "source": [
    "import pandas as pd\n",
    "import numpy as np\n",
    "import matplotlib.pyplot as plt\n",
    "plt.style.use('seaborn')\n"
   ]
  },
  {
   "cell_type": "markdown",
   "id": "6ef2e195",
   "metadata": {},
   "source": [
    "## Our Experiment: The weight of mice\n",
    "\n",
    "You are a biologist and you know that the average weight of mice is 20 grams. You also know that there is a variation in the weight of mice with a standard deviation of 5 grams. \n",
    "\n",
    "We can express this as:\n",
    "\n",
    "$Weight_{mice} = 20 \\pm 5 grams$  \n",
    "\n",
    "and we would expect the weight of mice to mostly be within the range of 15 to 25 grams. \n",
    "\n",
    "As a biologist you go out to catch a single mouse. We simulate this here by drawing a sample from a random distribution with a mean of 20 and a standard deviation of 5. "
   ]
  },
  {
   "cell_type": "code",
   "execution_count": 79,
   "id": "0748d579",
   "metadata": {},
   "outputs": [
    {
     "name": "stdout",
     "output_type": "stream",
     "text": [
      "The caught mouse weights: 29.88 grams\n"
     ]
    }
   ],
   "source": [
    "# np.random.normal(mean,standardDeviation)\n",
    "mouse = np.random.normal(20,5)\n",
    "print('The caught mouse weights: %5.2f grams' % mouse)"
   ]
  },
  {
   "cell_type": "markdown",
   "id": "39916074",
   "metadata": {},
   "source": [
    "This seems plausible. \n",
    "Now let's go out and catch 10 mice. \n"
   ]
  },
  {
   "cell_type": "code",
   "execution_count": 70,
   "id": "453ccc5e",
   "metadata": {},
   "outputs": [
    {
     "name": "stdout",
     "output_type": "stream",
     "text": [
      "The average weight of caught mice is: 18.74 grams\n"
     ]
    },
    {
     "data": {
      "image/png": "[encoded data removed]",
      "text/plain": [
       "<Figure size 576x396 with 1 Axes>"
      ]
     },
     "metadata": {},
     "output_type": "display_data"
    }
   ],
   "source": [
    "# np.random.normal(mean,standardDeviation,numberOfSamples)\n",
    "mice = np.random.normal(20,5,10)\n",
    "plt.hist(mice)\n",
    "plt.xlabel('Weight of Mice (g)',fontsize = 14)\n",
    "plt.ylabel('Number of Mice',fontsize = 14)\n",
    "\n",
    "print('The average weight of caught mice is: %5.2f grams' % np.mean(mice))"
   ]
  },
  {
   "cell_type": "markdown",
   "id": "572af290",
   "metadata": {},
   "source": [
    "This looks reasonable. Most caught might weigh in the range of 15-25 grams, but there might be some mice that are heavier or lighter. \n",
    "\n",
    "**Remember that $1\\sigma$ corresponds to the range that encompasses 68.2% of the population.** \n",
    "\n",
    "We also see that the mean value of the mice we caught is no longer the mean value for all mice."
   ]
  },
  {
   "cell_type": "markdown",
   "id": "1bdab4a5",
   "metadata": {},
   "source": [
    "Now let's assume that 100 biologists go out and catch 10 mice each. This means we have 100 repetitions of our experiment. "
   ]
  },
  {
   "cell_type": "code",
   "execution_count": 71,
   "id": "80251696",
   "metadata": {},
   "outputs": [
    {
     "data": {
      "text/html": [
       "<div>\n",
       "<style scoped>\n",
       "    .dataframe tbody tr th:only-of-type {\n",
       "        vertical-align: middle;\n",
       "    }\n",
       "\n",
       "    .dataframe tbody tr th {\n",
       "        vertical-align: top;\n",
       "    }\n",
       "\n",
       "    .dataframe thead th {\n",
       "        text-align: right;\n",
       "    }\n",
       "</style>\n",
       "<table border=\"1\" class=\"dataframe\">\n",
       "  <thead>\n",
       "    <tr style=\"text-align: right;\">\n",
       "      <th></th>\n",
       "      <th>x_0</th>\n",
       "      <th>x_1</th>\n",
       "      <th>x_2</th>\n",
       "      <th>x_3</th>\n",
       "      <th>x_4</th>\n",
       "      <th>x_5</th>\n",
       "      <th>x_6</th>\n",
       "      <th>x_7</th>\n",
       "      <th>x_8</th>\n",
       "      <th>x_9</th>\n",
       "      <th>...</th>\n",
       "      <th>x_90</th>\n",
       "      <th>x_91</th>\n",
       "      <th>x_92</th>\n",
       "      <th>x_93</th>\n",
       "      <th>x_94</th>\n",
       "      <th>x_95</th>\n",
       "      <th>x_96</th>\n",
       "      <th>x_97</th>\n",
       "      <th>x_98</th>\n",
       "      <th>x_99</th>\n",
       "    </tr>\n",
       "  </thead>\n",
       "  <tbody>\n",
       "    <tr>\n",
       "      <th>0</th>\n",
       "      <td>27.290094</td>\n",
       "      <td>21.469246</td>\n",
       "      <td>18.144953</td>\n",
       "      <td>25.448531</td>\n",
       "      <td>14.650151</td>\n",
       "      <td>22.569401</td>\n",
       "      <td>22.425738</td>\n",
       "      <td>32.431987</td>\n",
       "      <td>24.418794</td>\n",
       "      <td>19.058105</td>\n",
       "      <td>...</td>\n",
       "      <td>22.749876</td>\n",
       "      <td>24.028671</td>\n",
       "      <td>17.583061</td>\n",
       "      <td>19.515680</td>\n",
       "      <td>14.204499</td>\n",
       "      <td>14.333469</td>\n",
       "      <td>24.865612</td>\n",
       "      <td>19.164836</td>\n",
       "      <td>27.575425</td>\n",
       "      <td>13.760561</td>\n",
       "    </tr>\n",
       "    <tr>\n",
       "      <th>1</th>\n",
       "      <td>5.732760</td>\n",
       "      <td>25.313946</td>\n",
       "      <td>24.360221</td>\n",
       "      <td>9.904608</td>\n",
       "      <td>21.567112</td>\n",
       "      <td>25.864470</td>\n",
       "      <td>17.775454</td>\n",
       "      <td>20.458884</td>\n",
       "      <td>24.193661</td>\n",
       "      <td>11.588214</td>\n",
       "      <td>...</td>\n",
       "      <td>20.071164</td>\n",
       "      <td>13.851582</td>\n",
       "      <td>24.240729</td>\n",
       "      <td>17.940076</td>\n",
       "      <td>22.491910</td>\n",
       "      <td>17.044295</td>\n",
       "      <td>27.990051</td>\n",
       "      <td>26.407496</td>\n",
       "      <td>19.967461</td>\n",
       "      <td>22.985974</td>\n",
       "    </tr>\n",
       "    <tr>\n",
       "      <th>2</th>\n",
       "      <td>19.175997</td>\n",
       "      <td>19.397816</td>\n",
       "      <td>17.094620</td>\n",
       "      <td>15.893358</td>\n",
       "      <td>22.840474</td>\n",
       "      <td>24.049831</td>\n",
       "      <td>17.614689</td>\n",
       "      <td>13.100562</td>\n",
       "      <td>25.497035</td>\n",
       "      <td>22.886289</td>\n",
       "      <td>...</td>\n",
       "      <td>26.787043</td>\n",
       "      <td>20.829757</td>\n",
       "      <td>21.479256</td>\n",
       "      <td>23.024886</td>\n",
       "      <td>25.651847</td>\n",
       "      <td>17.692572</td>\n",
       "      <td>13.346139</td>\n",
       "      <td>21.702694</td>\n",
       "      <td>19.844764</td>\n",
       "      <td>12.239457</td>\n",
       "    </tr>\n",
       "    <tr>\n",
       "      <th>3</th>\n",
       "      <td>8.082003</td>\n",
       "      <td>23.147766</td>\n",
       "      <td>27.954149</td>\n",
       "      <td>17.920223</td>\n",
       "      <td>20.044769</td>\n",
       "      <td>17.570950</td>\n",
       "      <td>19.050867</td>\n",
       "      <td>16.490183</td>\n",
       "      <td>16.026523</td>\n",
       "      <td>22.155424</td>\n",
       "      <td>...</td>\n",
       "      <td>16.273576</td>\n",
       "      <td>20.075876</td>\n",
       "      <td>12.393028</td>\n",
       "      <td>14.140523</td>\n",
       "      <td>16.944883</td>\n",
       "      <td>23.908620</td>\n",
       "      <td>20.028879</td>\n",
       "      <td>20.770561</td>\n",
       "      <td>19.928250</td>\n",
       "      <td>27.461142</td>\n",
       "    </tr>\n",
       "    <tr>\n",
       "      <th>4</th>\n",
       "      <td>25.140993</td>\n",
       "      <td>10.446553</td>\n",
       "      <td>21.961991</td>\n",
       "      <td>15.871270</td>\n",
       "      <td>24.113403</td>\n",
       "      <td>15.933985</td>\n",
       "      <td>20.765379</td>\n",
       "      <td>23.378299</td>\n",
       "      <td>27.572363</td>\n",
       "      <td>16.672863</td>\n",
       "      <td>...</td>\n",
       "      <td>27.656079</td>\n",
       "      <td>9.947628</td>\n",
       "      <td>23.632890</td>\n",
       "      <td>12.878319</td>\n",
       "      <td>25.578323</td>\n",
       "      <td>13.390175</td>\n",
       "      <td>22.973833</td>\n",
       "      <td>18.424472</td>\n",
       "      <td>21.541248</td>\n",
       "      <td>26.451779</td>\n",
       "    </tr>\n",
       "    <tr>\n",
       "      <th>5</th>\n",
       "      <td>18.108447</td>\n",
       "      <td>12.703285</td>\n",
       "      <td>24.949086</td>\n",
       "      <td>18.181114</td>\n",
       "      <td>27.526560</td>\n",
       "      <td>26.662670</td>\n",
       "      <td>20.570575</td>\n",
       "      <td>27.251361</td>\n",
       "      <td>4.490695</td>\n",
       "      <td>24.054339</td>\n",
       "      <td>...</td>\n",
       "      <td>20.060936</td>\n",
       "      <td>27.445023</td>\n",
       "      <td>18.241179</td>\n",
       "      <td>17.758232</td>\n",
       "      <td>22.732086</td>\n",
       "      <td>23.332619</td>\n",
       "      <td>7.740703</td>\n",
       "      <td>18.297664</td>\n",
       "      <td>18.388523</td>\n",
       "      <td>16.889003</td>\n",
       "    </tr>\n",
       "    <tr>\n",
       "      <th>6</th>\n",
       "      <td>19.161258</td>\n",
       "      <td>13.503976</td>\n",
       "      <td>18.397215</td>\n",
       "      <td>22.920814</td>\n",
       "      <td>17.834170</td>\n",
       "      <td>25.754316</td>\n",
       "      <td>17.122982</td>\n",
       "      <td>20.951519</td>\n",
       "      <td>19.891832</td>\n",
       "      <td>13.225511</td>\n",
       "      <td>...</td>\n",
       "      <td>15.150834</td>\n",
       "      <td>17.422570</td>\n",
       "      <td>20.271874</td>\n",
       "      <td>20.506935</td>\n",
       "      <td>22.414435</td>\n",
       "      <td>16.535477</td>\n",
       "      <td>29.300299</td>\n",
       "      <td>15.735988</td>\n",
       "      <td>12.301897</td>\n",
       "      <td>25.237368</td>\n",
       "    </tr>\n",
       "    <tr>\n",
       "      <th>7</th>\n",
       "      <td>27.866002</td>\n",
       "      <td>19.618026</td>\n",
       "      <td>17.606620</td>\n",
       "      <td>20.149381</td>\n",
       "      <td>13.226847</td>\n",
       "      <td>21.057705</td>\n",
       "      <td>22.924821</td>\n",
       "      <td>9.711770</td>\n",
       "      <td>16.810949</td>\n",
       "      <td>17.575241</td>\n",
       "      <td>...</td>\n",
       "      <td>18.539931</td>\n",
       "      <td>19.943767</td>\n",
       "      <td>21.142498</td>\n",
       "      <td>14.089487</td>\n",
       "      <td>22.086000</td>\n",
       "      <td>17.882761</td>\n",
       "      <td>22.117792</td>\n",
       "      <td>16.543253</td>\n",
       "      <td>29.707917</td>\n",
       "      <td>13.473559</td>\n",
       "    </tr>\n",
       "    <tr>\n",
       "      <th>8</th>\n",
       "      <td>19.653527</td>\n",
       "      <td>22.724669</td>\n",
       "      <td>12.604265</td>\n",
       "      <td>20.831215</td>\n",
       "      <td>14.001032</td>\n",
       "      <td>27.624307</td>\n",
       "      <td>11.115468</td>\n",
       "      <td>18.409101</td>\n",
       "      <td>15.728833</td>\n",
       "      <td>22.164816</td>\n",
       "      <td>...</td>\n",
       "      <td>22.186477</td>\n",
       "      <td>20.043674</td>\n",
       "      <td>24.746023</td>\n",
       "      <td>20.811612</td>\n",
       "      <td>20.497181</td>\n",
       "      <td>20.897376</td>\n",
       "      <td>20.503274</td>\n",
       "      <td>17.430928</td>\n",
       "      <td>16.242306</td>\n",
       "      <td>19.607050</td>\n",
       "    </tr>\n",
       "    <tr>\n",
       "      <th>9</th>\n",
       "      <td>12.787163</td>\n",
       "      <td>24.127717</td>\n",
       "      <td>23.111759</td>\n",
       "      <td>26.735805</td>\n",
       "      <td>4.829485</td>\n",
       "      <td>15.169611</td>\n",
       "      <td>16.194070</td>\n",
       "      <td>13.765129</td>\n",
       "      <td>29.313921</td>\n",
       "      <td>20.399487</td>\n",
       "      <td>...</td>\n",
       "      <td>13.049208</td>\n",
       "      <td>17.561567</td>\n",
       "      <td>20.554988</td>\n",
       "      <td>13.392381</td>\n",
       "      <td>23.918037</td>\n",
       "      <td>23.168358</td>\n",
       "      <td>16.960160</td>\n",
       "      <td>22.970373</td>\n",
       "      <td>21.793074</td>\n",
       "      <td>17.930350</td>\n",
       "    </tr>\n",
       "  </tbody>\n",
       "</table>\n",
       "<p>10 rows × 100 columns</p>\n",
       "</div>"
      ],
      "text/plain": [
       "         x_0        x_1        x_2        x_3        x_4        x_5  \\\n",
       "0  27.290094  21.469246  18.144953  25.448531  14.650151  22.569401   \n",
       "1   5.732760  25.313946  24.360221   9.904608  21.567112  25.864470   \n",
       "2  19.175997  19.397816  17.094620  15.893358  22.840474  24.049831   \n",
       "3   8.082003  23.147766  27.954149  17.920223  20.044769  17.570950   \n",
       "4  25.140993  10.446553  21.961991  15.871270  24.113403  15.933985   \n",
       "5  18.108447  12.703285  24.949086  18.181114  27.526560  26.662670   \n",
       "6  19.161258  13.503976  18.397215  22.920814  17.834170  25.754316   \n",
       "7  27.866002  19.618026  17.606620  20.149381  13.226847  21.057705   \n",
       "8  19.653527  22.724669  12.604265  20.831215  14.001032  27.624307   \n",
       "9  12.787163  24.127717  23.111759  26.735805   4.829485  15.169611   \n",
       "\n",
       "         x_6        x_7        x_8        x_9  ...       x_90       x_91  \\\n",
       "0  22.425738  32.431987  24.418794  19.058105  ...  22.749876  24.028671   \n",
       "1  17.775454  20.458884  24.193661  11.588214  ...  20.071164  13.851582   \n",
       "2  17.614689  13.100562  25.497035  22.886289  ...  26.787043  20.829757   \n",
       "3  19.050867  16.490183  16.026523  22.155424  ...  16.273576  20.075876   \n",
       "4  20.765379  23.378299  27.572363  16.672863  ...  27.656079   9.947628   \n",
       "5  20.570575  27.251361   4.490695  24.054339  ...  20.060936  27.445023   \n",
       "6  17.122982  20.951519  19.891832  13.225511  ...  15.150834  17.422570   \n",
       "7  22.924821   9.711770  16.810949  17.575241  ...  18.539931  19.943767   \n",
       "8  11.115468  18.409101  15.728833  22.164816  ...  22.186477  20.043674   \n",
       "9  16.194070  13.765129  29.313921  20.399487  ...  13.049208  17.561567   \n",
       "\n",
       "        x_92       x_93       x_94       x_95       x_96       x_97  \\\n",
       "0  17.583061  19.515680  14.204499  14.333469  24.865612  19.164836   \n",
       "1  24.240729  17.940076  22.491910  17.044295  27.990051  26.407496   \n",
       "2  21.479256  23.024886  25.651847  17.692572  13.346139  21.702694   \n",
       "3  12.393028  14.140523  16.944883  23.908620  20.028879  20.770561   \n",
       "4  23.632890  12.878319  25.578323  13.390175  22.973833  18.424472   \n",
       "5  18.241179  17.758232  22.732086  23.332619   7.740703  18.297664   \n",
       "6  20.271874  20.506935  22.414435  16.535477  29.300299  15.735988   \n",
       "7  21.142498  14.089487  22.086000  17.882761  22.117792  16.543253   \n",
       "8  24.746023  20.811612  20.497181  20.897376  20.503274  17.430928   \n",
       "9  20.554988  13.392381  23.918037  23.168358  16.960160  22.970373   \n",
       "\n",
       "        x_98       x_99  \n",
       "0  27.575425  13.760561  \n",
       "1  19.967461  22.985974  \n",
       "2  19.844764  12.239457  \n",
       "3  19.928250  27.461142  \n",
       "4  21.541248  26.451779  \n",
       "5  18.388523  16.889003  \n",
       "6  12.301897  25.237368  \n",
       "7  29.707917  13.473559  \n",
       "8  16.242306  19.607050  \n",
       "9  21.793074  17.930350  \n",
       "\n",
       "[10 rows x 100 columns]"
      ]
     },
     "execution_count": 71,
     "metadata": {},
     "output_type": "execute_result"
    }
   ],
   "source": [
    "df = pd.DataFrame()\n",
    "for i in range(100):\n",
    "    x = np.random.normal(20,5,10)\n",
    "    string = 'Mice_' + str(i)\n",
    "    df[string]=x\n",
    "\n",
    "df"
   ]
  },
  {
   "cell_type": "markdown",
   "id": "c5cc6092",
   "metadata": {},
   "source": [
    "Each column in the dataframe corresponds to one biologist going out to capture and weigh 10 mice.  \n",
    "Again, we can have a look at a plot for these. "
   ]
  },
  {
   "cell_type": "code",
   "execution_count": 72,
   "id": "d2576c4d",
   "metadata": {},
   "outputs": [
    {
     "data": {
      "text/plain": [
       "Text(0.5, 0, 'Weight of Mice (g)')"
      ]
     },
     "execution_count": 72,
     "metadata": {},
     "output_type": "execute_result"
    },
    {
     "data": {
      "image/png": "[encoded data removed]",
      "text/plain": [
       "<Figure size 576x396 with 1 Axes>"
      ]
     },
     "metadata": {},
     "output_type": "display_data"
    }
   ],
   "source": [
    "df[['x_3']].plot(kind = 'hist', title = 'Histogram of captured mice', alpha = 0.5)\n",
    "plt.ylabel('Number of Mice')\n",
    "plt.xlabel('Weight of Mice (g)')\n"
   ]
  },
  {
   "cell_type": "markdown",
   "id": "77ecb376",
   "metadata": {},
   "source": [
    "Now let's have a look at the average weight and the average standard deviations for each of the samples. "
   ]
  },
  {
   "cell_type": "code",
   "execution_count": 74,
   "id": "2976290f",
   "metadata": {},
   "outputs": [
    {
     "data": {
      "text/plain": [
       "x_0     18.299824\n",
       "x_1     19.245300\n",
       "x_2     20.618488\n",
       "x_3     19.385632\n",
       "x_4     18.063400\n",
       "          ...    \n",
       "x_95    18.818572\n",
       "x_96    20.582674\n",
       "x_97    19.744827\n",
       "x_98    20.729087\n",
       "x_99    19.603624\n",
       "Length: 100, dtype: float64"
      ]
     },
     "execution_count": 74,
     "metadata": {},
     "output_type": "execute_result"
    }
   ],
   "source": [
    "df.mean()"
   ]
  },
  {
   "cell_type": "code",
   "execution_count": 75,
   "id": "5c30579f",
   "metadata": {},
   "outputs": [
    {
     "data": {
      "text/plain": [
       "x_0     7.566311\n",
       "x_1     5.231194\n",
       "x_2     4.611064\n",
       "x_3     4.988756\n",
       "x_4     6.598911\n",
       "          ...   \n",
       "x_95    3.794955\n",
       "x_96    6.565933\n",
       "x_97    3.257976\n",
       "x_98    5.032272\n",
       "x_99    5.656228\n",
       "Length: 100, dtype: float64"
      ]
     },
     "execution_count": 75,
     "metadata": {},
     "output_type": "execute_result"
    }
   ],
   "source": [
    "df.std()"
   ]
  },
  {
   "cell_type": "markdown",
   "id": "f2ea7d30",
   "metadata": {},
   "source": [
    "We now have 100 samples and each of these samples provides an estimate of the mean weight of the mouse population.\n",
    "\n",
    "Looking at the sample means and sample standard deviations, we can see that they are similar but not the same as the mean and the standard deviation of the mouse population ($20 \\pm 5$).\n",
    "\n",
    "Let's take this one step further and take the mean and standard deviation of for our 100 repetitions. "
   ]
  },
  {
   "cell_type": "code",
   "execution_count": 78,
   "id": "41b41cd9",
   "metadata": {},
   "outputs": [
    {
     "name": "stdout",
     "output_type": "stream",
     "text": [
      "The mean of the 100 means is: 20.14 +/-  1.49 grams\n"
     ]
    }
   ],
   "source": [
    "means = df.mean()\n",
    "print('The mean of the 100 means is: %5.2f +/- %5.2f grams' % (means.mean(), means.std()))"
   ]
  },
  {
   "cell_type": "markdown",
   "id": "12694fba",
   "metadata": {},
   "source": [
    "We now have an estimate of the uncertainty for the mean weight of all the mice. And you notice that this mean value is smaller than the standard deviation of the mouse population, which was $20 \\pm 5$ grams."
   ]
  },
  {
   "cell_type": "markdown",
   "id": "27b99068",
   "metadata": {},
   "source": [
    "## The Standard Error of the Mean\n",
    "\n",
    "There is an equation that can be used to estimate the uncertainty of the mean value based on repeated measurements. This is called the **_standard error of the mean_** often abbreviated to **SE**. \n",
    "\n",
    "SE is calculated as: \n",
    "\n",
    "$SE = \\frac{\\sigma}{\\sqrt{n}}$"
   ]
  },
  {
   "cell_type": "code",
   "execution_count": 82,
   "id": "764428f4",
   "metadata": {},
   "outputs": [
    {
     "name": "stdout",
     "output_type": "stream",
     "text": [
      "The Standard Error is  1.58 grams\n"
     ]
    }
   ],
   "source": [
    "# Using our sigma = 5 and a sample size of 10 mice caught, we can estimate the standard error \n",
    "standardError = 5/np.sqrt(10)\n",
    "print('The Standard Error is %5.2f grams' % standardError)"
   ]
  },
  {
   "cell_type": "markdown",
   "id": "797fcbf8",
   "metadata": {},
   "source": [
    "This value is not too different from what we calculated using the 100 repetitions. \n",
    "\n",
    "In general, we can use the standard error calculation to estimate the uncertainty of the mean value of the measurements that we want to measure. Most of the time, we do not know the true $\\sigma$ of what we want to measure. \n",
    "\n",
    "For example, since we have not caught and weighed all mice on Earth, we don't know whether the weight of mice has a standard deviation of 5 grams. \n",
    "\n",
    "In the case of our ONE biologist, who went out to capture 10 mice, we can calculate the sample mean weight and the sample standard deviation"
   ]
  },
  {
   "cell_type": "code",
   "execution_count": 89,
   "id": "62026d0e",
   "metadata": {},
   "outputs": [
    {
     "name": "stdout",
     "output_type": "stream",
     "text": [
      "Sample Mean: 18.74 grams, Sample StdDev:  4.35 grams\n"
     ]
    }
   ],
   "source": [
    "sampleMean = np.mean(mice)\n",
    "sampleStd  = np.std(mice)\n",
    "\n",
    "print('Sample Mean: %5.2f grams, Sample StdDev: %5.2f grams' % (sampleMean, sampleStd))"
   ]
  },
  {
   "cell_type": "markdown",
   "id": "0163b85d",
   "metadata": {},
   "source": [
    "We can then also calculate the standard error using the sample standard deviation"
   ]
  },
  {
   "cell_type": "code",
   "execution_count": 91,
   "id": "91569526",
   "metadata": {},
   "outputs": [
    {
     "name": "stdout",
     "output_type": "stream",
     "text": [
      "The sample mean is: 18.74 +/-  1.38 grams\n"
     ]
    }
   ],
   "source": [
    "SE = sampleStd / np.sqrt(10)\n",
    "SE\n",
    "print('The sample mean is: %5.2f +/- %5.2f grams' % (sampleMean, SE))"
   ]
  },
  {
   "cell_type": "markdown",
   "id": "789da102",
   "metadata": {},
   "source": [
    "We notice that this range of uncertainty for the mean actually encompasses the true mean of the mice population (20 grams)."
   ]
  },
  {
   "cell_type": "markdown",
   "id": "c5c8f7d8",
   "metadata": {},
   "source": [
    "## A few caveats\n",
    "\n",
    "- In general, SE is only reliable if we have a large number of samples ($n$), because the sample standard deviation is a not ideal substitute for the true standard deviation of the population ($\\sigma$). The sample standard deviation will be closer to $\\sigma$ for large $n$. \n",
    "- 1 SE provides a 68% range for the mean. \n",
    "- 2 x SE ~ 95.4% and 3 x SE > 99%."
   ]
  },
  {
   "cell_type": "code",
   "execution_count": null,
   "id": "2b19ee26",
   "metadata": {},
   "outputs": [],
   "source": []
  }
 ],
 "metadata": {
  "kernelspec": {
   "display_name": "Python 3 (ipykernel)",
   "language": "python",
   "name": "python3"
  },
  "language_info": {
   "codemirror_mode": {
    "name": "ipython",
    "version": 3
   },
   "file_extension": ".py",
   "mimetype": "text/x-python",
   "name": "python",
   "nbconvert_exporter": "python",
   "pygments_lexer": "ipython3",
   "version": "3.9.12"
  }
 },
 "nbformat": 4,
 "nbformat_minor": 5
}
