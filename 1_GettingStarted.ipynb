{
 "cells": [
  {
   "cell_type": "markdown",
   "id": "c43866c1-4dd9-4353-9e81-f155fd8f4a23",
   "metadata": {},
   "source": [
    "# Getting Started with Data in Jupyter\n",
    "\n",
    "We are starting with some initial data analysis. \n",
    "[Pandas](https://pandas.pydata.org/) is a powerful data analysis tool built on top of [python](www.python.org) to read, manipulate, and visualize data. Much like Excel, python organizes data in Tables, which it calls dataframes. \n",
    "\n",
    "Because pandas is not part of the core python language we have to import it as a module:"
   ]
  },
  {
   "cell_type": "code",
   "execution_count": 1,
   "id": "5164b321-7825-456b-9472-359bfe856815",
   "metadata": {},
   "outputs": [],
   "source": [
    "# running this will import pandas.\n",
    "import pandas as pd"
   ]
  },
  {
   "cell_type": "markdown",
   "id": "730c6f27-0262-491b-9dff-2676b84643e8",
   "metadata": {},
   "source": [
    "## Reading data into a pandas dataframe\n",
    "\n",
    "To look at some data, we have to get it into a pandas dataframe. Pandas has a lot of different functions to read data that is saved as a file. \n",
    "\n"
   ]
  },
  {
   "cell_type": "code",
   "execution_count": 2,
   "id": "a18b4a55-abb3-488c-920f-440709400c24",
   "metadata": {},
   "outputs": [],
   "source": [
    "df = pd.read_csv('./Data/mpg_cated.csv')"
   ]
  },
  {
   "cell_type": "code",
   "execution_count": 3,
   "id": "ee3896e7-c24c-4f61-bb51-688aebce1212",
   "metadata": {},
   "outputs": [
    {
     "data": {
      "text/html": [
       "<div>\n",
       "<style scoped>\n",
       "    .dataframe tbody tr th:only-of-type {\n",
       "        vertical-align: middle;\n",
       "    }\n",
       "\n",
       "    .dataframe tbody tr th {\n",
       "        vertical-align: top;\n",
       "    }\n",
       "\n",
       "    .dataframe thead th {\n",
       "        text-align: right;\n",
       "    }\n",
       "</style>\n",
       "<table border=\"1\" class=\"dataframe\">\n",
       "  <thead>\n",
       "    <tr style=\"text-align: right;\">\n",
       "      <th></th>\n",
       "      <th>origin</th>\n",
       "      <th>cylinders</th>\n",
       "      <th>model_year</th>\n",
       "      <th>mpg_level</th>\n",
       "      <th>car_company</th>\n",
       "      <th>mpg</th>\n",
       "      <th>displacement</th>\n",
       "      <th>horsepower</th>\n",
       "      <th>weight</th>\n",
       "      <th>acceleration</th>\n",
       "    </tr>\n",
       "  </thead>\n",
       "  <tbody>\n",
       "    <tr>\n",
       "      <th>0</th>\n",
       "      <td>usa</td>\n",
       "      <td>8</td>\n",
       "      <td>70</td>\n",
       "      <td>medium</td>\n",
       "      <td>chevrolet</td>\n",
       "      <td>18.0</td>\n",
       "      <td>307.0</td>\n",
       "      <td>130.0</td>\n",
       "      <td>3504</td>\n",
       "      <td>12.0</td>\n",
       "    </tr>\n",
       "    <tr>\n",
       "      <th>1</th>\n",
       "      <td>usa</td>\n",
       "      <td>8</td>\n",
       "      <td>70</td>\n",
       "      <td>low</td>\n",
       "      <td>buick</td>\n",
       "      <td>15.0</td>\n",
       "      <td>350.0</td>\n",
       "      <td>165.0</td>\n",
       "      <td>3693</td>\n",
       "      <td>11.5</td>\n",
       "    </tr>\n",
       "    <tr>\n",
       "      <th>2</th>\n",
       "      <td>usa</td>\n",
       "      <td>8</td>\n",
       "      <td>70</td>\n",
       "      <td>medium</td>\n",
       "      <td>plymouth</td>\n",
       "      <td>18.0</td>\n",
       "      <td>318.0</td>\n",
       "      <td>150.0</td>\n",
       "      <td>3436</td>\n",
       "      <td>11.0</td>\n",
       "    </tr>\n",
       "    <tr>\n",
       "      <th>3</th>\n",
       "      <td>usa</td>\n",
       "      <td>8</td>\n",
       "      <td>70</td>\n",
       "      <td>low</td>\n",
       "      <td>amc</td>\n",
       "      <td>16.0</td>\n",
       "      <td>304.0</td>\n",
       "      <td>150.0</td>\n",
       "      <td>3433</td>\n",
       "      <td>12.0</td>\n",
       "    </tr>\n",
       "    <tr>\n",
       "      <th>4</th>\n",
       "      <td>usa</td>\n",
       "      <td>8</td>\n",
       "      <td>70</td>\n",
       "      <td>medium</td>\n",
       "      <td>ford</td>\n",
       "      <td>17.0</td>\n",
       "      <td>302.0</td>\n",
       "      <td>140.0</td>\n",
       "      <td>3449</td>\n",
       "      <td>10.5</td>\n",
       "    </tr>\n",
       "  </tbody>\n",
       "</table>\n",
       "</div>"
      ],
      "text/plain": [
       "  origin  cylinders  model_year mpg_level car_company   mpg  displacement  \\\n",
       "0    usa          8          70    medium   chevrolet  18.0         307.0   \n",
       "1    usa          8          70       low       buick  15.0         350.0   \n",
       "2    usa          8          70    medium    plymouth  18.0         318.0   \n",
       "3    usa          8          70       low         amc  16.0         304.0   \n",
       "4    usa          8          70    medium        ford  17.0         302.0   \n",
       "\n",
       "   horsepower  weight  acceleration  \n",
       "0       130.0    3504          12.0  \n",
       "1       165.0    3693          11.5  \n",
       "2       150.0    3436          11.0  \n",
       "3       150.0    3433          12.0  \n",
       "4       140.0    3449          10.5  "
      ]
     },
     "execution_count": 3,
     "metadata": {},
     "output_type": "execute_result"
    }
   ],
   "source": [
    "df.head()"
   ]
  },
  {
   "cell_type": "code",
   "execution_count": null,
   "id": "df3cbf2a-9ba2-4028-ad48-78dd93c7b5c2",
   "metadata": {},
   "outputs": [],
   "source": []
  }
 ],
 "metadata": {
  "kernelspec": {
   "display_name": "Python 3",
   "language": "python",
   "name": "python3"
  },
  "language_info": {
   "codemirror_mode": {
    "name": "ipython",
    "version": 3
   },
   "file_extension": ".py",
   "mimetype": "text/x-python",
   "name": "python",
   "nbconvert_exporter": "python",
   "pygments_lexer": "ipython3",
   "version": "3.8.8"
  }
 },
 "nbformat": 4,
 "nbformat_minor": 5
}
