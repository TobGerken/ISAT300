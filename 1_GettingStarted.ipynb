{
 "cells": [
  {
   "cell_type": "markdown",
   "id": "ddd91c2e-6eda-444b-9ade-509803bf0eea",
   "metadata": {
    "tags": []
   },
   "source": [
    "[![Open In Colab](https://colab.research.google.com/assets/colab-badge.svg)](https://colab.research.google.com/github/TobGerken/ISAT300/blob/main/1_GettingStarted.ipynb)"
   ]
  },
  {
   "cell_type": "markdown",
   "id": "c43866c1-4dd9-4353-9e81-f155fd8f4a23",
   "metadata": {},
   "source": [
    "# Getting Started with Data in Jupyter\n",
    "\n",
    "**This notebook is published on my github. It is publicly accessible, but you cannot save your changes to my github. Learning git & github is beyond the scope of this course. If you are familiar with github, you know that to do. If you don't know github, you can save a personal copy of the file to your google drive, so that you can save your changes and can access them at a later date**\n",
    "\n",
    "<img src=\"https://raw.githubusercontent.com/TobGerken/ISAT300/main/Figures/SaveFile.png \" alt=\"drawing\" width=\"800\"/>\n",
    "\n",
    "## Now lets get started \n",
    "\n",
    "We are starting with some initial data analysis. \n",
    "[Pandas](https://pandas.pydata.org/) is a powerful data analysis tool built on top of [python](www.python.org) to read, manipulate, and visualize data. Much like Excel, python organizes data in Tables, which it calls dataframes. \n",
    "\n",
    "Because pandas is not part of the core python language we have to import it as a module:"
   ]
  },
  {
   "cell_type": "code",
   "execution_count": null,
   "id": "5164b321-7825-456b-9472-359bfe856815",
   "metadata": {},
   "outputs": [],
   "source": [
    "# running this will import pandas.\n",
    "import pandas as pd"
   ]
  },
  {
   "cell_type": "markdown",
   "id": "730c6f27-0262-491b-9dff-2676b84643e8",
   "metadata": {},
   "source": [
    "## Reading data into a pandas dataframe\n",
    "\n",
    "To look at some data, we have to get it into a pandas dataframe. Pandas has a lot of different functions to read data that is saved as a file. \n",
    "\n",
    "I saved a dataset containing MPG values for different cars to the cloud. This file is a CSV file, which stands for 'comma separated values'. We can load the content of this file into a dataframe object that we call `df`."
   ]
  },
  {
   "cell_type": "code",
   "execution_count": null,
   "id": "a18b4a55-abb3-488c-920f-440709400c24",
   "metadata": {},
   "outputs": [],
   "source": [
    "# This loads the data, which is saved online \n",
    "df = pd.read_csv('https://raw.githubusercontent.com/TobGerken/ISAT300/main/Data/mpg_cated.csv')"
   ]
  },
  {
   "cell_type": "markdown",
   "id": "12be4833-6579-409c-947d-65b07be24cf3",
   "metadata": {
    "tags": []
   },
   "source": [
    "When using [Google Collab](https://colab.research.google.com) you can either load data that is stored in the cloud or you can upload data into collab. \n",
    "To do so follow the steps shown below: \n",
    "\n",
    "<img src=\"https://raw.githubusercontent.com/TobGerken/ISAT300/main/Figures/UploadingAFile.PNG \" alt=\"drawing\" width=\"800\"/>\n"
   ]
  },
  {
   "cell_type": "markdown",
   "id": "13b196af-efb5-4b14-bca9-896e903cb76b",
   "metadata": {},
   "source": [
    "Assuming the file is now uploaded to Collab, you can load it to the dataframe by specifying the local path"
   ]
  },
  {
   "cell_type": "code",
   "execution_count": null,
   "id": "ee3896e7-c24c-4f61-bb51-688aebce1212",
   "metadata": {},
   "outputs": [],
   "source": [
    "# don't execute this cell, because we have not uploaded the data.\n",
    "# We have already read the data from the web above. \n",
    "df = pd.read_csv('./mpg_cated.csv')"
   ]
  },
  {
   "cell_type": "markdown",
   "id": "5191f54c-87c7-4fb0-9557-dbbaadcdf28b",
   "metadata": {
    "tags": []
   },
   "source": [
    "Let's have a look at the data"
   ]
  },
  {
   "cell_type": "code",
   "execution_count": null,
   "id": "6ce93803-9d56-4e61-9d03-3ce32d3917d9",
   "metadata": {},
   "outputs": [],
   "source": [
    "df"
   ]
  },
  {
   "cell_type": "markdown",
   "id": "8527ecec-23b8-49f2-bcca-b90853472a8b",
   "metadata": {},
   "source": [
    "**Q: What do we learn from this look?**"
   ]
  },
  {
   "cell_type": "code",
   "execution_count": null,
   "id": "e8945876",
   "metadata": {},
   "outputs": [],
   "source": [
    "# if you want to you can write it in here: \n"
   ]
  },
  {
   "cell_type": "markdown",
   "id": "b22625ba-344b-40c2-b2ad-3aadc5830e52",
   "metadata": {},
   "source": [
    "Here are a few useful commands for exploring the basic data:"
   ]
  },
  {
   "cell_type": "code",
   "execution_count": null,
   "id": "3f67d321-d6fe-4bbd-aec9-2683c0deae5c",
   "metadata": {},
   "outputs": [],
   "source": [
    "# This will display the first couple of rows\n",
    "df.head()"
   ]
  },
  {
   "cell_type": "code",
   "execution_count": null,
   "id": "1c563710-6c62-44ab-8b49-4c79f1f2e6a9",
   "metadata": {},
   "outputs": [],
   "source": [
    "# This will give you the dimension of the data\n",
    "df.shape"
   ]
  },
  {
   "cell_type": "markdown",
   "id": "ede2c560-2205-4d85-9c11-ebb7ea997cae",
   "metadata": {},
   "source": [
    "## Selecting Data \n",
    "\n",
    "Dataframes can be very big and can also have many colums, so sometimes we just want to select a small portion of the dataframe. \n",
    "\n",
    "For example, we can select only the `origin` column. "
   ]
  },
  {
   "cell_type": "code",
   "execution_count": null,
   "id": "5615669e-96b2-4f5e-953f-b0527b5f2c97",
   "metadata": {},
   "outputs": [],
   "source": [
    "df['origin']"
   ]
  },
  {
   "cell_type": "code",
   "execution_count": null,
   "id": "6f3fa4cf-f109-4ba6-8d23-9caa528f30fe",
   "metadata": {},
   "outputs": [],
   "source": [
    "# more than one column is selected like this\n",
    "df[['mpg', 'horsepower']]"
   ]
  },
  {
   "cell_type": "markdown",
   "id": "5f0a697b-862c-4471-a8f2-07ed00f94317",
   "metadata": {},
   "source": [
    "Getting the value counts for categorical and discrete variables is also useful.\n",
    "_Recall your statistics class about `categorical`, `discrete`, and `continuous` data_ "
   ]
  },
  {
   "cell_type": "code",
   "execution_count": null,
   "id": "f965d2fd-b910-47d2-a417-e80c6dc4c72a",
   "metadata": {},
   "outputs": [],
   "source": [
    "df[['origin','cylinders']].value_counts()"
   ]
  },
  {
   "cell_type": "markdown",
   "id": "eb8aa101-0731-466b-a0f0-a720017e9eaa",
   "metadata": {},
   "source": [
    "**Q: What is being displayed here?**\n",
    "\n",
    "**Q: What happens if you try this for continuous variables?**"
   ]
  },
  {
   "cell_type": "code",
   "execution_count": null,
   "id": "54a6facd-85cf-4912-8327-c2663aebc879",
   "metadata": {},
   "outputs": [],
   "source": [
    "## Try it out for the mpg and displacement columns. Is this information useful? \n",
    "\n"
   ]
  },
  {
   "cell_type": "markdown",
   "id": "849db6e9-795a-4c24-9e08-56e88ccc0fc9",
   "metadata": {},
   "source": [
    "# Most basic descriptive statistics \n",
    "\n",
    "We can also generate some very basic descriptive statistics by using panda's `.describe()`"
   ]
  },
  {
   "cell_type": "code",
   "execution_count": null,
   "id": "7fdd86f6-4043-4dcf-b864-01c9b9053f1d",
   "metadata": {},
   "outputs": [],
   "source": [
    "df.describe()"
   ]
  },
  {
   "cell_type": "markdown",
   "id": "5589c548-5540-42d4-9f5f-6c4bbcc7e8ff",
   "metadata": {},
   "source": [
    "**Q: What do you notice?**"
   ]
  },
  {
   "cell_type": "markdown",
   "id": "a0939ee7-9191-4039-aecd-a7f98091758c",
   "metadata": {},
   "source": [
    "Sometimes, we are only interested in a few statistics and we can calculate these directly. "
   ]
  },
  {
   "cell_type": "code",
   "execution_count": null,
   "id": "6865bde5-6980-4bc4-ab5d-604ee169f91d",
   "metadata": {},
   "outputs": [],
   "source": [
    "# Here is an example:\n",
    "df['mpg'].mean()"
   ]
  },
  {
   "cell_type": "code",
   "execution_count": null,
   "id": "864a9699-7cb6-4b06-b0cb-d1bed0947598",
   "metadata": {},
   "outputs": [],
   "source": [
    "# Try calculating the sum (hint: .sum()); median; minimum (.min()), maximum (.max()) in this cell:\n",
    "\n"
   ]
  },
  {
   "cell_type": "markdown",
   "id": "8da4c58d",
   "metadata": {},
   "source": [
    "## Creating New Columns and Doing Math\n",
    "\n",
    "Data analysis required data manipulation and storing the results. \n",
    "\n",
    "For example, we might want convert the weight of the car from pounds to kg like this. \n"
   ]
  },
  {
   "cell_type": "code",
   "execution_count": null,
   "id": "d0233536",
   "metadata": {},
   "outputs": [],
   "source": [
    "df['weight_kg']=df['weight']*0.454 # There are 0.454 lbs in a kg\n",
    "df.head()"
   ]
  },
  {
   "cell_type": "markdown",
   "id": "23e1d9d9",
   "metadata": {},
   "source": [
    "You can even use your calculated statistics to for example find the deviation from the mean. "
   ]
  },
  {
   "cell_type": "code",
   "execution_count": null,
   "id": "45930620",
   "metadata": {},
   "outputs": [],
   "source": [
    "df['weight_kg_deviation']=df['weight_kg']-df['weight_kg'].mean()\n",
    "print('The mean value is:', df['weight_kg'].mean())\n",
    "df.head()\n",
    "# It looks like the US cars that we see are heaver than average, but we cannot be sure from a few data points. "
   ]
  },
  {
   "cell_type": "markdown",
   "id": "1f207866-c5e7-4607-95e8-004d9c037237",
   "metadata": {},
   "source": [
    "## A first attempt at data analysis \n",
    "\n",
    "Maybe we want to find out how US and European cars compare in terms of gas milage. Let's find out. For this we have to learn how to select only the europan and us cars. Luckily pandas can easily do this, because it understands conditionals (you should remember these from your programming class). "
   ]
  },
  {
   "cell_type": "code",
   "execution_count": null,
   "id": "645e8639-829c-4302-8158-4380348a0f06",
   "metadata": {},
   "outputs": [],
   "source": [
    "df['origin']== 'europe'"
   ]
  },
  {
   "cell_type": "code",
   "execution_count": null,
   "id": "3bb850d4-3687-456a-af5e-79a2ceb1b86d",
   "metadata": {},
   "outputs": [],
   "source": [
    "# We can now select all cars that are made in europe and save these to a new dataframe. \n",
    "# the loc command helps us subset the data based on a condition. \n",
    "df_european = df.loc[df['origin']== 'europe']\n",
    "df_european.head()"
   ]
  },
  {
   "cell_type": "code",
   "execution_count": null,
   "id": "ea321830-7b85-4a58-909a-498c2c776a67",
   "metadata": {},
   "outputs": [],
   "source": [
    "# Why don't you do the same thing for us cars and then calculate the average gas milage for european and us cars.  \n",
    "# How do they compare? \n"
   ]
  },
  {
   "cell_type": "code",
   "execution_count": null,
   "id": "1a58a34b",
   "metadata": {},
   "outputs": [],
   "source": []
  }
 ],
 "metadata": {
  "kernelspec": {
   "display_name": "Python 3",
   "language": "python",
   "name": "python3"
  },
  "language_info": {
   "codemirror_mode": {
    "name": "ipython",
    "version": 3
   },
   "file_extension": ".py",
   "mimetype": "text/x-python",
   "name": "python",
   "nbconvert_exporter": "python",
   "pygments_lexer": "ipython3",
   "version": "3.8.8"
  }
 },
 "nbformat": 4,
 "nbformat_minor": 5
}
