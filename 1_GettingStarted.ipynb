{
 "cells": [
  {
   "cell_type": "markdown",
   "id": "ddd91c2e-6eda-444b-9ade-509803bf0eea",
   "metadata": {
    "tags": []
   },
   "source": [
    "[![Open In Colab](https://colab.research.google.com/assets/colab-badge.svg)](https://colab.research.google.com/github/TobGerken/ISAT300/blob/main/1_GettingStarted.ipynb)"
   ]
  },
  {
   "cell_type": "markdown",
   "id": "c43866c1-4dd9-4353-9e81-f155fd8f4a23",
   "metadata": {},
   "source": [
    "# Getting Started with Data in Jupyter\n",
    "\n",
    "We are starting with some initial data analysis. \n",
    "[Pandas](https://pandas.pydata.org/) is a powerful data analysis tool built on top of [python](www.python.org) to read, manipulate, and visualize data. Much like Excel, python organizes data in Tables, which it calls dataframes. \n",
    "\n",
    "Because pandas is not part of the core python language we have to import it as a module:"
   ]
  },
  {
   "cell_type": "code",
   "execution_count": 1,
   "id": "5164b321-7825-456b-9472-359bfe856815",
   "metadata": {},
   "outputs": [],
   "source": [
    "# running this will import pandas.\n",
    "import pandas as pd"
   ]
  },
  {
   "cell_type": "markdown",
   "id": "730c6f27-0262-491b-9dff-2676b84643e8",
   "metadata": {},
   "source": [
    "## Reading data into a pandas dataframe\n",
    "\n",
    "To look at some data, we have to get it into a pandas dataframe. Pandas has a lot of different functions to read data that is saved as a file. \n",
    "\n",
    "I saved a dataset containing MPG values for different cars to the cloud. This file is a CSV file, which stands for 'comma separated values'. We can load the content of this file into a dataframe object that we call `df`."
   ]
  },
  {
   "cell_type": "code",
   "execution_count": 5,
   "id": "a18b4a55-abb3-488c-920f-440709400c24",
   "metadata": {},
   "outputs": [],
   "source": [
    "# This loads the data, which is saved online \n",
    "df = pd.read_csv('https://raw.githubusercontent.com/TobGerken/ISAT300/main/Data/mpg_cated.csv')"
   ]
  },
  {
   "cell_type": "code",
   "execution_count": null,
   "id": "a268cde5-61a1-4bd9-aa66-2e495fd5cfb6",
   "metadata": {
    "jupyter": {
     "source_hidden": true
    },
    "tags": []
   },
   "outputs": [],
   "source": []
  },
  {
   "cell_type": "markdown",
   "id": "12be4833-6579-409c-947d-65b07be24cf3",
   "metadata": {
    "tags": []
   },
   "source": [
    "When using [Google Collab](https://colab.research.google.com) you can either load data that is stored in the cloud or you can upload data into collab. \n",
    "To do so follow the steps shown below: \n",
    "\n",
    "<img src=\"https://raw.githubusercontent.com/TobGerken/ISAT300/main/Figures/UploadingAFile.PNG \" alt=\"drawing\" width=\"800\"/>\n"
   ]
  },
  {
   "cell_type": "markdown",
   "id": "13b196af-efb5-4b14-bca9-896e903cb76b",
   "metadata": {},
   "source": [
    "Assuming the file is now uploaded to Collab, you can load it to the dataframe by specifying the local path"
   ]
  },
  {
   "cell_type": "code",
   "execution_count": 8,
   "id": "ee3896e7-c24c-4f61-bb51-688aebce1212",
   "metadata": {},
   "outputs": [],
   "source": [
    "df = pd.read_csv('./mpg_cated.csv')"
   ]
  },
  {
   "cell_type": "markdown",
   "id": "5191f54c-87c7-4fb0-9557-dbbaadcdf28b",
   "metadata": {
    "tags": []
   },
   "source": [
    "Let's have a look at the data"
   ]
  },
  {
   "cell_type": "code",
   "execution_count": 10,
   "id": "6ce93803-9d56-4e61-9d03-3ce32d3917d9",
   "metadata": {},
   "outputs": [
    {
     "data": {
      "text/html": [
       "<div>\n",
       "<style scoped>\n",
       "    .dataframe tbody tr th:only-of-type {\n",
       "        vertical-align: middle;\n",
       "    }\n",
       "\n",
       "    .dataframe tbody tr th {\n",
       "        vertical-align: top;\n",
       "    }\n",
       "\n",
       "    .dataframe thead th {\n",
       "        text-align: right;\n",
       "    }\n",
       "</style>\n",
       "<table border=\"1\" class=\"dataframe\">\n",
       "  <thead>\n",
       "    <tr style=\"text-align: right;\">\n",
       "      <th></th>\n",
       "      <th>origin</th>\n",
       "      <th>cylinders</th>\n",
       "      <th>model_year</th>\n",
       "      <th>mpg_level</th>\n",
       "      <th>car_company</th>\n",
       "      <th>mpg</th>\n",
       "      <th>displacement</th>\n",
       "      <th>horsepower</th>\n",
       "      <th>weight</th>\n",
       "      <th>acceleration</th>\n",
       "    </tr>\n",
       "  </thead>\n",
       "  <tbody>\n",
       "    <tr>\n",
       "      <th>0</th>\n",
       "      <td>usa</td>\n",
       "      <td>8</td>\n",
       "      <td>70</td>\n",
       "      <td>medium</td>\n",
       "      <td>chevrolet</td>\n",
       "      <td>18.0</td>\n",
       "      <td>307.0</td>\n",
       "      <td>130.0</td>\n",
       "      <td>3504</td>\n",
       "      <td>12.0</td>\n",
       "    </tr>\n",
       "    <tr>\n",
       "      <th>1</th>\n",
       "      <td>usa</td>\n",
       "      <td>8</td>\n",
       "      <td>70</td>\n",
       "      <td>low</td>\n",
       "      <td>buick</td>\n",
       "      <td>15.0</td>\n",
       "      <td>350.0</td>\n",
       "      <td>165.0</td>\n",
       "      <td>3693</td>\n",
       "      <td>11.5</td>\n",
       "    </tr>\n",
       "    <tr>\n",
       "      <th>2</th>\n",
       "      <td>usa</td>\n",
       "      <td>8</td>\n",
       "      <td>70</td>\n",
       "      <td>medium</td>\n",
       "      <td>plymouth</td>\n",
       "      <td>18.0</td>\n",
       "      <td>318.0</td>\n",
       "      <td>150.0</td>\n",
       "      <td>3436</td>\n",
       "      <td>11.0</td>\n",
       "    </tr>\n",
       "    <tr>\n",
       "      <th>3</th>\n",
       "      <td>usa</td>\n",
       "      <td>8</td>\n",
       "      <td>70</td>\n",
       "      <td>low</td>\n",
       "      <td>amc</td>\n",
       "      <td>16.0</td>\n",
       "      <td>304.0</td>\n",
       "      <td>150.0</td>\n",
       "      <td>3433</td>\n",
       "      <td>12.0</td>\n",
       "    </tr>\n",
       "    <tr>\n",
       "      <th>4</th>\n",
       "      <td>usa</td>\n",
       "      <td>8</td>\n",
       "      <td>70</td>\n",
       "      <td>medium</td>\n",
       "      <td>ford</td>\n",
       "      <td>17.0</td>\n",
       "      <td>302.0</td>\n",
       "      <td>140.0</td>\n",
       "      <td>3449</td>\n",
       "      <td>10.5</td>\n",
       "    </tr>\n",
       "    <tr>\n",
       "      <th>...</th>\n",
       "      <td>...</td>\n",
       "      <td>...</td>\n",
       "      <td>...</td>\n",
       "      <td>...</td>\n",
       "      <td>...</td>\n",
       "      <td>...</td>\n",
       "      <td>...</td>\n",
       "      <td>...</td>\n",
       "      <td>...</td>\n",
       "      <td>...</td>\n",
       "    </tr>\n",
       "    <tr>\n",
       "      <th>387</th>\n",
       "      <td>usa</td>\n",
       "      <td>4</td>\n",
       "      <td>82</td>\n",
       "      <td>medium</td>\n",
       "      <td>ford</td>\n",
       "      <td>27.0</td>\n",
       "      <td>140.0</td>\n",
       "      <td>86.0</td>\n",
       "      <td>2790</td>\n",
       "      <td>15.6</td>\n",
       "    </tr>\n",
       "    <tr>\n",
       "      <th>388</th>\n",
       "      <td>europe</td>\n",
       "      <td>4</td>\n",
       "      <td>82</td>\n",
       "      <td>high</td>\n",
       "      <td>vw</td>\n",
       "      <td>44.0</td>\n",
       "      <td>97.0</td>\n",
       "      <td>52.0</td>\n",
       "      <td>2130</td>\n",
       "      <td>24.6</td>\n",
       "    </tr>\n",
       "    <tr>\n",
       "      <th>389</th>\n",
       "      <td>usa</td>\n",
       "      <td>4</td>\n",
       "      <td>82</td>\n",
       "      <td>high</td>\n",
       "      <td>dodge</td>\n",
       "      <td>32.0</td>\n",
       "      <td>135.0</td>\n",
       "      <td>84.0</td>\n",
       "      <td>2295</td>\n",
       "      <td>11.6</td>\n",
       "    </tr>\n",
       "    <tr>\n",
       "      <th>390</th>\n",
       "      <td>usa</td>\n",
       "      <td>4</td>\n",
       "      <td>82</td>\n",
       "      <td>medium</td>\n",
       "      <td>ford</td>\n",
       "      <td>28.0</td>\n",
       "      <td>120.0</td>\n",
       "      <td>79.0</td>\n",
       "      <td>2625</td>\n",
       "      <td>18.6</td>\n",
       "    </tr>\n",
       "    <tr>\n",
       "      <th>391</th>\n",
       "      <td>usa</td>\n",
       "      <td>4</td>\n",
       "      <td>82</td>\n",
       "      <td>high</td>\n",
       "      <td>chevy</td>\n",
       "      <td>31.0</td>\n",
       "      <td>119.0</td>\n",
       "      <td>82.0</td>\n",
       "      <td>2720</td>\n",
       "      <td>19.4</td>\n",
       "    </tr>\n",
       "  </tbody>\n",
       "</table>\n",
       "<p>392 rows × 10 columns</p>\n",
       "</div>"
      ],
      "text/plain": [
       "     origin  cylinders  model_year mpg_level car_company   mpg  displacement  \\\n",
       "0       usa          8          70    medium   chevrolet  18.0         307.0   \n",
       "1       usa          8          70       low       buick  15.0         350.0   \n",
       "2       usa          8          70    medium    plymouth  18.0         318.0   \n",
       "3       usa          8          70       low         amc  16.0         304.0   \n",
       "4       usa          8          70    medium        ford  17.0         302.0   \n",
       "..      ...        ...         ...       ...         ...   ...           ...   \n",
       "387     usa          4          82    medium        ford  27.0         140.0   \n",
       "388  europe          4          82      high          vw  44.0          97.0   \n",
       "389     usa          4          82      high       dodge  32.0         135.0   \n",
       "390     usa          4          82    medium        ford  28.0         120.0   \n",
       "391     usa          4          82      high       chevy  31.0         119.0   \n",
       "\n",
       "     horsepower  weight  acceleration  \n",
       "0         130.0    3504          12.0  \n",
       "1         165.0    3693          11.5  \n",
       "2         150.0    3436          11.0  \n",
       "3         150.0    3433          12.0  \n",
       "4         140.0    3449          10.5  \n",
       "..          ...     ...           ...  \n",
       "387        86.0    2790          15.6  \n",
       "388        52.0    2130          24.6  \n",
       "389        84.0    2295          11.6  \n",
       "390        79.0    2625          18.6  \n",
       "391        82.0    2720          19.4  \n",
       "\n",
       "[392 rows x 10 columns]"
      ]
     },
     "execution_count": 10,
     "metadata": {},
     "output_type": "execute_result"
    }
   ],
   "source": [
    "df"
   ]
  },
  {
   "cell_type": "markdown",
   "id": "8527ecec-23b8-49f2-bcca-b90853472a8b",
   "metadata": {},
   "source": [
    "**Q: What do we learn from this look?**"
   ]
  },
  {
   "cell_type": "markdown",
   "id": "b22625ba-344b-40c2-b2ad-3aadc5830e52",
   "metadata": {},
   "source": [
    "Here are a few useful commands for exploring the basic data:"
   ]
  },
  {
   "cell_type": "code",
   "execution_count": 11,
   "id": "3f67d321-d6fe-4bbd-aec9-2683c0deae5c",
   "metadata": {},
   "outputs": [
    {
     "data": {
      "text/html": [
       "<div>\n",
       "<style scoped>\n",
       "    .dataframe tbody tr th:only-of-type {\n",
       "        vertical-align: middle;\n",
       "    }\n",
       "\n",
       "    .dataframe tbody tr th {\n",
       "        vertical-align: top;\n",
       "    }\n",
       "\n",
       "    .dataframe thead th {\n",
       "        text-align: right;\n",
       "    }\n",
       "</style>\n",
       "<table border=\"1\" class=\"dataframe\">\n",
       "  <thead>\n",
       "    <tr style=\"text-align: right;\">\n",
       "      <th></th>\n",
       "      <th>origin</th>\n",
       "      <th>cylinders</th>\n",
       "      <th>model_year</th>\n",
       "      <th>mpg_level</th>\n",
       "      <th>car_company</th>\n",
       "      <th>mpg</th>\n",
       "      <th>displacement</th>\n",
       "      <th>horsepower</th>\n",
       "      <th>weight</th>\n",
       "      <th>acceleration</th>\n",
       "    </tr>\n",
       "  </thead>\n",
       "  <tbody>\n",
       "    <tr>\n",
       "      <th>0</th>\n",
       "      <td>usa</td>\n",
       "      <td>8</td>\n",
       "      <td>70</td>\n",
       "      <td>medium</td>\n",
       "      <td>chevrolet</td>\n",
       "      <td>18.0</td>\n",
       "      <td>307.0</td>\n",
       "      <td>130.0</td>\n",
       "      <td>3504</td>\n",
       "      <td>12.0</td>\n",
       "    </tr>\n",
       "    <tr>\n",
       "      <th>1</th>\n",
       "      <td>usa</td>\n",
       "      <td>8</td>\n",
       "      <td>70</td>\n",
       "      <td>low</td>\n",
       "      <td>buick</td>\n",
       "      <td>15.0</td>\n",
       "      <td>350.0</td>\n",
       "      <td>165.0</td>\n",
       "      <td>3693</td>\n",
       "      <td>11.5</td>\n",
       "    </tr>\n",
       "    <tr>\n",
       "      <th>2</th>\n",
       "      <td>usa</td>\n",
       "      <td>8</td>\n",
       "      <td>70</td>\n",
       "      <td>medium</td>\n",
       "      <td>plymouth</td>\n",
       "      <td>18.0</td>\n",
       "      <td>318.0</td>\n",
       "      <td>150.0</td>\n",
       "      <td>3436</td>\n",
       "      <td>11.0</td>\n",
       "    </tr>\n",
       "    <tr>\n",
       "      <th>3</th>\n",
       "      <td>usa</td>\n",
       "      <td>8</td>\n",
       "      <td>70</td>\n",
       "      <td>low</td>\n",
       "      <td>amc</td>\n",
       "      <td>16.0</td>\n",
       "      <td>304.0</td>\n",
       "      <td>150.0</td>\n",
       "      <td>3433</td>\n",
       "      <td>12.0</td>\n",
       "    </tr>\n",
       "    <tr>\n",
       "      <th>4</th>\n",
       "      <td>usa</td>\n",
       "      <td>8</td>\n",
       "      <td>70</td>\n",
       "      <td>medium</td>\n",
       "      <td>ford</td>\n",
       "      <td>17.0</td>\n",
       "      <td>302.0</td>\n",
       "      <td>140.0</td>\n",
       "      <td>3449</td>\n",
       "      <td>10.5</td>\n",
       "    </tr>\n",
       "  </tbody>\n",
       "</table>\n",
       "</div>"
      ],
      "text/plain": [
       "  origin  cylinders  model_year mpg_level car_company   mpg  displacement  \\\n",
       "0    usa          8          70    medium   chevrolet  18.0         307.0   \n",
       "1    usa          8          70       low       buick  15.0         350.0   \n",
       "2    usa          8          70    medium    plymouth  18.0         318.0   \n",
       "3    usa          8          70       low         amc  16.0         304.0   \n",
       "4    usa          8          70    medium        ford  17.0         302.0   \n",
       "\n",
       "   horsepower  weight  acceleration  \n",
       "0       130.0    3504          12.0  \n",
       "1       165.0    3693          11.5  \n",
       "2       150.0    3436          11.0  \n",
       "3       150.0    3433          12.0  \n",
       "4       140.0    3449          10.5  "
      ]
     },
     "execution_count": 11,
     "metadata": {},
     "output_type": "execute_result"
    }
   ],
   "source": [
    "# This will display the first couple of rows\n",
    "df.head()"
   ]
  },
  {
   "cell_type": "code",
   "execution_count": 12,
   "id": "1c563710-6c62-44ab-8b49-4c79f1f2e6a9",
   "metadata": {},
   "outputs": [
    {
     "data": {
      "text/plain": [
       "(392, 10)"
      ]
     },
     "execution_count": 12,
     "metadata": {},
     "output_type": "execute_result"
    }
   ],
   "source": [
    "# This will give you the dimension of the data\n",
    "df.shape"
   ]
  },
  {
   "cell_type": "markdown",
   "id": "ede2c560-2205-4d85-9c11-ebb7ea997cae",
   "metadata": {},
   "source": [
    "## Selecting Data \n",
    "\n",
    "Dataframes can be very big and can also have many colums, so sometimes we just want to select a small portion of the dataframe. \n",
    "\n",
    "For example, we can select only the `origin` column. "
   ]
  },
  {
   "cell_type": "code",
   "execution_count": 13,
   "id": "5615669e-96b2-4f5e-953f-b0527b5f2c97",
   "metadata": {},
   "outputs": [
    {
     "data": {
      "text/plain": [
       "0         usa\n",
       "1         usa\n",
       "2         usa\n",
       "3         usa\n",
       "4         usa\n",
       "        ...  \n",
       "387       usa\n",
       "388    europe\n",
       "389       usa\n",
       "390       usa\n",
       "391       usa\n",
       "Name: origin, Length: 392, dtype: object"
      ]
     },
     "execution_count": 13,
     "metadata": {},
     "output_type": "execute_result"
    }
   ],
   "source": [
    "df['origin']"
   ]
  },
  {
   "cell_type": "code",
   "execution_count": 24,
   "id": "6f3fa4cf-f109-4ba6-8d23-9caa528f30fe",
   "metadata": {},
   "outputs": [
    {
     "data": {
      "text/html": [
       "<div>\n",
       "<style scoped>\n",
       "    .dataframe tbody tr th:only-of-type {\n",
       "        vertical-align: middle;\n",
       "    }\n",
       "\n",
       "    .dataframe tbody tr th {\n",
       "        vertical-align: top;\n",
       "    }\n",
       "\n",
       "    .dataframe thead th {\n",
       "        text-align: right;\n",
       "    }\n",
       "</style>\n",
       "<table border=\"1\" class=\"dataframe\">\n",
       "  <thead>\n",
       "    <tr style=\"text-align: right;\">\n",
       "      <th></th>\n",
       "      <th>mpg</th>\n",
       "      <th>horsepower</th>\n",
       "    </tr>\n",
       "  </thead>\n",
       "  <tbody>\n",
       "    <tr>\n",
       "      <th>0</th>\n",
       "      <td>18.0</td>\n",
       "      <td>130.0</td>\n",
       "    </tr>\n",
       "    <tr>\n",
       "      <th>1</th>\n",
       "      <td>15.0</td>\n",
       "      <td>165.0</td>\n",
       "    </tr>\n",
       "    <tr>\n",
       "      <th>2</th>\n",
       "      <td>18.0</td>\n",
       "      <td>150.0</td>\n",
       "    </tr>\n",
       "    <tr>\n",
       "      <th>3</th>\n",
       "      <td>16.0</td>\n",
       "      <td>150.0</td>\n",
       "    </tr>\n",
       "    <tr>\n",
       "      <th>4</th>\n",
       "      <td>17.0</td>\n",
       "      <td>140.0</td>\n",
       "    </tr>\n",
       "    <tr>\n",
       "      <th>...</th>\n",
       "      <td>...</td>\n",
       "      <td>...</td>\n",
       "    </tr>\n",
       "    <tr>\n",
       "      <th>387</th>\n",
       "      <td>27.0</td>\n",
       "      <td>86.0</td>\n",
       "    </tr>\n",
       "    <tr>\n",
       "      <th>388</th>\n",
       "      <td>44.0</td>\n",
       "      <td>52.0</td>\n",
       "    </tr>\n",
       "    <tr>\n",
       "      <th>389</th>\n",
       "      <td>32.0</td>\n",
       "      <td>84.0</td>\n",
       "    </tr>\n",
       "    <tr>\n",
       "      <th>390</th>\n",
       "      <td>28.0</td>\n",
       "      <td>79.0</td>\n",
       "    </tr>\n",
       "    <tr>\n",
       "      <th>391</th>\n",
       "      <td>31.0</td>\n",
       "      <td>82.0</td>\n",
       "    </tr>\n",
       "  </tbody>\n",
       "</table>\n",
       "<p>392 rows × 2 columns</p>\n",
       "</div>"
      ],
      "text/plain": [
       "      mpg  horsepower\n",
       "0    18.0       130.0\n",
       "1    15.0       165.0\n",
       "2    18.0       150.0\n",
       "3    16.0       150.0\n",
       "4    17.0       140.0\n",
       "..    ...         ...\n",
       "387  27.0        86.0\n",
       "388  44.0        52.0\n",
       "389  32.0        84.0\n",
       "390  28.0        79.0\n",
       "391  31.0        82.0\n",
       "\n",
       "[392 rows x 2 columns]"
      ]
     },
     "execution_count": 24,
     "metadata": {},
     "output_type": "execute_result"
    }
   ],
   "source": [
    "# more than one column is selected like this\n",
    "df[['mpg', 'horsepower']]"
   ]
  },
  {
   "cell_type": "markdown",
   "id": "5f0a697b-862c-4471-a8f2-07ed00f94317",
   "metadata": {},
   "source": [
    "Getting the value counts for categorical variables is also useful."
   ]
  },
  {
   "cell_type": "code",
   "execution_count": 25,
   "id": "f965d2fd-b910-47d2-a417-e80c6dc4c72a",
   "metadata": {},
   "outputs": [
    {
     "data": {
      "text/plain": [
       "origin  cylinders\n",
       "usa     8            103\n",
       "        6             73\n",
       "japan   4             69\n",
       "usa     4             69\n",
       "europe  4             61\n",
       "japan   6              6\n",
       "europe  6              4\n",
       "japan   3              4\n",
       "europe  5              3\n",
       "dtype: int64"
      ]
     },
     "execution_count": 25,
     "metadata": {},
     "output_type": "execute_result"
    }
   ],
   "source": [
    "df[['origin','cylinders']].value_counts()"
   ]
  },
  {
   "cell_type": "markdown",
   "id": "eb8aa101-0731-466b-a0f0-a720017e9eaa",
   "metadata": {},
   "source": [
    "**Q: What happens if you try this for continuous variables?**"
   ]
  },
  {
   "cell_type": "code",
   "execution_count": 29,
   "id": "54a6facd-85cf-4912-8327-c2663aebc879",
   "metadata": {},
   "outputs": [],
   "source": [
    "## Try it out for the mpg and displacement columns. Is this information useful? \n",
    "\n"
   ]
  },
  {
   "cell_type": "markdown",
   "id": "849db6e9-795a-4c24-9e08-56e88ccc0fc9",
   "metadata": {},
   "source": [
    "# Most basic descriptive statistics \n",
    "\n",
    "We can also generate some very basic descriptive statistics by using panda's `.describe()`"
   ]
  },
  {
   "cell_type": "code",
   "execution_count": 15,
   "id": "7fdd86f6-4043-4dcf-b864-01c9b9053f1d",
   "metadata": {},
   "outputs": [
    {
     "data": {
      "text/html": [
       "<div>\n",
       "<style scoped>\n",
       "    .dataframe tbody tr th:only-of-type {\n",
       "        vertical-align: middle;\n",
       "    }\n",
       "\n",
       "    .dataframe tbody tr th {\n",
       "        vertical-align: top;\n",
       "    }\n",
       "\n",
       "    .dataframe thead th {\n",
       "        text-align: right;\n",
       "    }\n",
       "</style>\n",
       "<table border=\"1\" class=\"dataframe\">\n",
       "  <thead>\n",
       "    <tr style=\"text-align: right;\">\n",
       "      <th></th>\n",
       "      <th>cylinders</th>\n",
       "      <th>model_year</th>\n",
       "      <th>mpg</th>\n",
       "      <th>displacement</th>\n",
       "      <th>horsepower</th>\n",
       "      <th>weight</th>\n",
       "      <th>acceleration</th>\n",
       "    </tr>\n",
       "  </thead>\n",
       "  <tbody>\n",
       "    <tr>\n",
       "      <th>count</th>\n",
       "      <td>392.000000</td>\n",
       "      <td>392.000000</td>\n",
       "      <td>392.000000</td>\n",
       "      <td>392.000000</td>\n",
       "      <td>392.000000</td>\n",
       "      <td>392.000000</td>\n",
       "      <td>392.000000</td>\n",
       "    </tr>\n",
       "    <tr>\n",
       "      <th>mean</th>\n",
       "      <td>5.471939</td>\n",
       "      <td>75.979592</td>\n",
       "      <td>23.445918</td>\n",
       "      <td>194.411990</td>\n",
       "      <td>104.469388</td>\n",
       "      <td>2977.584184</td>\n",
       "      <td>15.541327</td>\n",
       "    </tr>\n",
       "    <tr>\n",
       "      <th>std</th>\n",
       "      <td>1.705783</td>\n",
       "      <td>3.683737</td>\n",
       "      <td>7.805007</td>\n",
       "      <td>104.644004</td>\n",
       "      <td>38.491160</td>\n",
       "      <td>849.402560</td>\n",
       "      <td>2.758864</td>\n",
       "    </tr>\n",
       "    <tr>\n",
       "      <th>min</th>\n",
       "      <td>3.000000</td>\n",
       "      <td>70.000000</td>\n",
       "      <td>9.000000</td>\n",
       "      <td>68.000000</td>\n",
       "      <td>46.000000</td>\n",
       "      <td>1613.000000</td>\n",
       "      <td>8.000000</td>\n",
       "    </tr>\n",
       "    <tr>\n",
       "      <th>25%</th>\n",
       "      <td>4.000000</td>\n",
       "      <td>73.000000</td>\n",
       "      <td>17.000000</td>\n",
       "      <td>105.000000</td>\n",
       "      <td>75.000000</td>\n",
       "      <td>2225.250000</td>\n",
       "      <td>13.775000</td>\n",
       "    </tr>\n",
       "    <tr>\n",
       "      <th>50%</th>\n",
       "      <td>4.000000</td>\n",
       "      <td>76.000000</td>\n",
       "      <td>22.750000</td>\n",
       "      <td>151.000000</td>\n",
       "      <td>93.500000</td>\n",
       "      <td>2803.500000</td>\n",
       "      <td>15.500000</td>\n",
       "    </tr>\n",
       "    <tr>\n",
       "      <th>75%</th>\n",
       "      <td>8.000000</td>\n",
       "      <td>79.000000</td>\n",
       "      <td>29.000000</td>\n",
       "      <td>275.750000</td>\n",
       "      <td>126.000000</td>\n",
       "      <td>3614.750000</td>\n",
       "      <td>17.025000</td>\n",
       "    </tr>\n",
       "    <tr>\n",
       "      <th>max</th>\n",
       "      <td>8.000000</td>\n",
       "      <td>82.000000</td>\n",
       "      <td>46.600000</td>\n",
       "      <td>455.000000</td>\n",
       "      <td>230.000000</td>\n",
       "      <td>5140.000000</td>\n",
       "      <td>24.800000</td>\n",
       "    </tr>\n",
       "  </tbody>\n",
       "</table>\n",
       "</div>"
      ],
      "text/plain": [
       "        cylinders  model_year         mpg  displacement  horsepower  \\\n",
       "count  392.000000  392.000000  392.000000    392.000000  392.000000   \n",
       "mean     5.471939   75.979592   23.445918    194.411990  104.469388   \n",
       "std      1.705783    3.683737    7.805007    104.644004   38.491160   \n",
       "min      3.000000   70.000000    9.000000     68.000000   46.000000   \n",
       "25%      4.000000   73.000000   17.000000    105.000000   75.000000   \n",
       "50%      4.000000   76.000000   22.750000    151.000000   93.500000   \n",
       "75%      8.000000   79.000000   29.000000    275.750000  126.000000   \n",
       "max      8.000000   82.000000   46.600000    455.000000  230.000000   \n",
       "\n",
       "            weight  acceleration  \n",
       "count   392.000000    392.000000  \n",
       "mean   2977.584184     15.541327  \n",
       "std     849.402560      2.758864  \n",
       "min    1613.000000      8.000000  \n",
       "25%    2225.250000     13.775000  \n",
       "50%    2803.500000     15.500000  \n",
       "75%    3614.750000     17.025000  \n",
       "max    5140.000000     24.800000  "
      ]
     },
     "execution_count": 15,
     "metadata": {},
     "output_type": "execute_result"
    }
   ],
   "source": [
    "df.describe()"
   ]
  },
  {
   "cell_type": "markdown",
   "id": "5589c548-5540-42d4-9f5f-6c4bbcc7e8ff",
   "metadata": {},
   "source": [
    "**Q: What do you notice?**"
   ]
  },
  {
   "cell_type": "markdown",
   "id": "a0939ee7-9191-4039-aecd-a7f98091758c",
   "metadata": {},
   "source": [
    "Sometimes, we are only interested in a few statistics and we can calculate these directly. "
   ]
  },
  {
   "cell_type": "code",
   "execution_count": 20,
   "id": "6865bde5-6980-4bc4-ab5d-604ee169f91d",
   "metadata": {},
   "outputs": [
    {
     "data": {
      "text/plain": [
       "23.44591836734694"
      ]
     },
     "execution_count": 20,
     "metadata": {},
     "output_type": "execute_result"
    }
   ],
   "source": [
    "# Here is an example:\n",
    "df['mpg'].mean()"
   ]
  },
  {
   "cell_type": "code",
   "execution_count": 22,
   "id": "864a9699-7cb6-4b06-b0cb-d1bed0947598",
   "metadata": {},
   "outputs": [],
   "source": [
    "# Try calculating the sum (hint: .sum()); median; minimum (min), maximum (max) in this cell:\n",
    "\n"
   ]
  },
  {
   "cell_type": "code",
   "execution_count": 23,
   "id": "1f7cb54f-8472-4d5f-a73e-1d7f7c296f2b",
   "metadata": {},
   "outputs": [
    {
     "data": {
      "text/plain": [
       "usa       245\n",
       "japan      79\n",
       "europe     68\n",
       "Name: origin, dtype: int64"
      ]
     },
     "execution_count": 23,
     "metadata": {},
     "output_type": "execute_result"
    }
   ],
   "source": []
  },
  {
   "cell_type": "markdown",
   "id": "1f207866-c5e7-4607-95e8-004d9c037237",
   "metadata": {},
   "source": [
    "## A first attempt at data analysis \n",
    "\n",
    "Maybe we want to find out how US and European cars compare in terms of gas milage. Let's find out. For this we have to learn how to select only the europan and us cars. Luckily pandas can easily do this, because it understands conditionals (you should remember these from your programming class). "
   ]
  },
  {
   "cell_type": "code",
   "execution_count": 30,
   "id": "645e8639-829c-4302-8158-4380348a0f06",
   "metadata": {},
   "outputs": [
    {
     "data": {
      "text/plain": [
       "0      False\n",
       "1      False\n",
       "2      False\n",
       "3      False\n",
       "4      False\n",
       "       ...  \n",
       "387    False\n",
       "388     True\n",
       "389    False\n",
       "390    False\n",
       "391    False\n",
       "Name: origin, Length: 392, dtype: bool"
      ]
     },
     "execution_count": 30,
     "metadata": {},
     "output_type": "execute_result"
    }
   ],
   "source": [
    "df['origin']== 'europe'"
   ]
  },
  {
   "cell_type": "code",
   "execution_count": 32,
   "id": "3bb850d4-3687-456a-af5e-79a2ceb1b86d",
   "metadata": {},
   "outputs": [
    {
     "data": {
      "text/html": [
       "<div>\n",
       "<style scoped>\n",
       "    .dataframe tbody tr th:only-of-type {\n",
       "        vertical-align: middle;\n",
       "    }\n",
       "\n",
       "    .dataframe tbody tr th {\n",
       "        vertical-align: top;\n",
       "    }\n",
       "\n",
       "    .dataframe thead th {\n",
       "        text-align: right;\n",
       "    }\n",
       "</style>\n",
       "<table border=\"1\" class=\"dataframe\">\n",
       "  <thead>\n",
       "    <tr style=\"text-align: right;\">\n",
       "      <th></th>\n",
       "      <th>origin</th>\n",
       "      <th>cylinders</th>\n",
       "      <th>model_year</th>\n",
       "      <th>mpg_level</th>\n",
       "      <th>car_company</th>\n",
       "      <th>mpg</th>\n",
       "      <th>displacement</th>\n",
       "      <th>horsepower</th>\n",
       "      <th>weight</th>\n",
       "      <th>acceleration</th>\n",
       "    </tr>\n",
       "  </thead>\n",
       "  <tbody>\n",
       "    <tr>\n",
       "      <th>19</th>\n",
       "      <td>europe</td>\n",
       "      <td>4</td>\n",
       "      <td>70</td>\n",
       "      <td>medium</td>\n",
       "      <td>volkswagen</td>\n",
       "      <td>26.0</td>\n",
       "      <td>97.0</td>\n",
       "      <td>46.0</td>\n",
       "      <td>1835</td>\n",
       "      <td>20.5</td>\n",
       "    </tr>\n",
       "    <tr>\n",
       "      <th>20</th>\n",
       "      <td>europe</td>\n",
       "      <td>4</td>\n",
       "      <td>70</td>\n",
       "      <td>medium</td>\n",
       "      <td>peugeot</td>\n",
       "      <td>25.0</td>\n",
       "      <td>110.0</td>\n",
       "      <td>87.0</td>\n",
       "      <td>2672</td>\n",
       "      <td>17.5</td>\n",
       "    </tr>\n",
       "    <tr>\n",
       "      <th>21</th>\n",
       "      <td>europe</td>\n",
       "      <td>4</td>\n",
       "      <td>70</td>\n",
       "      <td>medium</td>\n",
       "      <td>audi</td>\n",
       "      <td>24.0</td>\n",
       "      <td>107.0</td>\n",
       "      <td>90.0</td>\n",
       "      <td>2430</td>\n",
       "      <td>14.5</td>\n",
       "    </tr>\n",
       "    <tr>\n",
       "      <th>22</th>\n",
       "      <td>europe</td>\n",
       "      <td>4</td>\n",
       "      <td>70</td>\n",
       "      <td>medium</td>\n",
       "      <td>saab</td>\n",
       "      <td>25.0</td>\n",
       "      <td>104.0</td>\n",
       "      <td>95.0</td>\n",
       "      <td>2375</td>\n",
       "      <td>17.5</td>\n",
       "    </tr>\n",
       "    <tr>\n",
       "      <th>23</th>\n",
       "      <td>europe</td>\n",
       "      <td>4</td>\n",
       "      <td>70</td>\n",
       "      <td>medium</td>\n",
       "      <td>bmw</td>\n",
       "      <td>26.0</td>\n",
       "      <td>121.0</td>\n",
       "      <td>113.0</td>\n",
       "      <td>2234</td>\n",
       "      <td>12.5</td>\n",
       "    </tr>\n",
       "  </tbody>\n",
       "</table>\n",
       "</div>"
      ],
      "text/plain": [
       "    origin  cylinders  model_year mpg_level car_company   mpg  displacement  \\\n",
       "19  europe          4          70    medium  volkswagen  26.0          97.0   \n",
       "20  europe          4          70    medium     peugeot  25.0         110.0   \n",
       "21  europe          4          70    medium        audi  24.0         107.0   \n",
       "22  europe          4          70    medium        saab  25.0         104.0   \n",
       "23  europe          4          70    medium         bmw  26.0         121.0   \n",
       "\n",
       "    horsepower  weight  acceleration  \n",
       "19        46.0    1835          20.5  \n",
       "20        87.0    2672          17.5  \n",
       "21        90.0    2430          14.5  \n",
       "22        95.0    2375          17.5  \n",
       "23       113.0    2234          12.5  "
      ]
     },
     "execution_count": 32,
     "metadata": {},
     "output_type": "execute_result"
    }
   ],
   "source": [
    "# We can now select all cars that are made in europe and save these to a new dataframe. \n",
    "# the loc command helps us subset the data based on a condition. \n",
    "df_european = df.loc[df['origin']== 'europe']\n",
    "df_european.head()"
   ]
  },
  {
   "cell_type": "code",
   "execution_count": null,
   "id": "ea321830-7b85-4a58-909a-498c2c776a67",
   "metadata": {},
   "outputs": [],
   "source": [
    "# Why don't you do the same thing for us cars and then calculate for each of these average gas milage. \n",
    "\n"
   ]
  }
 ],
 "metadata": {
  "kernelspec": {
   "display_name": "Python 3",
   "language": "python",
   "name": "python3"
  },
  "language_info": {
   "codemirror_mode": {
    "name": "ipython",
    "version": 3
   },
   "file_extension": ".py",
   "mimetype": "text/x-python",
   "name": "python",
   "nbconvert_exporter": "python",
   "pygments_lexer": "ipython3",
   "version": "3.8.8"
  }
 },
 "nbformat": 4,
 "nbformat_minor": 5
}
