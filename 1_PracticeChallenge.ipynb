{
 "cells": [
  {
   "cell_type": "markdown",
   "id": "ddd91c2e-6eda-444b-9ade-509803bf0eea",
   "metadata": {
    "tags": []
   },
   "source": [
    "[![Open In Colab](https://colab.research.google.com/assets/colab-badge.svg)](https://colab.research.google.com/github/TobGerken/ISAT300/blob/main/1_PracticeChallenge.ipynb)"
   ]
  },
  {
   "cell_type": "markdown",
   "id": "c43866c1-4dd9-4353-9e81-f155fd8f4a23",
   "metadata": {},
   "source": [
    "This notebook assumes that you have completed the lecture data-analysis notebook \n",
    "\n",
    "1. [Getting Started](https://colab.research.google.com/github/TobGerken/ISAT300/blob/main/1_GettingStarted.ipynb)\n",
    "\n",
    "# First Practice Challenge\n",
    "\n",
    "**This notebook is published on my github. It is publicly accessible, but you cannot save your changes to my github. Learning git & github is beyond the scope of this course. If you are familiar with github, you know that to do. If you don't know github, you can save a personal copy of the file to your google drive, so that you can save your changes and can access them at a later date**\n",
    "\n",
    "<img src=\"https://raw.githubusercontent.com/TobGerken/ISAT300/main/Figures/SaveFile.png \" alt=\"drawing\" width=\"800\"/>\n"
   ]
  },
  {
   "cell_type": "markdown",
   "id": "e0729800-6516-4a0f-8ffa-98d5427eef64",
   "metadata": {
    "jp-MarkdownHeadingCollapsed": true
   },
   "source": [
    "## Learning Goals \n",
    "\n",
    "This exercise is designed to for you to practice some of the data analysis skills that we have encountered in the first data analysis lession. \n",
    "We will apply them to a commonly used data-set of house prices. \n",
    "\n",
    "After completing this exercise, you should be able to:\n",
    "\n",
    "- use pandas with google collab to read data into a dataframe object\n",
    "- understand how data is organized into rows and columns\n",
    "- select one or multiple columns from the dataset\n",
    "- apply descriptive statistics methods to data in columns\n",
    "- select data based on a condition\n"
   ]
  },
  {
   "cell_type": "markdown",
   "id": "ed4a33e5-9af7-4e9b-8d4c-045dce5a146a",
   "metadata": {},
   "source": [
    "## Now lets get started \n",
    "\n",
    "\n",
    "\n",
    "Because pandas is not part of the core python language we have to import it as a module:"
   ]
  },
  {
   "cell_type": "code",
   "execution_count": 2,
   "id": "5164b321-7825-456b-9472-359bfe856815",
   "metadata": {},
   "outputs": [],
   "source": [
    "# running this will import pandas.\n",
    "import pandas as pd"
   ]
  },
  {
   "cell_type": "markdown",
   "id": "730c6f27-0262-491b-9dff-2676b84643e8",
   "metadata": {},
   "source": [
    "## Reading data into a pandas dataframe\n",
    "\n",
    "The housing data is both saved online (`'https://raw.githubusercontent.com/TobGerken/ISAT300/main/Data/Housing.csv'`) and to canvas. \n",
    "\n",
    "See how we did it in lecture and load the data to a dataframe.\n"
   ]
  },
  {
   "cell_type": "code",
   "execution_count": 25,
   "id": "a18b4a55-abb3-488c-920f-440709400c24",
   "metadata": {},
   "outputs": [
    {
     "ename": "TypeError",
     "evalue": "read_csv() missing 1 required positional argument: 'filepath_or_buffer'",
     "output_type": "error",
     "traceback": [
      "\u001b[1;31m---------------------------------------------------------------------------\u001b[0m",
      "\u001b[1;31mTypeError\u001b[0m                                 Traceback (most recent call last)",
      "Cell \u001b[1;32mIn[25], line 2\u001b[0m\n\u001b[0;32m      1\u001b[0m \u001b[38;5;66;03m# Complete the code below to load the data \u001b[39;00m\n\u001b[1;32m----> 2\u001b[0m df \u001b[38;5;241m=\u001b[39m \u001b[43mpd\u001b[49m\u001b[38;5;241;43m.\u001b[39;49m\u001b[43mread_csv\u001b[49m\u001b[43m(\u001b[49m\u001b[43m)\u001b[49m \u001b[38;5;66;03m#\u001b[39;00m\n",
      "\u001b[1;31mTypeError\u001b[0m: read_csv() missing 1 required positional argument: 'filepath_or_buffer'"
     ]
    }
   ],
   "source": [
    "# Complete the code below to load the data \n",
    "df = pd.read_csv() #\n"
   ]
  },
  {
   "cell_type": "markdown",
   "id": "ad73f81c-4d26-4748-a269-786d775718cd",
   "metadata": {},
   "source": [
    "## Exploring the data \n",
    "\n",
    "Let's find out how the data looks. Display it and find out what each column means: "
   ]
  },
  {
   "cell_type": "code",
   "execution_count": null,
   "id": "7e176fb9-d2a8-43ee-8273-520c4bcf634b",
   "metadata": {},
   "outputs": [],
   "source": []
  },
  {
   "cell_type": "markdown",
   "id": "8a310520-3f44-4957-9f3d-cc0f9dd2e0d2",
   "metadata": {},
   "source": [
    "We can also apply the `.info()` to the dataframe to learn more about our dataset:"
   ]
  },
  {
   "cell_type": "code",
   "execution_count": null,
   "id": "18dd38f5-0422-4d51-9eb2-ce33ab8ad0ca",
   "metadata": {},
   "outputs": [],
   "source": []
  },
  {
   "cell_type": "markdown",
   "id": "5191f54c-87c7-4fb0-9557-dbbaadcdf28b",
   "metadata": {
    "tags": []
   },
   "source": [
    "You also want to find the shape (e.g. how many entries you have): "
   ]
  },
  {
   "cell_type": "code",
   "execution_count": null,
   "id": "6ce93803-9d56-4e61-9d03-3ce32d3917d9",
   "metadata": {},
   "outputs": [],
   "source": []
  },
  {
   "cell_type": "markdown",
   "id": "26220fe6-4cfc-4b00-83d9-eeb878e840a8",
   "metadata": {},
   "source": [
    "## Selecting Data and Statistics\n",
    "\n",
    "As a next step, lets find out a bit more about our dataset. Try the selectring the column with the house price and find the mean price of the houses in the dataset. "
   ]
  },
  {
   "cell_type": "code",
   "execution_count": null,
   "id": "a55debf8-4aef-4cec-a6cb-b0f6002feb05",
   "metadata": {},
   "outputs": [],
   "source": []
  },
  {
   "cell_type": "markdown",
   "id": "197b321e-7711-430d-9b69-a62496819675",
   "metadata": {},
   "source": [
    "We also want to find the standard deviation of the house prices: "
   ]
  },
  {
   "cell_type": "code",
   "execution_count": null,
   "id": "a065e880-ad29-4be0-94bb-31fda8026151",
   "metadata": {},
   "outputs": [],
   "source": []
  },
  {
   "cell_type": "markdown",
   "id": "b22625ba-344b-40c2-b2ad-3aadc5830e52",
   "metadata": {},
   "source": [
    "We can also use the `.value_counts()` method to count for example how many of the houses have air conditioning. Give it a try by selecting the right columns and by applying the method. "
   ]
  },
  {
   "cell_type": "code",
   "execution_count": null,
   "id": "726d5d3b-920a-4bfa-85ec-72d3d1875bb8",
   "metadata": {},
   "outputs": [],
   "source": []
  },
  {
   "cell_type": "markdown",
   "id": "ede2c560-2205-4d85-9c11-ebb7ea997cae",
   "metadata": {},
   "source": [
    "## First Data Analysis \n",
    "\n",
    "Let's try to find out, whether houses with air condition are more expensive than houses without air conditioning. \n",
    "\n",
    "To do so we can select only houses with air conditioning and save them to a new dataframe. \n",
    "We can then do the samve of houses wihout air condition. "
   ]
  },
  {
   "cell_type": "code",
   "execution_count": 18,
   "id": "5615669e-96b2-4f5e-953f-b0527b5f2c97",
   "metadata": {},
   "outputs": [],
   "source": [
    "df_ac = # complete this for houses with AC\n",
    "df_no_ac =  # coplete this for houses without AC"
   ]
  },
  {
   "cell_type": "markdown",
   "id": "2e3a6b42-8e04-4a4f-be23-7577aa4158e2",
   "metadata": {},
   "source": [
    "Let's first look at them again:"
   ]
  },
  {
   "cell_type": "code",
   "execution_count": 20,
   "id": "954a8fb6-f66b-4187-a97f-256cd5ee950f",
   "metadata": {},
   "outputs": [
    {
     "data": {
      "text/html": [
       "<div>\n",
       "<style scoped>\n",
       "    .dataframe tbody tr th:only-of-type {\n",
       "        vertical-align: middle;\n",
       "    }\n",
       "\n",
       "    .dataframe tbody tr th {\n",
       "        vertical-align: top;\n",
       "    }\n",
       "\n",
       "    .dataframe thead th {\n",
       "        text-align: right;\n",
       "    }\n",
       "</style>\n",
       "<table border=\"1\" class=\"dataframe\">\n",
       "  <thead>\n",
       "    <tr style=\"text-align: right;\">\n",
       "      <th></th>\n",
       "      <th>price</th>\n",
       "      <th>area</th>\n",
       "      <th>bedrooms</th>\n",
       "      <th>bathrooms</th>\n",
       "      <th>stories</th>\n",
       "      <th>mainroad</th>\n",
       "      <th>guestroom</th>\n",
       "      <th>basement</th>\n",
       "      <th>hotwaterheating</th>\n",
       "      <th>airconditioning</th>\n",
       "      <th>parking</th>\n",
       "      <th>prefarea</th>\n",
       "      <th>furnishingstatus</th>\n",
       "    </tr>\n",
       "  </thead>\n",
       "  <tbody>\n",
       "    <tr>\n",
       "      <th>0</th>\n",
       "      <td>13300000</td>\n",
       "      <td>7420</td>\n",
       "      <td>4</td>\n",
       "      <td>2</td>\n",
       "      <td>3</td>\n",
       "      <td>yes</td>\n",
       "      <td>no</td>\n",
       "      <td>no</td>\n",
       "      <td>no</td>\n",
       "      <td>yes</td>\n",
       "      <td>2</td>\n",
       "      <td>yes</td>\n",
       "      <td>furnished</td>\n",
       "    </tr>\n",
       "    <tr>\n",
       "      <th>1</th>\n",
       "      <td>12250000</td>\n",
       "      <td>8960</td>\n",
       "      <td>4</td>\n",
       "      <td>4</td>\n",
       "      <td>4</td>\n",
       "      <td>yes</td>\n",
       "      <td>no</td>\n",
       "      <td>no</td>\n",
       "      <td>no</td>\n",
       "      <td>yes</td>\n",
       "      <td>3</td>\n",
       "      <td>no</td>\n",
       "      <td>furnished</td>\n",
       "    </tr>\n",
       "    <tr>\n",
       "      <th>3</th>\n",
       "      <td>12215000</td>\n",
       "      <td>7500</td>\n",
       "      <td>4</td>\n",
       "      <td>2</td>\n",
       "      <td>2</td>\n",
       "      <td>yes</td>\n",
       "      <td>no</td>\n",
       "      <td>yes</td>\n",
       "      <td>no</td>\n",
       "      <td>yes</td>\n",
       "      <td>3</td>\n",
       "      <td>yes</td>\n",
       "      <td>furnished</td>\n",
       "    </tr>\n",
       "    <tr>\n",
       "      <th>4</th>\n",
       "      <td>11410000</td>\n",
       "      <td>7420</td>\n",
       "      <td>4</td>\n",
       "      <td>1</td>\n",
       "      <td>2</td>\n",
       "      <td>yes</td>\n",
       "      <td>yes</td>\n",
       "      <td>yes</td>\n",
       "      <td>no</td>\n",
       "      <td>yes</td>\n",
       "      <td>2</td>\n",
       "      <td>no</td>\n",
       "      <td>furnished</td>\n",
       "    </tr>\n",
       "    <tr>\n",
       "      <th>5</th>\n",
       "      <td>10850000</td>\n",
       "      <td>7500</td>\n",
       "      <td>3</td>\n",
       "      <td>3</td>\n",
       "      <td>1</td>\n",
       "      <td>yes</td>\n",
       "      <td>no</td>\n",
       "      <td>yes</td>\n",
       "      <td>no</td>\n",
       "      <td>yes</td>\n",
       "      <td>2</td>\n",
       "      <td>yes</td>\n",
       "      <td>semi-furnished</td>\n",
       "    </tr>\n",
       "    <tr>\n",
       "      <th>...</th>\n",
       "      <td>...</td>\n",
       "      <td>...</td>\n",
       "      <td>...</td>\n",
       "      <td>...</td>\n",
       "      <td>...</td>\n",
       "      <td>...</td>\n",
       "      <td>...</td>\n",
       "      <td>...</td>\n",
       "      <td>...</td>\n",
       "      <td>...</td>\n",
       "      <td>...</td>\n",
       "      <td>...</td>\n",
       "      <td>...</td>\n",
       "    </tr>\n",
       "    <tr>\n",
       "      <th>457</th>\n",
       "      <td>3115000</td>\n",
       "      <td>3000</td>\n",
       "      <td>3</td>\n",
       "      <td>1</td>\n",
       "      <td>1</td>\n",
       "      <td>no</td>\n",
       "      <td>no</td>\n",
       "      <td>no</td>\n",
       "      <td>no</td>\n",
       "      <td>yes</td>\n",
       "      <td>0</td>\n",
       "      <td>no</td>\n",
       "      <td>unfurnished</td>\n",
       "    </tr>\n",
       "    <tr>\n",
       "      <th>461</th>\n",
       "      <td>3080000</td>\n",
       "      <td>4960</td>\n",
       "      <td>2</td>\n",
       "      <td>1</td>\n",
       "      <td>1</td>\n",
       "      <td>yes</td>\n",
       "      <td>no</td>\n",
       "      <td>yes</td>\n",
       "      <td>no</td>\n",
       "      <td>yes</td>\n",
       "      <td>0</td>\n",
       "      <td>no</td>\n",
       "      <td>unfurnished</td>\n",
       "    </tr>\n",
       "    <tr>\n",
       "      <th>504</th>\n",
       "      <td>2653000</td>\n",
       "      <td>3185</td>\n",
       "      <td>2</td>\n",
       "      <td>1</td>\n",
       "      <td>1</td>\n",
       "      <td>yes</td>\n",
       "      <td>no</td>\n",
       "      <td>no</td>\n",
       "      <td>no</td>\n",
       "      <td>yes</td>\n",
       "      <td>0</td>\n",
       "      <td>no</td>\n",
       "      <td>unfurnished</td>\n",
       "    </tr>\n",
       "    <tr>\n",
       "      <th>505</th>\n",
       "      <td>2653000</td>\n",
       "      <td>4000</td>\n",
       "      <td>3</td>\n",
       "      <td>1</td>\n",
       "      <td>2</td>\n",
       "      <td>yes</td>\n",
       "      <td>no</td>\n",
       "      <td>no</td>\n",
       "      <td>no</td>\n",
       "      <td>yes</td>\n",
       "      <td>0</td>\n",
       "      <td>no</td>\n",
       "      <td>unfurnished</td>\n",
       "    </tr>\n",
       "    <tr>\n",
       "      <th>531</th>\n",
       "      <td>2233000</td>\n",
       "      <td>5300</td>\n",
       "      <td>3</td>\n",
       "      <td>1</td>\n",
       "      <td>1</td>\n",
       "      <td>no</td>\n",
       "      <td>no</td>\n",
       "      <td>no</td>\n",
       "      <td>no</td>\n",
       "      <td>yes</td>\n",
       "      <td>0</td>\n",
       "      <td>yes</td>\n",
       "      <td>unfurnished</td>\n",
       "    </tr>\n",
       "  </tbody>\n",
       "</table>\n",
       "<p>172 rows × 13 columns</p>\n",
       "</div>"
      ],
      "text/plain": [
       "        price  area  bedrooms  bathrooms  stories mainroad guestroom basement  \\\n",
       "0    13300000  7420         4          2        3      yes        no       no   \n",
       "1    12250000  8960         4          4        4      yes        no       no   \n",
       "3    12215000  7500         4          2        2      yes        no      yes   \n",
       "4    11410000  7420         4          1        2      yes       yes      yes   \n",
       "5    10850000  7500         3          3        1      yes        no      yes   \n",
       "..        ...   ...       ...        ...      ...      ...       ...      ...   \n",
       "457   3115000  3000         3          1        1       no        no       no   \n",
       "461   3080000  4960         2          1        1      yes        no      yes   \n",
       "504   2653000  3185         2          1        1      yes        no       no   \n",
       "505   2653000  4000         3          1        2      yes        no       no   \n",
       "531   2233000  5300         3          1        1       no        no       no   \n",
       "\n",
       "    hotwaterheating airconditioning  parking prefarea furnishingstatus  \n",
       "0                no             yes        2      yes        furnished  \n",
       "1                no             yes        3       no        furnished  \n",
       "3                no             yes        3      yes        furnished  \n",
       "4                no             yes        2       no        furnished  \n",
       "5                no             yes        2      yes   semi-furnished  \n",
       "..              ...             ...      ...      ...              ...  \n",
       "457              no             yes        0       no      unfurnished  \n",
       "461              no             yes        0       no      unfurnished  \n",
       "504              no             yes        0       no      unfurnished  \n",
       "505              no             yes        0       no      unfurnished  \n",
       "531              no             yes        0      yes      unfurnished  \n",
       "\n",
       "[172 rows x 13 columns]"
      ]
     },
     "execution_count": 20,
     "metadata": {},
     "output_type": "execute_result"
    }
   ],
   "source": [
    "df_ac"
   ]
  },
  {
   "cell_type": "markdown",
   "id": "6cf6162e-442b-425e-99f9-f7506c5602e2",
   "metadata": {},
   "source": [
    "As a next step, let's calculate means and standard deviations of the price column for both: "
   ]
  },
  {
   "cell_type": "code",
   "execution_count": 21,
   "id": "6f3fa4cf-f109-4ba6-8d23-9caa528f30fe",
   "metadata": {},
   "outputs": [
    {
     "data": {
      "text/plain": [
       "6013220.5813953485"
      ]
     },
     "execution_count": 21,
     "metadata": {},
     "output_type": "execute_result"
    }
   ],
   "source": [
    "# mean for houses with ac"
   ]
  },
  {
   "cell_type": "code",
   "execution_count": 22,
   "id": "2e7cb6be-0d50-49eb-8125-67a227547fae",
   "metadata": {},
   "outputs": [
    {
     "data": {
      "text/plain": [
       "1998149.4749927232"
      ]
     },
     "execution_count": 22,
     "metadata": {},
     "output_type": "execute_result"
    }
   ],
   "source": [
    "# standard deviation for hourse with ac"
   ]
  },
  {
   "cell_type": "code",
   "execution_count": 23,
   "id": "9a495808-48bc-4022-8aad-2053c85e1e9d",
   "metadata": {},
   "outputs": [
    {
     "data": {
      "text/plain": [
       "4191939.678284182"
      ]
     },
     "execution_count": 23,
     "metadata": {},
     "output_type": "execute_result"
    }
   ],
   "source": [
    "# mean for houses without ac"
   ]
  },
  {
   "cell_type": "code",
   "execution_count": 24,
   "id": "617d6ba9-2099-4899-920a-2eb48ab51521",
   "metadata": {},
   "outputs": [
    {
     "data": {
      "text/plain": [
       "1493711.7609608262"
      ]
     },
     "execution_count": 24,
     "metadata": {},
     "output_type": "execute_result"
    }
   ],
   "source": [
    "# standard deviation for houses without ac"
   ]
  },
  {
   "cell_type": "markdown",
   "id": "58ee756f-846b-4b49-9499-337e442d94e1",
   "metadata": {},
   "source": [
    "Based on these results, do you think there is a difference? "
   ]
  },
  {
   "cell_type": "code",
   "execution_count": null,
   "id": "f33b32ca-fdbe-478c-9e3a-1f1f47e74736",
   "metadata": {},
   "outputs": [],
   "source": [
    "# Feel free to typ your answer here"
   ]
  },
  {
   "cell_type": "markdown",
   "id": "98567777-d7f7-4e06-a56d-c9b7e7f6c114",
   "metadata": {},
   "source": [
    "## Wrapping up: \n",
    "\n",
    "### Don't forget to save your changes before leaving collab\n",
    "\n",
    "This was a brief practice, for you to apply what we previously learned on a new dataset. Your next data analysis will be for the lab on Friday and we will do more in class next week.\n",
    "\n",
    "### Learning Goals\n",
    "\n",
    "After completing this exercise, you should be able to:\n",
    "\n",
    "- use pandas with google collab to read data into a dataframe object\n",
    "- understand how data is organized into rows and columns \n",
    "- select one or multiple columns from the dataset\n",
    "- apply descriptive statistics methods to data in columns\n",
    "- select data based on a condition\n",
    "\n",
    "\n"
   ]
  },
  {
   "cell_type": "code",
   "execution_count": null,
   "id": "6b888aa6-fbff-4367-9ee2-bf517470a764",
   "metadata": {},
   "outputs": [],
   "source": []
  }
 ],
 "metadata": {
  "kernelspec": {
   "display_name": "Python 3 (ipykernel)",
   "language": "python",
   "name": "python3"
  },
  "language_info": {
   "codemirror_mode": {
    "name": "ipython",
    "version": 3
   },
   "file_extension": ".py",
   "mimetype": "text/x-python",
   "name": "python",
   "nbconvert_exporter": "python",
   "pygments_lexer": "ipython3",
   "version": "3.8.18"
  }
 },
 "nbformat": 4,
 "nbformat_minor": 5
}
