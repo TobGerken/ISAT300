{
 "cells": [
  {
   "cell_type": "markdown",
   "id": "ddd91c2e-6eda-444b-9ade-509803bf0eea",
   "metadata": {
    "tags": []
   },
   "source": [
    "[![Open In Colab](https://colab.research.google.com/assets/colab-badge.svg)](https://colab.research.google.com/github/TobGerken/ISAT300/blob/main/1_PracticeChallenge.ipynb)"
   ]
  },
  {
   "cell_type": "markdown",
   "id": "c43866c1-4dd9-4353-9e81-f155fd8f4a23",
   "metadata": {},
   "source": [
    "This notebook assumes that you have completed the lecture data-analysis notebook \n",
    "\n",
    "1. [Getting Started](https://colab.research.google.com/github/TobGerken/ISAT300/blob/main/1_GettingStarted.ipynb)\n",
    "\n",
    "# First Practice Challenge\n",
    "\n",
    "**This notebook is published on my github. It is publicly accessible, but you cannot save your changes to my github. Learning git & github is beyond the scope of this course. If you are familiar with github, you know what to do. If you don't know github, you can save a personal copy of the file to your google drive, so that you can save your changes and can access them at a later date**\n",
    "\n",
    "<img src=\"https://raw.githubusercontent.com/TobGerken/ISAT300/main/Figures/SaveFile.png \" alt=\"drawing\" width=\"800\"/>\n"
   ]
  },
  {
   "cell_type": "markdown",
   "id": "e0729800-6516-4a0f-8ffa-98d5427eef64",
   "metadata": {
    "jp-MarkdownHeadingCollapsed": true
   },
   "source": [
    "## Learning Goals \n",
    "\n",
    "This exercise is designed to for you to practice some of the data analysis skills that we have encountered in the first data analysis lesson. \n",
    "We will apply them to a commonly used data-set of house prices. \n",
    "\n",
    "After completing this exercise, you should be able to:\n",
    "\n",
    "- use pandas with google colab to read data into a dataframe object\n",
    "- understand how data is organized into rows and columns\n",
    "- select one or multiple columns from the dataset\n",
    "- apply descriptive statistics methods to data in columns\n",
    "- select data based on a condition\n"
   ]
  },
  {
   "cell_type": "markdown",
   "id": "ed4a33e5-9af7-4e9b-8d4c-045dce5a146a",
   "metadata": {},
   "source": [
    "## Now lets get started \n",
    "\n",
    "\n",
    "\n",
    "Because pandas is not part of the core python language we have to import it as a module:"
   ]
  },
  {
   "cell_type": "code",
   "execution_count": null,
   "id": "5164b321-7825-456b-9472-359bfe856815",
   "metadata": {},
   "outputs": [],
   "source": [
    "# running this will import pandas.\n",
    "import pandas as pd"
   ]
  },
  {
   "cell_type": "markdown",
   "id": "730c6f27-0262-491b-9dff-2676b84643e8",
   "metadata": {},
   "source": [
    "## Reading data into a pandas dataframe\n",
    "\n",
    "The housing data is both saved online (`'https://raw.githubusercontent.com/TobGerken/ISAT300/main/Data/Housing.csv'`) and to canvas. \n",
    "\n",
    "See how we did it in lecture and load the data to a dataframe.\n"
   ]
  },
  {
   "cell_type": "code",
   "execution_count": null,
   "id": "a18b4a55-abb3-488c-920f-440709400c24",
   "metadata": {},
   "outputs": [],
   "source": [
    "# Complete the code below to load the data \n",
    "df = pd.read_csv() #\n"
   ]
  },
  {
   "cell_type": "markdown",
   "id": "ad73f81c-4d26-4748-a269-786d775718cd",
   "metadata": {},
   "source": [
    "## Exploring the data \n",
    "\n",
    "Let's find out how the data looks. Display it and find out what each column means: "
   ]
  },
  {
   "cell_type": "code",
   "execution_count": null,
   "id": "7e176fb9-d2a8-43ee-8273-520c4bcf634b",
   "metadata": {},
   "outputs": [],
   "source": []
  },
  {
   "cell_type": "markdown",
   "id": "8a310520-3f44-4957-9f3d-cc0f9dd2e0d2",
   "metadata": {},
   "source": [
    "We can also apply the `.info()` to the dataframe to learn more about our dataset:"
   ]
  },
  {
   "cell_type": "code",
   "execution_count": null,
   "id": "18dd38f5-0422-4d51-9eb2-ce33ab8ad0ca",
   "metadata": {},
   "outputs": [],
   "source": []
  },
  {
   "cell_type": "markdown",
   "id": "5191f54c-87c7-4fb0-9557-dbbaadcdf28b",
   "metadata": {
    "tags": []
   },
   "source": [
    "You also want to find the shape (e.g. how many entries you have): "
   ]
  },
  {
   "cell_type": "code",
   "execution_count": null,
   "id": "6ce93803-9d56-4e61-9d03-3ce32d3917d9",
   "metadata": {},
   "outputs": [],
   "source": []
  },
  {
   "cell_type": "markdown",
   "id": "26220fe6-4cfc-4b00-83d9-eeb878e840a8",
   "metadata": {},
   "source": [
    "## Selecting Data and Statistics\n",
    "\n",
    "As a next step, lets find out a bit more about our dataset. Try the selectring the column with the house price and find the mean price of the houses in the dataset. "
   ]
  },
  {
   "cell_type": "code",
   "execution_count": null,
   "id": "a55debf8-4aef-4cec-a6cb-b0f6002feb05",
   "metadata": {},
   "outputs": [],
   "source": []
  },
  {
   "cell_type": "markdown",
   "id": "197b321e-7711-430d-9b69-a62496819675",
   "metadata": {},
   "source": [
    "We also want to find the standard deviation of the house prices: "
   ]
  },
  {
   "cell_type": "code",
   "execution_count": null,
   "id": "a065e880-ad29-4be0-94bb-31fda8026151",
   "metadata": {},
   "outputs": [],
   "source": []
  },
  {
   "cell_type": "markdown",
   "id": "b22625ba-344b-40c2-b2ad-3aadc5830e52",
   "metadata": {},
   "source": [
    "We can also use the `.value_counts()` method to count for example how many of the houses have air conditioning. Give it a try by selecting the right columns and by applying the method. "
   ]
  },
  {
   "cell_type": "code",
   "execution_count": null,
   "id": "726d5d3b-920a-4bfa-85ec-72d3d1875bb8",
   "metadata": {},
   "outputs": [],
   "source": []
  },
  {
   "cell_type": "markdown",
   "id": "ede2c560-2205-4d85-9c11-ebb7ea997cae",
   "metadata": {},
   "source": [
    "## First Data Analysis \n",
    "\n",
    "Let's try to find out, whether houses with air condition are more expensive than houses without air conditioning. \n",
    "\n",
    "To do so we can select only houses with air conditioning and save them to a new dataframe. \n",
    "We can then do the samve of houses wihout air condition. "
   ]
  },
  {
   "cell_type": "code",
   "execution_count": null,
   "id": "5615669e-96b2-4f5e-953f-b0527b5f2c97",
   "metadata": {},
   "outputs": [],
   "source": [
    "df_ac = # complete this for houses with AC\n",
    "df_no_ac =  # coplete this for houses without AC"
   ]
  },
  {
   "cell_type": "markdown",
   "id": "2e3a6b42-8e04-4a4f-be23-7577aa4158e2",
   "metadata": {},
   "source": [
    "Let's first look at them again:"
   ]
  },
  {
   "cell_type": "code",
   "execution_count": null,
   "id": "954a8fb6-f66b-4187-a97f-256cd5ee950f",
   "metadata": {},
   "outputs": [],
   "source": [
    "df_ac"
   ]
  },
  {
   "cell_type": "markdown",
   "id": "6cf6162e-442b-425e-99f9-f7506c5602e2",
   "metadata": {},
   "source": [
    "As a next step, let's calculate means and standard deviations of the price column for both: "
   ]
  },
  {
   "cell_type": "code",
   "execution_count": null,
   "id": "6f3fa4cf-f109-4ba6-8d23-9caa528f30fe",
   "metadata": {},
   "outputs": [],
   "source": [
    "# mean for houses with ac"
   ]
  },
  {
   "cell_type": "code",
   "execution_count": null,
   "id": "2e7cb6be-0d50-49eb-8125-67a227547fae",
   "metadata": {},
   "outputs": [],
   "source": [
    "# standard deviation for hourse with ac"
   ]
  },
  {
   "cell_type": "code",
   "execution_count": null,
   "id": "9a495808-48bc-4022-8aad-2053c85e1e9d",
   "metadata": {},
   "outputs": [],
   "source": [
    "# mean for houses without ac"
   ]
  },
  {
   "cell_type": "code",
   "execution_count": null,
   "id": "617d6ba9-2099-4899-920a-2eb48ab51521",
   "metadata": {},
   "outputs": [],
   "source": [
    "# standard deviation for houses without ac"
   ]
  },
  {
   "cell_type": "markdown",
   "id": "58ee756f-846b-4b49-9499-337e442d94e1",
   "metadata": {},
   "source": [
    "Based on these results, do you think there is a difference? "
   ]
  },
  {
   "cell_type": "code",
   "execution_count": null,
   "id": "f33b32ca-fdbe-478c-9e3a-1f1f47e74736",
   "metadata": {},
   "outputs": [],
   "source": [
    "# Feel free to typ your answer here"
   ]
  },
  {
   "cell_type": "markdown",
   "id": "98567777-d7f7-4e06-a56d-c9b7e7f6c114",
   "metadata": {},
   "source": [
    "## Wrapping up: \n",
    "\n",
    "### Don't forget to save your changes before leaving colab\n",
    "\n",
    "This was a brief practice, for you to apply what we previously learned on a new dataset. Your next data analysis will be for the lab on Friday and we will do more in class next week.\n",
    "\n",
    "### Learning Goals\n",
    "\n",
    "After completing this exercise, you should be able to:\n",
    "\n",
    "- use pandas with google colab to read data into a dataframe object\n",
    "- understand how data is organized into rows and columns \n",
    "- select one or multiple columns from the dataset\n",
    "- apply descriptive statistics methods to data in columns\n",
    "- select data based on a condition\n",
    "\n",
    "\n"
   ]
  },
  {
   "cell_type": "code",
   "execution_count": null,
   "id": "6b888aa6-fbff-4367-9ee2-bf517470a764",
   "metadata": {},
   "outputs": [],
   "source": []
  }
 ],
 "metadata": {
  "kernelspec": {
   "display_name": "Python 3 (ipykernel)",
   "language": "python",
   "name": "python3"
  },
  "language_info": {
   "codemirror_mode": {
    "name": "ipython",
    "version": 3
   },
   "file_extension": ".py",
   "mimetype": "text/x-python",
   "name": "python",
   "nbconvert_exporter": "python",
   "pygments_lexer": "ipython3",
   "version": "3.12.3"
  }
 },
 "nbformat": 4,
 "nbformat_minor": 5
}
