{
 "cells": [
  {
   "cell_type": "markdown",
   "id": "d315cf60",
   "metadata": {},
   "source": [
    "[![Open In Colab](https://colab.research.google.com/assets/colab-badge.svg)](https://colab.research.google.com/github/TobGerken/ISAT300/blob/main/6_CalibrationAndADConversion.ipynb)"
   ]
  },
  {
   "cell_type": "markdown",
   "id": "2eaaf23d",
   "metadata": {},
   "source": [
    "# Instrument Calibration & Analogue to Digital Conversion \n",
    "\n",
    "**This notebook is published on my github. It is publicly accessible, but you cannot save your changes to my github. Learning git & github is beyond the scope of this course. If you are familiar with github, you know that to do. If you don't know github, you can save a personal copy of the file to your google drive, so that you can save your changes and can access them at a later date**\n",
    "\n",
    "This notebook is a continuation from previous classes:\n",
    "\n",
    "1. [GettingStarted](https://github.com/TobGerken/ISAT300/blob/main/1_GettingStarted.ipynb)\n",
    "2. [Data Visualization](https://github.com/TobGerken/ISAT300/blob/main/2_DataVisualization.ipynb)\n",
    "3. [Heart Rate Lab Review](https://github.com/TobGerken/ISAT300/blob/main/3_HeartRateLabReview.ipynb)\n",
    "4. [Temperature Response Lab Review](https://github.com/TobGerken/ISAT300/blob/main/4_TemperatureResponseLabReview.ipynb)\n",
    "5. [Standard Error](https://github.com/TobGerken/ISAT300/blob/main/5_StandardErrorDemonstration.ipynb)\n",
    "\n",
    "This notebook accompanies the powerpoint presentation posted to Canvas. \n",
    "\n",
    "During all of the experiments we have seen that instruments need calibration and we have learned to apply calibration curves that convert the sensor output (for example a voltage) into information about the underlying measurand (for example temperature). \n",
    "\n",
    "**During the Labs we have also worked using the Raspberry Pi and have specifically used a digital interface.** You may recall that the output from the thermocouple was analog (i.e. continuous) while the PI and the output on your screen was a digital signal (i.e. discret or step-wise, even though it may not seem that way). This has to do with the fact [how computers store numbers](https://theyear2038problem.com/learn-how-computers-store-integer-numbers/). \n",
    "\n",
    "![Analog vs Digital](https://cdn1.byjus.com/wp-content/uploads/2022/05/Difference-Between-Analog-And-Digital-Signal.png)"
   ]
  },
  {
   "cell_type": "code",
   "execution_count": null,
   "id": "110a87ff",
   "metadata": {},
   "outputs": [],
   "source": [
    "import pandas as pd\n",
    "import numpy as np\n",
    "import matplotlib.pyplot as plt\n",
    "plt.style.use('seaborn')\n"
   ]
  },
  {
   "cell_type": "markdown",
   "id": "fe2b35f4",
   "metadata": {},
   "source": [
    "## An analog signal\n",
    "\n",
    "Let's assume that we have a thermocouple that produces a voltage output between -5 and +5 V depending on the environmental temperature. \n",
    "\n",
    "You measure -5V at -40 $^o$C and +5V at 460 $^o$C."
   ]
  },
  {
   "cell_type": "code",
   "execution_count": null,
   "id": "5773c4cf",
   "metadata": {},
   "outputs": [],
   "source": [
    "# I am creating here some sample data \n",
    "T = np.linspace(-40, 460,1000)\n",
    "V = np.linspace(-5,+5,1000)\n",
    "\n",
    "# This plots the data\n",
    "plt.plot(T,V)\n",
    "plt.ylabel('Output Signal from Thermocouple (Voltage, V)', fontsize = 14)\n",
    "plt.xlabel('Measurand (Temperature, $^o$C)', fontsize = 14)\n",
    "plt.xticks([-40, 0, 100, 200, 300, 400, 460])\n",
    "plt.yticks(np.linspace(-5,5,11))\n",
    "plt.title('Relationship between Measurand and Sensor Output Signal', fontsize = 14)"
   ]
  },
  {
   "cell_type": "markdown",
   "id": "5613819f",
   "metadata": {},
   "source": [
    "This looks like a continous signal, and we could apply a calibration to our output signal in volts to display temperature for every measured voltage from the thermocouple. \n",
    "\n",
    "To do so we need to know the slope and offset of the relationship between **Measurand** and **Output Signal**.\n",
    "\n",
    "Let's determine these. We could do this by just looking at it, but we can also use numpy. \n",
    "\n",
    "Try this out and use the `np.polyfit()` function to estimate slope and offset. "
   ]
  },
  {
   "cell_type": "code",
   "execution_count": null,
   "id": "ddaed671",
   "metadata": {},
   "outputs": [],
   "source": [
    "# Try to fit the polynom between Temperature (T) and Voltage (V)\n",
    "slope, offset  = np.polyfit() # We can fit a first oder polynom (a straigt line) using np.polyfit(x,y,1)\n",
    "print(f'V = %3.2f T + %3.2f Volts' %(slope , offset))"
   ]
  },
  {
   "cell_type": "markdown",
   "id": "d5721e5b",
   "metadata": {},
   "source": [
    "If you were now given a voltage, how would you translate this back into a temperature? \n",
    "\n",
    "Let's say you measure -1.7, +3.2, and 0.34 Volts. "
   ]
  },
  {
   "cell_type": "code",
   "execution_count": null,
   "id": "78fb0ae1",
   "metadata": {},
   "outputs": [],
   "source": [
    "V_observed = [-1.7, 3.2, 0.34]\n",
    "\n",
    "# Remember that the output voltage of the thermocouple is given by the calibration curve\n",
    "# V_observed = slope * T + offset\n",
    "\n",
    "# complete the expression that converts V into T using slope and offset:\n",
    "T_observed = V_observed \n",
    "\n",
    "# Your solution for the calibrated temperature should end up on the line \n",
    "print(T_observed)\n",
    "plt.plot(T,V)\n",
    "plt.scatter(T_observed, V_observed, color = 'tab:red')\n",
    "plt.ylabel('Output Signal from Thermocouple (Voltage, V)', fontsize = 14)\n",
    "plt.xlabel('Measurand (Temperature, $^o$C)', fontsize = 14)\n",
    "plt.xticks([-40, 0, 100, 200, 300, 400, 460])\n",
    "plt.yticks(np.linspace(-5,5,11))\n",
    "plt.title('Relationship between Measurand and Sensor Output Signal', fontsize = 14)\n"
   ]
  },
  {
   "cell_type": "markdown",
   "id": "cb1ef896",
   "metadata": {},
   "source": [
    "## Digital Signal\n",
    "\n",
    "All digital devices need to store data and as it turns out, data storage is not contunious, because computers can only store data in binary format. A switch is either ON or OFF with nothing inbetween. Each change between ON and OFF is one bit. \n",
    "\n",
    "The more bits are used to store data the higher precision you can have (see lecture). \n",
    "\n",
    "**Let's pretend for a moment that computers were not binary, but that they would work on the decimal system.** \n",
    "\n",
    "Our decimal computer can store numbers between 0 and 100 only. It cannot store numbers that are bigger or smaller than that. Separate from that it can store the sign of the number. \n",
    "\n",
    "1. We can store the lowest possible output from the thermocouple (=-5 volts)\n",
    "2. We can also store the span (-5 to +5 V = 10 volts span) of the thermocouple outputs. \n",
    "\n",
    "This means effectively, we get the following: "
   ]
  },
  {
   "cell_type": "code",
   "execution_count": null,
   "id": "b1687c7b",
   "metadata": {},
   "outputs": [],
   "source": [
    "T = np.linspace(-40, 460,1000)\n",
    "V_Analog = np.linspace(-5,+5,1000)\n",
    "T_Digital = np.linspace(-40, 460,100)\n",
    "V_Digital = np.linspace(-5,+5,100)\n",
    "\n",
    "plt.subplots()\n",
    "plt.plot(T,V_Analog)\n",
    "plt.step(T_Digital,V_Digital)\n",
    "plt.ylabel('Output Signal from Thermocouple (Voltage, V)', fontsize = 14)\n",
    "plt.xlabel('Measurand (Temperature, $^o$C)', fontsize = 14)\n",
    "plt.xticks([-40, 0, 100, 200, 300, 400, 460])\n",
    "plt.yticks(np.linspace(-5,5,11))\n",
    "plt.legend(['Analog Signal', 'Digital Signal'], fontsize = 12)\n",
    "plt.title('Relationship between Measurand and Sensor Output Signal', fontsize = 14)\n",
    "\n",
    "# this is a zoomed in version of the same plot\n",
    "plt.subplots()\n",
    "plt.plot(T,V_Analog)\n",
    "plt.step(T_Digital,V_Digital)\n",
    "plt.ylabel('Output Signal from Thermocouple (Voltage, V)', fontsize = 14)\n",
    "plt.xlabel('Measurand (Temperature, $^o$C)', fontsize = 14)\n",
    "plt.xlim((100, 150))\n",
    "plt.ylim((-2.5, -1))\n",
    "plt.legend(['Analog Signal', 'Digital Signal'], fontsize = 12)\n",
    "plt.title('Zoomed in', fontsize = 14)\n"
   ]
  },
  {
   "cell_type": "markdown",
   "id": "88505f98",
   "metadata": {},
   "source": [
    "As long as we don't zoom in, this looks OK. The thermocouple produces a step output, but it looks very similar to the analog signal. **However if we zoom in, we see that each step actually corresponds to a temperature change of 5$^o$C.** Simply because our temperature measurement is discrete. \n",
    "\n",
    "Our sensor resolution is the temperature span divided by the total number of values availble to store data. \n",
    "\n",
    "$Resolution = \\frac{\\text{Span}}{\\text{# of values}}$\n",
    "\n",
    "In a binary system (like all computers are) the largest number of different values is given in powers of two.  \n",
    "\n",
    "The smallest possible number is $0$ and the biggest possible number is given by: $2^n\\,-1$, where $n$ is the number of bits.\n",
    "\n",
    "Let's try this out. \n",
    "\n",
    "**What is the largest number you could store using `8 bits` or `16 bits`?**"
   ]
  },
  {
   "cell_type": "code",
   "execution_count": null,
   "id": "ede3db3f",
   "metadata": {},
   "outputs": [],
   "source": [
    "# We can actually explicitly tell our computer to use different numbers of bits for storage and test this out. \n",
    "# Change the number to something else and see what happens as numbers get bigger? \n",
    "\n",
    "# What will happen if we use numbers that are too big?\n",
    "\n",
    "#For example 8 or 16 bits. \n",
    "# Change the number to see what happens depending on the number of bits used for storage\n",
    "number = 0\n",
    "_8bit  = np.uint8(number)\n",
    "_16bit = np.uint16(number)\n",
    "print('8 bit example:', _8bit)\n",
    "print('16 bit example:', _16bit)\n"
   ]
  },
  {
   "cell_type": "markdown",
   "id": "9292626b",
   "metadata": {},
   "source": [
    "You might have noticed that using `16 bits` of storage means that we can store much larger numbers compared to `8 bits` and that therefore our resolution becomes much finer. \n",
    "\n",
    "By the way what you are experiencing with the `8 bit` number is known in computer science as `overflow`. \n",
    "\n",
    "**What would our resolution for voltage and temperature be if our system would use `8 bits` and `16 bits`?**\n",
    "\n",
    "Let's calculate the resolution to find out. \n",
    "\n",
    "$Resolution = \\frac{\\text{Span}}{\\text{# of values}} =  \\frac{\\text{Span}}{2^n - 1}$\n"
   ]
  },
  {
   "cell_type": "code",
   "execution_count": null,
   "id": "55ebfd97",
   "metadata": {},
   "outputs": [],
   "source": [
    "SpanV = 0 # Find and enter the span for voltage (from above)\n",
    "SpanT = 0 # Find and enter the span for the thermocouple temperature (from above)\n",
    "\n",
    "n8  = 8  # 8 bits\n",
    "n16 = 16 # 16 bits\n",
    "V_Resolution_8bit  = SpanV / (2**n8-1)\n",
    "V_Resolution_16bit = SpanV / (2**n16-1)\n",
    "\n",
    "T_Resolution_8bit  = SpanT / (2**n8-1)\n",
    "T_Resolution_16bit = SpanT / (2**n16-1)\n",
    "\n",
    "\n",
    "print(f'The resolution for Voltage is ~%5.4f volts for %d bits.' %(V_Resolution_8bit , n8))\n",
    "print(f'The resolution for Voltage is ~%5.4f volts for %d bits.' %(V_Resolution_16bit , n16))\n",
    "\n",
    "print(f'The resolution for Temperature is ~%5.4f degrees C for %d bits.' %(T_Resolution_8bit , n8))\n",
    "print(f'The resolution for Temperature is ~%5.4f degrees C for %d bits.' %(T_Resolution_16bit , n16))\n"
   ]
  },
  {
   "cell_type": "markdown",
   "id": "569e4172",
   "metadata": {},
   "source": [
    "Based on the above example a system using `8 bit` could only be used to detect temperature with a resolution of about 2 degrees, while a `16 bit` system would be able to measure temparature change of less than 0.1 degrees Celsius. \n",
    "\n",
    "This means that for a thermocouple with the range of 500$^o$C, which is a fairly typical range for a thermocouple the effect of the analog to digital conversion really matters, especially if we measure temperatures that are in a much more narrow range (for example near room temperature. "
   ]
  },
  {
   "cell_type": "code",
   "execution_count": null,
   "id": "6a09020f",
   "metadata": {},
   "outputs": [],
   "source": [
    "#This function simulates the AD conversion by rounding to the correct resolution. \n",
    "def ADC(value, resolution):\n",
    "    return np.round (value / resolution) * resolution\n",
    "\n",
    "T = np.linspace(0,50,1000)\n",
    "\n",
    "# I am rounding to the resolution that corresponds the the number of bits\n",
    "T_8bit = ADC(T, T_Resolution_8bit)\n",
    "T_16bit = ADC(T, T_Resolution_16bit)\n",
    "\n",
    "plt.subplots()\n",
    "plt.plot(T,T_8bit)\n",
    "plt.step(T,T_16bit)\n",
    "plt.legend(['8 bit', '16 bit'],fontsize =16)\n",
    "plt.ylabel('Digital Temperature Output, $^o$C', fontsize = 14)\n",
    "plt.xlabel('Measurand (Actual Temperature, $^o$C)', fontsize = 14)\n",
    "plt.title('Effect of Analog to Digital Conversion', fontsize = 14)\n",
    "plt.xlim((0, 50))\n",
    "plt.ylim((0, 50))"
   ]
  },
  {
   "cell_type": "markdown",
   "id": "304b30fe",
   "metadata": {},
   "source": [
    "## Aliasing \n",
    "\n",
    "Aliasing is a common problem. Some of you may have heard the term in connection with PC Graphics. [Aliasing](https://en.wikipedia.org/wiki/Aliasing) is an effect created by insufficient sampling in space of time. In graphics, it can cause visual artifacts like the one seen below.\n",
    "\n",
    "![Example of Aliasing taken from wikipedia](https://github.com/TobGerken/ISAT300/blob/main/Figures/AliasingExample.PNG?raw=true)\n",
    "\n",
    "**In eperiments bad choice of sampling times will lead to wrong conclusions.**\n"
   ]
  },
  {
   "cell_type": "markdown",
   "id": "401490bc",
   "metadata": {},
   "source": [
    "Consider that you are conducting an experiment and your are collecting the measurement below. \n"
   ]
  },
  {
   "cell_type": "code",
   "execution_count": null,
   "id": "e908d468",
   "metadata": {},
   "outputs": [],
   "source": [
    "# I am creating some sample data here that follows a sine-wave\n",
    "tmax = 60\n",
    "dx= 2000\n",
    "x = np.linspace(1,tmax,dx)\n",
    "y = np.sin(x)\n",
    "\n",
    "# I am now simulating temporal sampling at a fixed interval\n",
    "# (as you might do when you conduct an experiment)\n",
    "\n",
    "samplingInterVal = 5 # seconds\n",
    "dx_sample= round(samplingInterVal/(tmax/dx))\n",
    "\n",
    "plt.scatter(x[1::dx_sample],y[1::dx_sample], marker = 'o', color = 'r') \n",
    "plt.xlim(0,50)\n",
    "plt.ylabel('Output Signal (V)', fontsize = 14)\n",
    "plt.xlabel('Time (seconds)', fontsize = 14)\n",
    "plt.title('Aliasing Example', fontsize = 14)"
   ]
  },
  {
   "cell_type": "markdown",
   "id": "5f8c2c43",
   "metadata": {},
   "source": [
    "The output signal from your sensor is showing an oscillation.  \n",
    "\n",
    "**Based on the measurements below, how what is the period (the time it takes for the signal to repeat) of the oscillation?**"
   ]
  },
  {
   "cell_type": "code",
   "execution_count": null,
   "id": "3b9e5390",
   "metadata": {},
   "outputs": [],
   "source": [
    "# Execute the code below to investigate the apparent period of the signal\n",
    "# You can also compare this to the 'real signal'\n",
    "# To do so uncomment the line below and re-run this cell. \n",
    "\n",
    "# This recreates the same plot\n",
    "plt.scatter(x[0::dx_sample],y[0::dx_sample], marker = 'o', color = 'r') \n",
    "plt.plot(x[0::dx_sample],y[0::dx_sample]) \n",
    "\n",
    "plt.xlim(0,50)\n",
    "ax = plt.ylabel('Output Signal (V)', fontsize = 14)\n",
    "plt.xlabel('Time (seconds)', fontsize = 14)\n",
    "plt.arrow(21,1, 24, 0, width=.03)\n",
    "plt.text(27,1.02, 'Period: ~25 s', fontsize = 14)\n",
    "plt.title('Aliasing Example', fontsize = 14)\n",
    "\n",
    "# Uncomment the line below and see what happens if we plot the full signal \n",
    "#plt.plot(x,y,linestyle =':', color='tab:orange') \n"
   ]
  },
  {
   "cell_type": "markdown",
   "id": "efb850e2",
   "metadata": {},
   "source": [
    "The above is an example of temporal aliasing.\n",
    "\n",
    "**What is the real period in seconds of the sine-signal?\n",
    "\n",
    "**Why are we seeing this effect?**\n",
    "\n",
    "We can also investigate how often we have to sample in order to see the *real* signal. You can play around with the code below to find out. "
   ]
  },
  {
   "cell_type": "code",
   "execution_count": null,
   "id": "8b1fd8d1",
   "metadata": {},
   "outputs": [],
   "source": [
    "# Play around with the sampling interval to see how often you need to sample to be able to capture the signal\n",
    "HighEnoughSampling = 10 # seconds\n",
    "\n",
    "# This creates the plot\n",
    "plt.xlim(0,50)\n",
    "ax = plt.ylabel('Output Signal (V)', fontsize = 14)\n",
    "plt.xlabel('Time (seconds)', fontsize = 14)\n",
    "plt.text(21.5,1.02, '6.3 s', fontsize = 14)\n",
    "plt.plot(x,y,linestyle =':', color='tab:orange') \n",
    "\n",
    "dx_enough= round(HighEnoughSampling/(tmax/dx))\n",
    "plt.scatter(x[0::dx_enough],y[0::dx_enough], marker = 'o', color = 'k') \n",
    "plt.legend(['True Signal', 'Sampled Signal'])\n",
    "plt.arrow(21,1, 5, 0, width=.03)"
   ]
  },
  {
   "cell_type": "markdown",
   "id": "3db2a0ce",
   "metadata": {},
   "source": [
    "**What does this mean for sampling rates in experiments?**\n",
    "\n",
    "**For example, let's say you wanted to temperature change during the course of a day. How often should you sample?**"
   ]
  }
 ],
 "metadata": {
  "kernelspec": {
   "display_name": "Python 3",
   "language": "python",
   "name": "python3"
  },
  "language_info": {
   "codemirror_mode": {
    "name": "ipython",
    "version": 3
   },
   "file_extension": ".py",
   "mimetype": "text/x-python",
   "name": "python",
   "nbconvert_exporter": "python",
   "pygments_lexer": "ipython3",
   "version": "3.8.8"
  }
 },
 "nbformat": 4,
 "nbformat_minor": 5
}
