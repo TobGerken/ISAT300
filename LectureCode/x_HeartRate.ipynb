{
 "cells": [
  {
   "cell_type": "code",
   "execution_count": 110,
   "id": "5164b321-7825-456b-9472-359bfe856815",
   "metadata": {},
   "outputs": [],
   "source": [
    "# running this will import pandas.\n",
    "import pandas as pd\n",
    "import numpy as np\n",
    "from scipy.optimize import curve_fit"
   ]
  },
  {
   "cell_type": "code",
   "execution_count": 111,
   "id": "40db314c",
   "metadata": {},
   "outputs": [
    {
     "ename": "ModuleNotFoundError",
     "evalue": "No module named 'google'",
     "output_type": "error",
     "traceback": [
      "\u001b[1;31m---------------------------------------------------------------------------\u001b[0m",
      "\u001b[1;31mModuleNotFoundError\u001b[0m                       Traceback (most recent call last)",
      "\u001b[1;32m<ipython-input-111-c6bb91fae8c4>\u001b[0m in \u001b[0;36m<module>\u001b[1;34m\u001b[0m\n\u001b[1;32m----> 1\u001b[1;33m \u001b[1;32mfrom\u001b[0m \u001b[0mgoogle\u001b[0m\u001b[1;33m.\u001b[0m\u001b[0mcolab\u001b[0m \u001b[1;32mimport\u001b[0m \u001b[0mauth\u001b[0m\u001b[1;33m\u001b[0m\u001b[1;33m\u001b[0m\u001b[0m\n\u001b[0m\u001b[0;32m      2\u001b[0m \u001b[1;32mimport\u001b[0m \u001b[0mgspread\u001b[0m\u001b[1;33m\u001b[0m\u001b[1;33m\u001b[0m\u001b[0m\n\u001b[0;32m      3\u001b[0m \u001b[1;32mfrom\u001b[0m \u001b[0mgoogle\u001b[0m\u001b[1;33m.\u001b[0m\u001b[0mauth\u001b[0m \u001b[1;32mimport\u001b[0m \u001b[0mdefault\u001b[0m \u001b[1;31m#autenticating to google\u001b[0m\u001b[1;33m\u001b[0m\u001b[1;33m\u001b[0m\u001b[0m\n\u001b[0;32m      4\u001b[0m \u001b[0mauth\u001b[0m\u001b[1;33m.\u001b[0m\u001b[0mauthenticate_user\u001b[0m\u001b[1;33m(\u001b[0m\u001b[1;33m)\u001b[0m\u001b[1;33m\u001b[0m\u001b[1;33m\u001b[0m\u001b[0m\n\u001b[0;32m      5\u001b[0m \u001b[0mcreds\u001b[0m\u001b[1;33m,\u001b[0m \u001b[0m_\u001b[0m \u001b[1;33m=\u001b[0m \u001b[0mdefault\u001b[0m\u001b[1;33m(\u001b[0m\u001b[1;33m)\u001b[0m\u001b[1;33m\u001b[0m\u001b[1;33m\u001b[0m\u001b[0m\n",
      "\u001b[1;31mModuleNotFoundError\u001b[0m: No module named 'google'"
     ]
    }
   ],
   "source": [
    "from google.colab import auth\n",
    "import gspread\n",
    "from google.auth import default #autenticating to google\n",
    "auth.authenticate_user()\n",
    "creds, _ = default()\n",
    "gc = gspread.authorize(creds)"
   ]
  },
  {
   "cell_type": "code",
   "execution_count": 112,
   "id": "6c26d4aa",
   "metadata": {},
   "outputs": [
    {
     "ename": "NameError",
     "evalue": "name 'gc' is not defined",
     "output_type": "error",
     "traceback": [
      "\u001b[1;31m---------------------------------------------------------------------------\u001b[0m",
      "\u001b[1;31mNameError\u001b[0m                                 Traceback (most recent call last)",
      "\u001b[1;32m<ipython-input-112-cb70ffaf129d>\u001b[0m in \u001b[0;36m<module>\u001b[1;34m\u001b[0m\n\u001b[0;32m      1\u001b[0m \u001b[1;31m# read data and put it in a dataframe\u001b[0m\u001b[1;33m\u001b[0m\u001b[1;33m\u001b[0m\u001b[1;33m\u001b[0m\u001b[0m\n\u001b[1;32m----> 2\u001b[1;33m \u001b[0mgsheets\u001b[0m \u001b[1;33m=\u001b[0m \u001b[0mgc\u001b[0m\u001b[1;33m.\u001b[0m\u001b[0mopen_by_url\u001b[0m\u001b[1;33m(\u001b[0m\u001b[1;34m'https://docs.google.com/spreadsheets/d/1YMl1dDjvbLQ6FnSMqpLYMCSPVrSyC60FlGQ6T_crmco/edit?usp=sharing'\u001b[0m\u001b[1;33m)\u001b[0m\u001b[1;33m\u001b[0m\u001b[1;33m\u001b[0m\u001b[0m\n\u001b[0m\u001b[0;32m      3\u001b[0m \u001b[1;33m\u001b[0m\u001b[0m\n\u001b[0;32m      4\u001b[0m \u001b[0mworksheet\u001b[0m \u001b[1;33m=\u001b[0m\u001b[0mgsheets\u001b[0m\u001b[1;33m.\u001b[0m\u001b[0msheet1\u001b[0m\u001b[1;33m\u001b[0m\u001b[1;33m\u001b[0m\u001b[0m\n\u001b[0;32m      5\u001b[0m \u001b[1;33m\u001b[0m\u001b[0m\n",
      "\u001b[1;31mNameError\u001b[0m: name 'gc' is not defined"
     ]
    }
   ],
   "source": [
    "# read data and put it in a dataframe\n",
    "gsheets = gc.open_by_url('https://docs.google.com/spreadsheets/d/1YMl1dDjvbLQ6FnSMqpLYMCSPVrSyC60FlGQ6T_crmco/edit?usp=sharing')\n",
    "\n",
    "worksheet =gsheets.sheet1\n",
    "\n",
    "# get_all_values gives a list of rows.\n",
    "rows = worksheet.get_all_values()\n",
    "print(rows)\n",
    "\n",
    "pd.DataFrame.from_records(rows)"
   ]
  },
  {
   "cell_type": "code",
   "execution_count": 113,
   "id": "0b721b3d",
   "metadata": {},
   "outputs": [
    {
     "data": {
      "text/plain": [
       "array([  0,  20,  40,  60,  80, 100, 120, 140, 160, 180, 200, 220, 240,\n",
       "       260])"
      ]
     },
     "execution_count": 113,
     "metadata": {},
     "output_type": "execute_result"
    }
   ],
   "source": [
    "# Create some data\n",
    "hr = [187, 152 ,129 ,111 , 99 ,89 ,82,76 ,74, 71, 71, 73, 72, 71]\n",
    "t = np.arange(len(hr))*20\n",
    "t"
   ]
  },
  {
   "cell_type": "code",
   "execution_count": 114,
   "id": "31eff2ec",
   "metadata": {},
   "outputs": [
    {
     "data": {
      "text/html": [
       "<div>\n",
       "<style scoped>\n",
       "    .dataframe tbody tr th:only-of-type {\n",
       "        vertical-align: middle;\n",
       "    }\n",
       "\n",
       "    .dataframe tbody tr th {\n",
       "        vertical-align: top;\n",
       "    }\n",
       "\n",
       "    .dataframe thead th {\n",
       "        text-align: right;\n",
       "    }\n",
       "</style>\n",
       "<table border=\"1\" class=\"dataframe\">\n",
       "  <thead>\n",
       "    <tr style=\"text-align: right;\">\n",
       "      <th></th>\n",
       "      <th>Time</th>\n",
       "      <th>HeartRate</th>\n",
       "    </tr>\n",
       "  </thead>\n",
       "  <tbody>\n",
       "    <tr>\n",
       "      <th>0</th>\n",
       "      <td>0</td>\n",
       "      <td>187</td>\n",
       "    </tr>\n",
       "    <tr>\n",
       "      <th>1</th>\n",
       "      <td>20</td>\n",
       "      <td>152</td>\n",
       "    </tr>\n",
       "    <tr>\n",
       "      <th>2</th>\n",
       "      <td>40</td>\n",
       "      <td>129</td>\n",
       "    </tr>\n",
       "    <tr>\n",
       "      <th>3</th>\n",
       "      <td>60</td>\n",
       "      <td>111</td>\n",
       "    </tr>\n",
       "    <tr>\n",
       "      <th>4</th>\n",
       "      <td>80</td>\n",
       "      <td>99</td>\n",
       "    </tr>\n",
       "  </tbody>\n",
       "</table>\n",
       "</div>"
      ],
      "text/plain": [
       "   Time  HeartRate\n",
       "0     0        187\n",
       "1    20        152\n",
       "2    40        129\n",
       "3    60        111\n",
       "4    80         99"
      ]
     },
     "execution_count": 114,
     "metadata": {},
     "output_type": "execute_result"
    }
   ],
   "source": [
    "df = pd.DataFrame(data={'Time':t, 'HeartRate':hr})\n",
    "df.head()"
   ]
  },
  {
   "cell_type": "code",
   "execution_count": 115,
   "id": "cb9a7270",
   "metadata": {},
   "outputs": [
    {
     "data": {
      "image/png": "[encoded data removed]",
      "text/plain": [
       "<Figure size 432x288 with 1 Axes>"
      ]
     },
     "metadata": {
      "needs_background": "light"
     },
     "output_type": "display_data"
    }
   ],
   "source": [
    "ax1 = df.plot(kind='scatter', x='Time', y='HeartRate', grid = True)"
   ]
  },
  {
   "cell_type": "code",
   "execution_count": 120,
   "id": "3fcdf7f6",
   "metadata": {},
   "outputs": [
    {
     "name": "stderr",
     "output_type": "stream",
     "text": [
      "C:\\Users\\gerkentx\\Anaconda3\\lib\\site-packages\\IPython\\core\\interactiveshell.py:3437: RankWarning: Polyfit may be poorly conditioned\n",
      "  exec(code_obj, self.user_global_ns, self.user_ns)\n"
     ]
    }
   ],
   "source": [
    "x = df['Time'].values\n",
    "y = df['HeartRate'].values\n",
    "\n",
    "polynomial_coeff_1 = np.polyfit(x,y,1)\n",
    "\n",
    "polynomial_coeff_2 = np.polyfit(x,y,2)\n",
    "\n",
    "polynomial_coeff_50 = np.polyfit(x,y,25) "
   ]
  },
  {
   "cell_type": "code",
   "execution_count": 121,
   "id": "3b2db908",
   "metadata": {},
   "outputs": [],
   "source": [
    "polynomial_coeff_1 = np.polyfit(df['Time'],df['HeartRate'],1)"
   ]
  },
  {
   "cell_type": "code",
   "execution_count": 122,
   "id": "fb8ec603",
   "metadata": {},
   "outputs": [
    {
     "data": {
      "text/html": [
       "<div>\n",
       "<style scoped>\n",
       "    .dataframe tbody tr th:only-of-type {\n",
       "        vertical-align: middle;\n",
       "    }\n",
       "\n",
       "    .dataframe tbody tr th {\n",
       "        vertical-align: top;\n",
       "    }\n",
       "\n",
       "    .dataframe thead th {\n",
       "        text-align: right;\n",
       "    }\n",
       "</style>\n",
       "<table border=\"1\" class=\"dataframe\">\n",
       "  <thead>\n",
       "    <tr style=\"text-align: right;\">\n",
       "      <th></th>\n",
       "      <th>Time</th>\n",
       "      <th>HeartRate</th>\n",
       "      <th>HR_Est_1</th>\n",
       "      <th>HR_Est_2</th>\n",
       "      <th>HR_Est_50</th>\n",
       "    </tr>\n",
       "  </thead>\n",
       "  <tbody>\n",
       "    <tr>\n",
       "      <th>0</th>\n",
       "      <td>0</td>\n",
       "      <td>187</td>\n",
       "      <td>144.971429</td>\n",
       "      <td>175.453571</td>\n",
       "      <td>187.0</td>\n",
       "    </tr>\n",
       "    <tr>\n",
       "      <th>1</th>\n",
       "      <td>20</td>\n",
       "      <td>152</td>\n",
       "      <td>137.580220</td>\n",
       "      <td>153.993681</td>\n",
       "      <td>152.0</td>\n",
       "    </tr>\n",
       "    <tr>\n",
       "      <th>2</th>\n",
       "      <td>40</td>\n",
       "      <td>129</td>\n",
       "      <td>130.189011</td>\n",
       "      <td>134.878571</td>\n",
       "      <td>129.0</td>\n",
       "    </tr>\n",
       "    <tr>\n",
       "      <th>3</th>\n",
       "      <td>60</td>\n",
       "      <td>111</td>\n",
       "      <td>122.797802</td>\n",
       "      <td>118.108242</td>\n",
       "      <td>111.0</td>\n",
       "    </tr>\n",
       "    <tr>\n",
       "      <th>4</th>\n",
       "      <td>80</td>\n",
       "      <td>99</td>\n",
       "      <td>115.406593</td>\n",
       "      <td>103.682692</td>\n",
       "      <td>99.0</td>\n",
       "    </tr>\n",
       "  </tbody>\n",
       "</table>\n",
       "</div>"
      ],
      "text/plain": [
       "   Time  HeartRate    HR_Est_1    HR_Est_2  HR_Est_50\n",
       "0     0        187  144.971429  175.453571      187.0\n",
       "1    20        152  137.580220  153.993681      152.0\n",
       "2    40        129  130.189011  134.878571      129.0\n",
       "3    60        111  122.797802  118.108242      111.0\n",
       "4    80         99  115.406593  103.682692       99.0"
      ]
     },
     "execution_count": 122,
     "metadata": {},
     "output_type": "execute_result"
    }
   ],
   "source": [
    "df['HR_Est_1']=np.polyval(polynomial_coeff_1,x)\n",
    "df['HR_Est_2']=np.polyval(polynomial_coeff_2,x)\n",
    "df['HR_Est_50']=np.polyval(polynomial_coeff_50,x)\n",
    "df.head()"
   ]
  },
  {
   "cell_type": "code",
   "execution_count": 124,
   "id": "3784e8dc",
   "metadata": {},
   "outputs": [
    {
     "data": {
      "text/plain": [
       "<AxesSubplot:xlabel='Time', ylabel='HeartRate'>"
      ]
     },
     "execution_count": 124,
     "metadata": {},
     "output_type": "execute_result"
    },
    {
     "data": {
      "image/png": "[encoded data removed]",
      "text/plain": [
       "<Figure size 432x288 with 1 Axes>"
      ]
     },
     "metadata": {
      "needs_background": "light"
     },
     "output_type": "display_data"
    }
   ],
   "source": [
    "ax1 = df.plot(kind='scatter', x='Time', y='HeartRate', color = 'k')\n",
    "df[['Time', 'HR_Est_1','HR_Est_2','HR_Est_50']].plot(x='Time', ax=ax1, grid = True)"
   ]
  },
  {
   "cell_type": "code",
   "execution_count": 65,
   "id": "5cf34062",
   "metadata": {},
   "outputs": [
    {
     "name": "stdout",
     "output_type": "stream",
     "text": [
      "The 1st order polynomial has an R2 of: 0.74\n",
      "The 2nd order polynomial has an R2 of: 0.98\n",
      "The 50th order polynomial has an R2 of: 1.00\n"
     ]
    }
   ],
   "source": [
    "r2_1 = (np.corrcoef(df['HeartRate'],df['HR_Est_1'])[0,1])**2\n",
    "r2_2 = (np.corrcoef(df['HeartRate'],df['HR_Est_2'])[0,1])**2\n",
    "r2_50 = (np.corrcoef(df['HeartRate'],df['HR_Est_50'])[0,1])**2\n",
    "\n",
    "print('The 1st order polynomial has an R2 of: %3.2f' % (r2_1))\n",
    "print('The 2nd order polynomial has an R2 of: %3.2f' % (r2_2))\n",
    "print('The 50th order polynomial has an R2 of: %3.2f' % (r2_25))\n"
   ]
  },
  {
   "cell_type": "code",
   "execution_count": 133,
   "id": "000176f2",
   "metadata": {},
   "outputs": [
    {
     "name": "stdout",
     "output_type": "stream",
     "text": [
      "[  0.           5.30612245  10.6122449   15.91836735  21.2244898\n",
      "  26.53061224  31.83673469  37.14285714  42.44897959  47.75510204\n",
      "  53.06122449  58.36734694  63.67346939  68.97959184  74.28571429\n",
      "  79.59183673  84.89795918  90.20408163  95.51020408 100.81632653\n",
      " 106.12244898 111.42857143 116.73469388 122.04081633 127.34693878\n",
      " 132.65306122 137.95918367 143.26530612 148.57142857 153.87755102\n",
      " 159.18367347 164.48979592 169.79591837 175.10204082 180.40816327\n",
      " 185.71428571 191.02040816 196.32653061 201.63265306 206.93877551\n",
      " 212.24489796 217.55102041 222.85714286 228.16326531 233.46938776\n",
      " 238.7755102  244.08163265 249.3877551  254.69387755 260.        ]\n"
     ]
    }
   ],
   "source": [
    "x_high_res = np.linspace(min(x),max(x),50)\n",
    "print(x_high_res)\n",
    "y_high_res = np.polyval(polynomial_coeff_50,x_high_res)"
   ]
  },
  {
   "cell_type": "code",
   "execution_count": 132,
   "id": "054040ad",
   "metadata": {},
   "outputs": [
    {
     "data": {
      "image/png": "[encoded data removed]",
      "text/plain": [
       "<Figure size 432x288 with 1 Axes>"
      ]
     },
     "metadata": {
      "needs_background": "light"
     },
     "output_type": "display_data"
    }
   ],
   "source": [
    "import matplotlib.pyplot as plt\n",
    "ax1 = df.plot(kind='scatter', x='Time', y='HeartRate', grid = True)\n",
    "ax1 = plt.plot(x_high_res,y_high_res)\n"
   ]
  },
  {
   "cell_type": "code",
   "execution_count": 146,
   "id": "a8e2d5a3",
   "metadata": {},
   "outputs": [
    {
     "data": {
      "image/png": "[encoded data removed]",
      "text/plain": [
       "<Figure size 432x288 with 1 Axes>"
      ]
     },
     "metadata": {
      "needs_background": "light"
     },
     "output_type": "display_data"
    }
   ],
   "source": [
    "def func4(t, a, b, k):\n",
    "    return a + b * np.exp(-k*t) \n",
    "\n",
    "\n",
    "a = 75\n",
    "b = 120\n",
    "k = 0.02\n",
    "\n",
    "y_est = func4(x, a, b, k)\n",
    "\n",
    "ax1 = df.plot(kind='scatter', x='Time', y='HeartRate', grid = True)\n",
    "ax1 = plt.plot(x,y_est, color = 'r')\n",
    "ax1 = plt.text(100, 160, r\"$Y = %3.2f +  %3.2f e^{- %3.2f }$\" % (a,b,k), fontsize = 16)\n",
    "ax1 = plt.text(100, 140, r\"$R^2$ = %3.2f\" % (np.corrcoef(y,y_est)[0,1])**2 , fontsize = 16)\n"
   ]
  },
  {
   "cell_type": "code",
   "execution_count": 87,
   "id": "32d4e589",
   "metadata": {},
   "outputs": [
    {
     "data": {
      "text/plain": [
       "'$Y = 75.00 +  120.00 e^{- 0.40 t}$'"
      ]
     },
     "execution_count": 87,
     "metadata": {},
     "output_type": "execute_result"
    }
   ],
   "source": [
    "r\"$Y = %3.2f +  %3.2f e^{- %3.2f t}$\" % (a,b,k)"
   ]
  },
  {
   "cell_type": "code",
   "execution_count": 142,
   "id": "df3cbf2a-9ba2-4028-ad48-78dd93c7b5c2",
   "metadata": {},
   "outputs": [
    {
     "name": "stderr",
     "output_type": "stream",
     "text": [
      "<ipython-input-140-c0d3f52adf41>:2: RuntimeWarning: overflow encountered in exp\n",
      "  return a + b * np.exp(-k*t)\n"
     ]
    },
    {
     "data": {
      "text/plain": [
       "array([6.81575240e+01, 1.19345077e+02, 1.74090799e-02])"
      ]
     },
     "execution_count": 142,
     "metadata": {},
     "output_type": "execute_result"
    }
   ],
   "source": [
    "popt4, pcov4  = curve_fit(func4, x, y)\n",
    "popt4"
   ]
  },
  {
   "cell_type": "markdown",
   "id": "730c6f27-0262-491b-9dff-2676b84643e8",
   "metadata": {},
   "source": [
    "## Reading data into a pandas dataframe\n",
    "\n",
    "To look at some data, we have to get it into a pandas dataframe. Pandas has a lot of different functions to read data that is saved as a file. \n",
    "\n"
   ]
  },
  {
   "cell_type": "code",
   "execution_count": 143,
   "id": "35a2b5bc",
   "metadata": {},
   "outputs": [],
   "source": [
    "import matplotlib.pyplot as plt"
   ]
  },
  {
   "cell_type": "code",
   "execution_count": 147,
   "id": "0201abe1",
   "metadata": {},
   "outputs": [
    {
     "data": {
      "image/png": "[encoded data removed]",
      "text/plain": [
       "<Figure size 432x288 with 1 Axes>"
      ]
     },
     "metadata": {
      "needs_background": "light"
     },
     "output_type": "display_data"
    }
   ],
   "source": [
    "y_est = func4(x,popt4[0],popt4[1],popt4[2])\n",
    "\n",
    "ax1 = df.plot(kind='scatter', x='Time', y='HeartRate', grid = True)\n",
    "ax1 = plt.plot(x,y_est, color = 'r')\n",
    "ax1 = plt.text(100, 160, r\"$Y = %3.2f +  %3.2f e^{- %3.2f }$\" % (popt4[0],popt4[1],popt4[2]), fontsize = 16)\n",
    "ax1 = plt.text(100, 140, r\"$R^2$ = %3.2f\" % (np.corrcoef(y,y_est)[0,1])**2 , fontsize = 16)"
   ]
  },
  {
   "cell_type": "code",
   "execution_count": 100,
   "id": "a18b4a55-abb3-488c-920f-440709400c24",
   "metadata": {},
   "outputs": [
    {
     "data": {
      "text/plain": [
       "array([[ 1.      , -0.866606],\n",
       "       [-0.866606,  1.      ]])"
      ]
     },
     "execution_count": 100,
     "metadata": {},
     "output_type": "execute_result"
    }
   ],
   "source": [
    "np.corrcoef(x,y_est)"
   ]
  },
  {
   "cell_type": "code",
   "execution_count": 3,
   "id": "ee3896e7-c24c-4f61-bb51-688aebce1212",
   "metadata": {},
   "outputs": [
    {
     "data": {
      "text/html": [
       "<div>\n",
       "<style scoped>\n",
       "    .dataframe tbody tr th:only-of-type {\n",
       "        vertical-align: middle;\n",
       "    }\n",
       "\n",
       "    .dataframe tbody tr th {\n",
       "        vertical-align: top;\n",
       "    }\n",
       "\n",
       "    .dataframe thead th {\n",
       "        text-align: right;\n",
       "    }\n",
       "</style>\n",
       "<table border=\"1\" class=\"dataframe\">\n",
       "  <thead>\n",
       "    <tr style=\"text-align: right;\">\n",
       "      <th></th>\n",
       "      <th>origin</th>\n",
       "      <th>cylinders</th>\n",
       "      <th>model_year</th>\n",
       "      <th>mpg_level</th>\n",
       "      <th>car_company</th>\n",
       "      <th>mpg</th>\n",
       "      <th>displacement</th>\n",
       "      <th>horsepower</th>\n",
       "      <th>weight</th>\n",
       "      <th>acceleration</th>\n",
       "    </tr>\n",
       "  </thead>\n",
       "  <tbody>\n",
       "    <tr>\n",
       "      <th>0</th>\n",
       "      <td>usa</td>\n",
       "      <td>8</td>\n",
       "      <td>70</td>\n",
       "      <td>medium</td>\n",
       "      <td>chevrolet</td>\n",
       "      <td>18.0</td>\n",
       "      <td>307.0</td>\n",
       "      <td>130.0</td>\n",
       "      <td>3504</td>\n",
       "      <td>12.0</td>\n",
       "    </tr>\n",
       "    <tr>\n",
       "      <th>1</th>\n",
       "      <td>usa</td>\n",
       "      <td>8</td>\n",
       "      <td>70</td>\n",
       "      <td>low</td>\n",
       "      <td>buick</td>\n",
       "      <td>15.0</td>\n",
       "      <td>350.0</td>\n",
       "      <td>165.0</td>\n",
       "      <td>3693</td>\n",
       "      <td>11.5</td>\n",
       "    </tr>\n",
       "    <tr>\n",
       "      <th>2</th>\n",
       "      <td>usa</td>\n",
       "      <td>8</td>\n",
       "      <td>70</td>\n",
       "      <td>medium</td>\n",
       "      <td>plymouth</td>\n",
       "      <td>18.0</td>\n",
       "      <td>318.0</td>\n",
       "      <td>150.0</td>\n",
       "      <td>3436</td>\n",
       "      <td>11.0</td>\n",
       "    </tr>\n",
       "    <tr>\n",
       "      <th>3</th>\n",
       "      <td>usa</td>\n",
       "      <td>8</td>\n",
       "      <td>70</td>\n",
       "      <td>low</td>\n",
       "      <td>amc</td>\n",
       "      <td>16.0</td>\n",
       "      <td>304.0</td>\n",
       "      <td>150.0</td>\n",
       "      <td>3433</td>\n",
       "      <td>12.0</td>\n",
       "    </tr>\n",
       "    <tr>\n",
       "      <th>4</th>\n",
       "      <td>usa</td>\n",
       "      <td>8</td>\n",
       "      <td>70</td>\n",
       "      <td>medium</td>\n",
       "      <td>ford</td>\n",
       "      <td>17.0</td>\n",
       "      <td>302.0</td>\n",
       "      <td>140.0</td>\n",
       "      <td>3449</td>\n",
       "      <td>10.5</td>\n",
       "    </tr>\n",
       "  </tbody>\n",
       "</table>\n",
       "</div>"
      ],
      "text/plain": [
       "  origin  cylinders  model_year mpg_level car_company   mpg  displacement  \\\n",
       "0    usa          8          70    medium   chevrolet  18.0         307.0   \n",
       "1    usa          8          70       low       buick  15.0         350.0   \n",
       "2    usa          8          70    medium    plymouth  18.0         318.0   \n",
       "3    usa          8          70       low         amc  16.0         304.0   \n",
       "4    usa          8          70    medium        ford  17.0         302.0   \n",
       "\n",
       "   horsepower  weight  acceleration  \n",
       "0       130.0    3504          12.0  \n",
       "1       165.0    3693          11.5  \n",
       "2       150.0    3436          11.0  \n",
       "3       150.0    3433          12.0  \n",
       "4       140.0    3449          10.5  "
      ]
     },
     "execution_count": 3,
     "metadata": {},
     "output_type": "execute_result"
    }
   ],
   "source": [
    "df.head()"
   ]
  },
  {
   "cell_type": "code",
   "execution_count": 129,
   "id": "3cd856b4",
   "metadata": {},
   "outputs": [
    {
     "data": {
      "text/plain": [
       "array([  0.        ,   2.62626263,   5.25252525,   7.87878788,\n",
       "        10.50505051,  13.13131313,  15.75757576,  18.38383838,\n",
       "        21.01010101,  23.63636364,  26.26262626,  28.88888889,\n",
       "        31.51515152,  34.14141414,  36.76767677,  39.39393939,\n",
       "        42.02020202,  44.64646465,  47.27272727,  49.8989899 ,\n",
       "        52.52525253,  55.15151515,  57.77777778,  60.4040404 ,\n",
       "        63.03030303,  65.65656566,  68.28282828,  70.90909091,\n",
       "        73.53535354,  76.16161616,  78.78787879,  81.41414141,\n",
       "        84.04040404,  86.66666667,  89.29292929,  91.91919192,\n",
       "        94.54545455,  97.17171717,  99.7979798 , 102.42424242,\n",
       "       105.05050505, 107.67676768, 110.3030303 , 112.92929293,\n",
       "       115.55555556, 118.18181818, 120.80808081, 123.43434343,\n",
       "       126.06060606, 128.68686869, 131.31313131, 133.93939394,\n",
       "       136.56565657, 139.19191919, 141.81818182, 144.44444444,\n",
       "       147.07070707, 149.6969697 , 152.32323232, 154.94949495,\n",
       "       157.57575758, 160.2020202 , 162.82828283, 165.45454545,\n",
       "       168.08080808, 170.70707071, 173.33333333, 175.95959596,\n",
       "       178.58585859, 181.21212121, 183.83838384, 186.46464646,\n",
       "       189.09090909, 191.71717172, 194.34343434, 196.96969697,\n",
       "       199.5959596 , 202.22222222, 204.84848485, 207.47474747,\n",
       "       210.1010101 , 212.72727273, 215.35353535, 217.97979798,\n",
       "       220.60606061, 223.23232323, 225.85858586, 228.48484848,\n",
       "       231.11111111, 233.73737374, 236.36363636, 238.98989899,\n",
       "       241.61616162, 244.24242424, 246.86868687, 249.49494949,\n",
       "       252.12121212, 254.74747475, 257.37373737, 260.        ])"
      ]
     },
     "execution_count": 129,
     "metadata": {},
     "output_type": "execute_result"
    }
   ],
   "source": [
    "np.linspace(min(x),max(x),100)"
   ]
  },
  {
   "cell_type": "code",
   "execution_count": null,
   "id": "6fad0cc3",
   "metadata": {},
   "outputs": [],
   "source": []
  }
 ],
 "metadata": {
  "kernelspec": {
   "display_name": "Python 3",
   "language": "python",
   "name": "python3"
  },
  "language_info": {
   "codemirror_mode": {
    "name": "ipython",
    "version": 3
   },
   "file_extension": ".py",
   "mimetype": "text/x-python",
   "name": "python",
   "nbconvert_exporter": "python",
   "pygments_lexer": "ipython3",
   "version": "3.8.8"
  }
 },
 "nbformat": 4,
 "nbformat_minor": 5
}
