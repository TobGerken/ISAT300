{
 "cells": [
  {
   "cell_type": "markdown",
   "metadata": {},
   "source": [
    "# Heart Rate Lab Review \n",
    "\n",
    "\n",
    "**This notebook is published on my github. It is publicly accessible, but you cannot save your changes to my github. Learning git & github is beyond the scope of this course. If you are familiar with github, you know that to do. If you don't know github, you can save a personal copy of the file to your google drive, so that you can save your changes and can access them at a later date**\n",
    "\n",
    "This notebook is a continuation from previous classes:\n",
    "\n",
    "1. [GettingStarted](https://github.com/TobGerken/ISAT300/blob/main/1_GettingStarted.ipynb)\n",
    "2. [Data Visualization](https://github.com/TobGerken/ISAT300/blob/main/2_DataVisualization.ipynb)\n",
    "\n",
    "\n",
    "## Before we start\n",
    "\n",
    "Some of the code today is going to be a bit complicated and I do not expect you to be able to write code like this on your own. \n",
    "\n",
    "However, we are covering some really important concepts and I expect you to be familiar with the underlying concepts rather than the implementation in Python. For example, we will talk about fitting models to observations from experient and we will explore some of the pitfalls.\n",
    "\n",
    "**I need you to know:** \n",
    "\n",
    "- **what goes wrong with the polynomial models and why**\n",
    "- **understand the components of the exponential model**\n",
    "- **why the final model appears to be a good choice**\n",
    "\n",
    "## Now lets get started \n",
    "\n",
    "The goal of today's exercise is to have a brief look at the Heart Rate data you collected during the lab. In the lab report you are be asked to perform some basic statistics on the data and to fit a model to our observations. \n",
    "\n",
    "In this notebook I will show you how to: \n",
    "\n",
    "- read in data from a google sheet into pandas\n",
    "- perform basic statistics on rows and columns in a pandas data frame\n",
    "- fit and evaluate different mathematical models to experimental data\n",
    "- regognize the importance selecting an appropriate model \n",
    "\n",
    "We have previously covered how make a histogram using pandas. If you don't remember, have a look at the [Data Visualization] lecture (https://github.com/TobGerken/ISAT300/blob/main/2_DataVisualization.ipynb).\n",
    "\n",
    "Because we are still suing pandas we have to import the pandas python module and we make it available with the name `pd`.\n",
    "We will also be using [numpy](https://numpy.org/) a module that extends python for mathematics, science, and statistics. We import this as `np`."
   ]
  },
  {
   "cell_type": "code",
   "execution_count": 1,
   "metadata": {},
   "outputs": [],
   "source": [
    "# running this will import pandas and numpy.\n",
    "import pandas as pd\n",
    "import numpy as np"
   ]
  },
  {
   "cell_type": "markdown",
   "metadata": {},
   "source": [
    "## Reading a google spreadsheet into a dataframe\n",
    "\n",
    "If you are using google Colab you can easily load data from google sheets, which makes sense since they are both google products. Colab provides the appropriate functions that will authenticate you with google and will then load the google sheet. Doing so will promt a google account logon window. \n",
    "\n",
    "**Note that the below code will only work on Colab! If you chose to work with a different software you can also read a google sheet, but it is more complicated and it might be easier to just download the sheet to your computer as a csv or Excel file that you can then read into a dataframe.** "
   ]
  },
  {
   "cell_type": "code",
   "execution_count": 111,
   "metadata": {},
   "outputs": [
    {
     "ename": "ModuleNotFoundError",
     "evalue": "No module named 'google'",
     "output_type": "error",
     "traceback": [
      "\u001b[1;31m---------------------------------------------------------------------------\u001b[0m",
      "\u001b[1;31mModuleNotFoundError\u001b[0m                       Traceback (most recent call last)",
      "\u001b[1;32m<ipython-input-111-c6bb91fae8c4>\u001b[0m in \u001b[0;36m<module>\u001b[1;34m\u001b[0m\n\u001b[1;32m----> 1\u001b[1;33m \u001b[1;32mfrom\u001b[0m \u001b[0mgoogle\u001b[0m\u001b[1;33m.\u001b[0m\u001b[0mcolab\u001b[0m \u001b[1;32mimport\u001b[0m \u001b[0mauth\u001b[0m\u001b[1;33m\u001b[0m\u001b[1;33m\u001b[0m\u001b[0m\n\u001b[0m\u001b[0;32m      2\u001b[0m \u001b[1;32mimport\u001b[0m \u001b[0mgspread\u001b[0m\u001b[1;33m\u001b[0m\u001b[1;33m\u001b[0m\u001b[0m\n\u001b[0;32m      3\u001b[0m \u001b[1;32mfrom\u001b[0m \u001b[0mgoogle\u001b[0m\u001b[1;33m.\u001b[0m\u001b[0mauth\u001b[0m \u001b[1;32mimport\u001b[0m \u001b[0mdefault\u001b[0m \u001b[1;31m#autenticating to google\u001b[0m\u001b[1;33m\u001b[0m\u001b[1;33m\u001b[0m\u001b[0m\n\u001b[0;32m      4\u001b[0m \u001b[0mauth\u001b[0m\u001b[1;33m.\u001b[0m\u001b[0mauthenticate_user\u001b[0m\u001b[1;33m(\u001b[0m\u001b[1;33m)\u001b[0m\u001b[1;33m\u001b[0m\u001b[1;33m\u001b[0m\u001b[0m\n\u001b[0;32m      5\u001b[0m \u001b[0mcreds\u001b[0m\u001b[1;33m,\u001b[0m \u001b[0m_\u001b[0m \u001b[1;33m=\u001b[0m \u001b[0mdefault\u001b[0m\u001b[1;33m(\u001b[0m\u001b[1;33m)\u001b[0m\u001b[1;33m\u001b[0m\u001b[1;33m\u001b[0m\u001b[0m\n",
      "\u001b[1;31mModuleNotFoundError\u001b[0m: No module named 'google'"
     ]
    }
   ],
   "source": [
    "from google.colab import auth  # This is the module that allows google to authenticate you\n",
    "import gspread                 # This is the module to interact with a google sheet.  \n",
    "from google.auth import default #autenticating to google\n",
    "auth.authenticate_user()\n",
    "creds, _ = default()\n",
    "gc = gspread.authorize(creds)"
   ]
  },
  {
   "cell_type": "code",
   "execution_count": 2,
   "metadata": {},
   "outputs": [
    {
     "ename": "NameError",
     "evalue": "name 'gc' is not defined",
     "output_type": "error",
     "traceback": [
      "\u001b[1;31m---------------------------------------------------------------------------\u001b[0m",
      "\u001b[1;31mNameError\u001b[0m                                 Traceback (most recent call last)",
      "\u001b[1;32m<ipython-input-2-0683ec7d07a8>\u001b[0m in \u001b[0;36m<module>\u001b[1;34m\u001b[0m\n\u001b[0;32m      1\u001b[0m \u001b[1;31m# This cell opens the google sheet specified in the URL, selects the first sheet,\u001b[0m\u001b[1;33m\u001b[0m\u001b[1;33m\u001b[0m\u001b[1;33m\u001b[0m\u001b[0m\n\u001b[0;32m      2\u001b[0m \u001b[1;31m# reads the data, and put it in a dataframe\u001b[0m\u001b[1;33m\u001b[0m\u001b[1;33m\u001b[0m\u001b[1;33m\u001b[0m\u001b[0m\n\u001b[1;32m----> 3\u001b[1;33m \u001b[0mgsheets\u001b[0m \u001b[1;33m=\u001b[0m \u001b[0mgc\u001b[0m\u001b[1;33m.\u001b[0m\u001b[0mopen_by_url\u001b[0m\u001b[1;33m(\u001b[0m\u001b[1;34m'https://docs.google.com/spreadsheets/d/1Orp3OuRCmQMoJOKCAk3CLwil_H4EzQiEjhvwWxBgeww/edit?usp=sharing'\u001b[0m\u001b[1;33m)\u001b[0m\u001b[1;33m\u001b[0m\u001b[1;33m\u001b[0m\u001b[0m\n\u001b[0m\u001b[0;32m      4\u001b[0m \u001b[1;33m\u001b[0m\u001b[0m\n\u001b[0;32m      5\u001b[0m \u001b[0mworksheet\u001b[0m \u001b[1;33m=\u001b[0m\u001b[0mgsheets\u001b[0m\u001b[1;33m.\u001b[0m\u001b[0msheet1\u001b[0m\u001b[1;33m\u001b[0m\u001b[1;33m\u001b[0m\u001b[0m\n",
      "\u001b[1;31mNameError\u001b[0m: name 'gc' is not defined"
     ]
    }
   ],
   "source": [
    "# This cell opens the google sheet specified in the URL, selects the first sheet, \n",
    "# reads the data, and put it in a dataframe\n",
    "gsheets = gc.open_by_url('https://docs.google.com/spreadsheets/d/1Orp3OuRCmQMoJOKCAk3CLwil_H4EzQiEjhvwWxBgeww/edit?usp=sharing')\n",
    "\n",
    "worksheet =gsheets.sheet1\n",
    "\n",
    "# get_all_values gives a list of rows.\n",
    "rows = worksheet.get_all_values()\n",
    "\n",
    "# I am telling python here to use row #1 for the column names and the rest as data\n",
    "df = pd.DataFrame(rows[2:], columns=rows[1])\n",
    "\n",
    "# This bit of code is a bit complicated, but in essence I am telling python to treat all columns as numbers rather than objects\n",
    "cols = list(df.columns) # this produces a list of column names \n",
    "print(cols) \n",
    "df[cols] = df[cols].apply(pd.to_numeric) # I now apply a conversion to all columns\n",
    "\n",
    "df.head()"
   ]
  },
  {
   "cell_type": "code",
   "execution_count": 8,
   "metadata": {},
   "outputs": [],
   "source": [
    "# I am creating some sample data here. \n",
    "# If you have already loaded the data from the google sheet, there is no need to do this. \n",
    "data = {'Subject ID number':[1,2,3,4,5,6], 'Trial1':[64, 74, 66, 84, 64, 72], \n",
    "                          'Trial2':[66, 74, 61, 74, 64, 70], 'Trial3':[64, 72, 61, 74, 69, 71]}\n",
    "df = pd.DataFrame(data)"
   ]
  },
  {
   "cell_type": "code",
   "execution_count": 9,
   "metadata": {},
   "outputs": [
    {
     "name": "stdout",
     "output_type": "stream",
     "text": [
      "(6, 4)\n"
     ]
    },
    {
     "data": {
      "text/html": [
       "<div>\n",
       "<style scoped>\n",
       "    .dataframe tbody tr th:only-of-type {\n",
       "        vertical-align: middle;\n",
       "    }\n",
       "\n",
       "    .dataframe tbody tr th {\n",
       "        vertical-align: top;\n",
       "    }\n",
       "\n",
       "    .dataframe thead th {\n",
       "        text-align: right;\n",
       "    }\n",
       "</style>\n",
       "<table border=\"1\" class=\"dataframe\">\n",
       "  <thead>\n",
       "    <tr style=\"text-align: right;\">\n",
       "      <th></th>\n",
       "      <th>IDNo</th>\n",
       "      <th>Trial1</th>\n",
       "      <th>Trial2</th>\n",
       "      <th>Trial3</th>\n",
       "    </tr>\n",
       "  </thead>\n",
       "  <tbody>\n",
       "    <tr>\n",
       "      <th>0</th>\n",
       "      <td>1</td>\n",
       "      <td>64</td>\n",
       "      <td>66</td>\n",
       "      <td>64</td>\n",
       "    </tr>\n",
       "    <tr>\n",
       "      <th>1</th>\n",
       "      <td>2</td>\n",
       "      <td>74</td>\n",
       "      <td>74</td>\n",
       "      <td>72</td>\n",
       "    </tr>\n",
       "    <tr>\n",
       "      <th>2</th>\n",
       "      <td>3</td>\n",
       "      <td>66</td>\n",
       "      <td>61</td>\n",
       "      <td>61</td>\n",
       "    </tr>\n",
       "    <tr>\n",
       "      <th>3</th>\n",
       "      <td>4</td>\n",
       "      <td>84</td>\n",
       "      <td>74</td>\n",
       "      <td>74</td>\n",
       "    </tr>\n",
       "    <tr>\n",
       "      <th>4</th>\n",
       "      <td>5</td>\n",
       "      <td>64</td>\n",
       "      <td>64</td>\n",
       "      <td>69</td>\n",
       "    </tr>\n",
       "  </tbody>\n",
       "</table>\n",
       "</div>"
      ],
      "text/plain": [
       "   IDNo  Trial1  Trial2  Trial3\n",
       "0     1      64      66      64\n",
       "1     2      74      74      72\n",
       "2     3      66      61      61\n",
       "3     4      84      74      74\n",
       "4     5      64      64      69"
      ]
     },
     "execution_count": 9,
     "metadata": {},
     "output_type": "execute_result"
    }
   ],
   "source": [
    "print(df.shape)\n",
    "df.head()"
   ]
  },
  {
   "cell_type": "markdown",
   "metadata": {},
   "source": [
    "We now see that we have a dataframe with 4 colums, one for the Subject ID number and one for each trial. Now we can do some statistics on them. "
   ]
  },
  {
   "cell_type": "markdown",
   "metadata": {},
   "source": [
    "## Descriptive Statistics\n",
    "\n",
    "The `describe()` method can always be used to calculate some of the most important descriptive statistics.  "
   ]
  },
  {
   "cell_type": "code",
   "execution_count": null,
   "metadata": {},
   "outputs": [],
   "source": [
    "df.describe()"
   ]
  },
  {
   "cell_type": "markdown",
   "metadata": {},
   "source": [
    "Howver, there are a lot more available in python. The table below lists the important descriptive statitics functions availabe for a pandas dataframe and their explanations:\n",
    "\n",
    "    count(): The number of non-empty observations.\n",
    "    sum(): The sum of the values.\n",
    "    mean(): The average of the values.\n",
    "    median(): The median of values.\n",
    "    mode(): The mode of the values.\n",
    "    std(): Standard deviation of values.\n",
    "    skew(): The skewness of the values. \n",
    "    kurt(): The kurtosis (also called peakedness) of the value \n",
    "    max(): The largest of the values.\n",
    "    min(): The smallest of the values.\n",
    "    abs(): The absolute value of the values.\n",
    "    prod(): Product of values.\n",
    "    cumsum(): Cumulative sum of values.\n",
    "    cumprod(): Cumulative product of values.\n",
    "    \n",
    "\n",
    "If you don't know what some of these are, I recommend to look them up on the internet. Also here is a [handy cheat-sheet with explanations of some of the most important descriptive statistics](https://res.cloudinary.com/dyd911kmh/image/upload/v1662111933/Marketing/Blog/Descriptive_Statistics_Cheat_Sheet.pdf). It does not contain things like [skewness](https://en.wikipedia.org/wiki/Skewness) though, which can also be really important for describing distributions. "
   ]
  },
  {
   "cell_type": "code",
   "execution_count": 10,
   "metadata": {},
   "outputs": [
    {
     "ename": "SyntaxError",
     "evalue": "invalid syntax (<ipython-input-10-42f89e69d064>, line 4)",
     "output_type": "error",
     "traceback": [
      "\u001b[1;36m  File \u001b[1;32m\"<ipython-input-10-42f89e69d064>\"\u001b[1;36m, line \u001b[1;32m4\u001b[0m\n\u001b[1;33m    df.\u001b[0m\n\u001b[1;37m       ^\u001b[0m\n\u001b[1;31mSyntaxError\u001b[0m\u001b[1;31m:\u001b[0m invalid syntax\n"
     ]
    }
   ],
   "source": [
    "# Why don't you apply one of these for example the `mean()` to the dataframe df\n",
    "\n",
    "# Complete the code below so that it calculates the statistics for one or more columns\n",
    "df"
   ]
  },
  {
   "cell_type": "markdown",
   "metadata": {},
   "source": [
    "Having three trials for each resting heart rate is good, because it helps us to reduce random error in our measurements and to characterize the underlying uncertainty of the measurand. \n",
    "\n",
    "One way of doing so is to estimate the mean and standard deviation of the resting heart rate measurements for each subject. However, we just noticed that the `mean()` method operates on columns by default. Luckily there is a way of changing this behavior so that it operates on rows instead. \n",
    "\n",
    "I can calculate the average resting heart rate for each subject like this. I also assing this to a new column in the dataframe"
   ]
  },
  {
   "cell_type": "code",
   "execution_count": 11,
   "metadata": {},
   "outputs": [
    {
     "data": {
      "text/html": [
       "<div>\n",
       "<style scoped>\n",
       "    .dataframe tbody tr th:only-of-type {\n",
       "        vertical-align: middle;\n",
       "    }\n",
       "\n",
       "    .dataframe tbody tr th {\n",
       "        vertical-align: top;\n",
       "    }\n",
       "\n",
       "    .dataframe thead th {\n",
       "        text-align: right;\n",
       "    }\n",
       "</style>\n",
       "<table border=\"1\" class=\"dataframe\">\n",
       "  <thead>\n",
       "    <tr style=\"text-align: right;\">\n",
       "      <th></th>\n",
       "      <th>IDNo</th>\n",
       "      <th>Trial1</th>\n",
       "      <th>Trial2</th>\n",
       "      <th>Trial3</th>\n",
       "      <th>MeanRHR</th>\n",
       "    </tr>\n",
       "  </thead>\n",
       "  <tbody>\n",
       "    <tr>\n",
       "      <th>0</th>\n",
       "      <td>1</td>\n",
       "      <td>64</td>\n",
       "      <td>66</td>\n",
       "      <td>64</td>\n",
       "      <td>64.666667</td>\n",
       "    </tr>\n",
       "    <tr>\n",
       "      <th>1</th>\n",
       "      <td>2</td>\n",
       "      <td>74</td>\n",
       "      <td>74</td>\n",
       "      <td>72</td>\n",
       "      <td>73.333333</td>\n",
       "    </tr>\n",
       "    <tr>\n",
       "      <th>2</th>\n",
       "      <td>3</td>\n",
       "      <td>66</td>\n",
       "      <td>61</td>\n",
       "      <td>61</td>\n",
       "      <td>62.666667</td>\n",
       "    </tr>\n",
       "    <tr>\n",
       "      <th>3</th>\n",
       "      <td>4</td>\n",
       "      <td>84</td>\n",
       "      <td>74</td>\n",
       "      <td>74</td>\n",
       "      <td>77.333333</td>\n",
       "    </tr>\n",
       "    <tr>\n",
       "      <th>4</th>\n",
       "      <td>5</td>\n",
       "      <td>64</td>\n",
       "      <td>64</td>\n",
       "      <td>69</td>\n",
       "      <td>65.666667</td>\n",
       "    </tr>\n",
       "  </tbody>\n",
       "</table>\n",
       "</div>"
      ],
      "text/plain": [
       "   IDNo  Trial1  Trial2  Trial3    MeanRHR\n",
       "0     1      64      66      64  64.666667\n",
       "1     2      74      74      72  73.333333\n",
       "2     3      66      61      61  62.666667\n",
       "3     4      84      74      74  77.333333\n",
       "4     5      64      64      69  65.666667"
      ]
     },
     "execution_count": 11,
     "metadata": {},
     "output_type": "execute_result"
    }
   ],
   "source": [
    "df['MeanRHR'] = df[['Trial1', 'Trial2','Trial3']].mean(axis = 1)\n",
    "df.head()"
   ]
  },
  {
   "cell_type": "markdown",
   "metadata": {},
   "source": [
    "The `axis` command specifies whether the method should be performed on rows (axis = 1) or colums (axis = 0).\n",
    "\n",
    "Now give it a try and calculate the Standard Deviation (`std()`) of the resting hear rates and save it to a new column:"
   ]
  },
  {
   "cell_type": "code",
   "execution_count": null,
   "metadata": {},
   "outputs": [],
   "source": [
    "# Complete the code below\n",
    "df['StdRHR'] = \n",
    "# Feel free to add addtional columns for statistics if you would like to. \n",
    "df.head()"
   ]
  },
  {
   "cell_type": "code",
   "execution_count": null,
   "metadata": {},
   "outputs": [],
   "source": [
    "# You can also try to create a histrogram of the resting heart rates. \n",
    "# Ask youself, which of the columns should you pick to do so. \n",
    "\n",
    "# Try it here. \n"
   ]
  },
  {
   "cell_type": "markdown",
   "metadata": {},
   "source": [
    "## Heart Rate Revocery \n",
    "\n",
    "We also measured during the lab how your heartrate recovers after exercise. Your recovery time depends on many factors such as your overall pyhiscal fitness, genetics, age, and so on. The rate of Heart Rate Recovery may also provide some information about your health. \n",
    "\n",
    "I am creating a sample dataset for Heart Rate Recovery below and read it into a new dataframe called `df_HRR`. You could also substitute in your own data (or read this in as from a spreadsheet). \n",
    "\n",
    "It is important to realize that you need to supply an appropriate time axis. Here I am assuming that measurements were taken every 20 seconds and to avoid me typping this our, I am using the `np.arange()` function that creates an ascending series of the same length as the heartrate samples. "
   ]
  },
  {
   "cell_type": "code",
   "execution_count": 4,
   "metadata": {},
   "outputs": [
    {
     "ename": "NameError",
     "evalue": "name 't' is not defined",
     "output_type": "error",
     "traceback": [
      "\u001b[1;31m---------------------------------------------------------------------------\u001b[0m",
      "\u001b[1;31mNameError\u001b[0m                                 Traceback (most recent call last)",
      "\u001b[1;32m<ipython-input-4-d6a12700549d>\u001b[0m in \u001b[0;36m<module>\u001b[1;34m\u001b[0m\n\u001b[0;32m      5\u001b[0m \u001b[0mheartrates\u001b[0m \u001b[1;33m=\u001b[0m \u001b[1;33m[\u001b[0m\u001b[1;36m187\u001b[0m\u001b[1;33m,\u001b[0m \u001b[1;36m152\u001b[0m \u001b[1;33m,\u001b[0m\u001b[1;36m129\u001b[0m \u001b[1;33m,\u001b[0m\u001b[1;36m111\u001b[0m \u001b[1;33m,\u001b[0m \u001b[1;36m99\u001b[0m \u001b[1;33m,\u001b[0m\u001b[1;36m89\u001b[0m \u001b[1;33m,\u001b[0m\u001b[1;36m82\u001b[0m\u001b[1;33m,\u001b[0m\u001b[1;36m76\u001b[0m \u001b[1;33m,\u001b[0m\u001b[1;36m74\u001b[0m\u001b[1;33m,\u001b[0m \u001b[1;36m71\u001b[0m\u001b[1;33m,\u001b[0m \u001b[1;36m71\u001b[0m\u001b[1;33m,\u001b[0m \u001b[1;36m73\u001b[0m\u001b[1;33m,\u001b[0m \u001b[1;36m72\u001b[0m\u001b[1;33m,\u001b[0m \u001b[1;36m71\u001b[0m\u001b[1;33m]\u001b[0m\u001b[1;33m\u001b[0m\u001b[1;33m\u001b[0m\u001b[0m\n\u001b[0;32m      6\u001b[0m \u001b[0mtimes\u001b[0m \u001b[1;33m=\u001b[0m \u001b[0mnp\u001b[0m\u001b[1;33m.\u001b[0m\u001b[0marange\u001b[0m\u001b[1;33m(\u001b[0m\u001b[0mlen\u001b[0m\u001b[1;33m(\u001b[0m\u001b[0mheartrates\u001b[0m\u001b[1;33m)\u001b[0m\u001b[1;33m)\u001b[0m\u001b[1;33m*\u001b[0m\u001b[1;36m20\u001b[0m\u001b[1;33m\u001b[0m\u001b[1;33m\u001b[0m\u001b[0m\n\u001b[1;32m----> 7\u001b[1;33m \u001b[0mprint\u001b[0m\u001b[1;33m(\u001b[0m\u001b[1;34m'time = %s '\u001b[0m \u001b[1;33m%\u001b[0m \u001b[0mt\u001b[0m\u001b[1;33m)\u001b[0m\u001b[1;33m\u001b[0m\u001b[1;33m\u001b[0m\u001b[0m\n\u001b[0m\u001b[0;32m      8\u001b[0m \u001b[0mdf_HRR\u001b[0m \u001b[1;33m=\u001b[0m \u001b[0mpd\u001b[0m\u001b[1;33m.\u001b[0m\u001b[0mDataFrame\u001b[0m\u001b[1;33m(\u001b[0m\u001b[0mdata\u001b[0m\u001b[1;33m=\u001b[0m\u001b[1;33m{\u001b[0m\u001b[1;34m'Time'\u001b[0m\u001b[1;33m:\u001b[0m\u001b[0mtimes\u001b[0m\u001b[1;33m,\u001b[0m \u001b[1;34m'HeartRate'\u001b[0m\u001b[1;33m:\u001b[0m\u001b[0mheartrates\u001b[0m\u001b[1;33m}\u001b[0m\u001b[1;33m)\u001b[0m\u001b[1;33m\u001b[0m\u001b[1;33m\u001b[0m\u001b[0m\n\u001b[0;32m      9\u001b[0m \u001b[0mprint\u001b[0m\u001b[1;33m(\u001b[0m\u001b[1;34m'Shape of df: (%s, %s)'\u001b[0m  \u001b[1;33m%\u001b[0m \u001b[0mdf\u001b[0m\u001b[1;33m.\u001b[0m\u001b[0mshape\u001b[0m\u001b[1;33m)\u001b[0m\u001b[1;33m\u001b[0m\u001b[1;33m\u001b[0m\u001b[0m\n",
      "\u001b[1;31mNameError\u001b[0m: name 't' is not defined"
     ]
    }
   ],
   "source": [
    "import numpy as np\n",
    "import pandas as pd\n",
    "\n",
    "# Create some data\n",
    "heartrates = [187, 152 ,129 ,111 , 99 ,89 ,82,76 ,74, 71, 71, 73, 72, 71]\n",
    "times = np.arange(len(heartrates))*20\n",
    "print('time = %s ' % times)\n",
    "df_HRR = pd.DataFrame(data={'Time':times, 'HeartRate':heartrates})\n",
    "print('Shape of df: (%s, %s)'  % df.shape)\n",
    "df_HRR.head()"
   ]
  },
  {
   "cell_type": "code",
   "execution_count": 32,
   "metadata": {},
   "outputs": [
    {
     "data": {
      "image/png": "[encoded data removed]",
      "text/plain": [
       "<Figure size 432x288 with 1 Axes>"
      ]
     },
     "metadata": {
      "needs_background": "light"
     },
     "output_type": "display_data"
    }
   ],
   "source": [
    "# Let's just plot this really quick as a plot of Time vs HearRate . \n",
    "# Remeber how you can do this.\n",
    "# Remember that we have to select the data frame with the Resting Heart Rate (df_HRR) \n",
    "ax1 = df_HRR.plot(kind='scatter', x='Time', y='HeartRate', grid = True)"
   ]
  },
  {
   "cell_type": "markdown",
   "metadata": {},
   "source": [
    "We see that the heartrate decreases with time as we are hoping to see and that there seems to be some time period after which the decrease has leveled off to the resting heart rate. \n",
    "\n",
    "### Modeling Heart Rate Recovery\n",
    "\n",
    "Having a good model, helps us make accurate predictions of a phenomenon. Bad models can be worse than having no model at all, because they lead to decisions with disatrous outcomes. A model is only as good as the underlying data. This is often called *[garbage in garbage out](https://en.wikipedia.org/wiki/Garbage_in,_garbage_out)*. \n",
    "\n",
    "Even more important than having good data itself, is having the expertise to select a good model. A model might fit the experimental data but may show really unexpected behavior in other circumstances. **This is bad!**\n",
    "\n",
    "**Q: Before we continue, what kind of model would you expect to work on this data? You have already conducted the experiement have seen the data and should have made some observations.** "
   ]
  },
  {
   "cell_type": "code",
   "execution_count": null,
   "metadata": {},
   "outputs": [],
   "source": [
    "# You can enter your answer here. \n"
   ]
  },
  {
   "cell_type": "markdown",
   "metadata": {},
   "source": [
    "**Let's step back a minute to talk about models in general**\n",
    "\n",
    "It is good practice to apply the most simple model and often that means a polynomial. \n",
    "\n",
    "Polynomials come in many types, also called orders, with commong polynoical types being linear, quadratic or cubic:\n",
    "![POLYNOMIAL ORDERS](https://editor.analyticsvidhya.com/uploads/349141.png)\n",
    "\n",
    "The higher the order of the polynomial the more curvy it becomes and the easier it is to fit points. \n",
    "\n",
    "You can also fit a polynomial of order 50. This would mean that the equation to be fitted would go up to powers of 50:\n",
    "\n",
    "$y = a_0 + a_1x^1 + a_2x^2 + ... + a_{50}x^{50}$ \n",
    "\n",
    "This means there are 51 coefficients to be estimates ($a_0 \\ldots a_{51}$).\n",
    "\n",
    "\n"
   ]
  },
  {
   "cell_type": "markdown",
   "metadata": {},
   "source": [
    "### Let's start fitting data. \n",
    "\n",
    "Numpy provides a convenient function (`np.polyfit(x,y,order)`) to fit polynomials to data. We can use this to fit a first order polynomial to the data. \n",
    "\n",
    "Calling `np.polyfit(x,y,1)` with our observed values of time and the desired order (1), will return a set of coeffcients (i.e. the avlues for $a_0$ and $a_1$):"
   ]
  },
  {
   "cell_type": "code",
   "execution_count": 35,
   "metadata": {},
   "outputs": [
    {
     "name": "stdout",
     "output_type": "stream",
     "text": [
      "[ -0.36956044 144.97142857]\n"
     ]
    }
   ],
   "source": [
    "# we assume that x corresponds to time and y corresponds to HeartRate \n",
    "polynomialCoefficients_1 = np.polyfit(df_HRR['Time'],df_HRR['HeartRate'],1)\n",
    "print(polynomialCoefficients_1)"
   ]
  },
  {
   "cell_type": "markdown",
   "metadata": {},
   "source": [
    "We can then use another function `np.polyval(<list of coefficients>, <x-values>)` to generate estimates for y at the x values from the polynomial. \n",
    "\n",
    "We can save these to the dataframe: "
   ]
  },
  {
   "cell_type": "code",
   "execution_count": 39,
   "metadata": {},
   "outputs": [
    {
     "data": {
      "text/html": [
       "<div>\n",
       "<style scoped>\n",
       "    .dataframe tbody tr th:only-of-type {\n",
       "        vertical-align: middle;\n",
       "    }\n",
       "\n",
       "    .dataframe tbody tr th {\n",
       "        vertical-align: top;\n",
       "    }\n",
       "\n",
       "    .dataframe thead th {\n",
       "        text-align: right;\n",
       "    }\n",
       "</style>\n",
       "<table border=\"1\" class=\"dataframe\">\n",
       "  <thead>\n",
       "    <tr style=\"text-align: right;\">\n",
       "      <th></th>\n",
       "      <th>Time</th>\n",
       "      <th>HeartRate</th>\n",
       "      <th>HR_Est_1</th>\n",
       "    </tr>\n",
       "  </thead>\n",
       "  <tbody>\n",
       "    <tr>\n",
       "      <th>0</th>\n",
       "      <td>0</td>\n",
       "      <td>187</td>\n",
       "      <td>144.971429</td>\n",
       "    </tr>\n",
       "    <tr>\n",
       "      <th>1</th>\n",
       "      <td>20</td>\n",
       "      <td>152</td>\n",
       "      <td>137.580220</td>\n",
       "    </tr>\n",
       "    <tr>\n",
       "      <th>2</th>\n",
       "      <td>40</td>\n",
       "      <td>129</td>\n",
       "      <td>130.189011</td>\n",
       "    </tr>\n",
       "    <tr>\n",
       "      <th>3</th>\n",
       "      <td>60</td>\n",
       "      <td>111</td>\n",
       "      <td>122.797802</td>\n",
       "    </tr>\n",
       "    <tr>\n",
       "      <th>4</th>\n",
       "      <td>80</td>\n",
       "      <td>99</td>\n",
       "      <td>115.406593</td>\n",
       "    </tr>\n",
       "  </tbody>\n",
       "</table>\n",
       "</div>"
      ],
      "text/plain": [
       "   Time  HeartRate    HR_Est_1\n",
       "0     0        187  144.971429\n",
       "1    20        152  137.580220\n",
       "2    40        129  130.189011\n",
       "3    60        111  122.797802\n",
       "4    80         99  115.406593"
      ]
     },
     "execution_count": 39,
     "metadata": {},
     "output_type": "execute_result"
    }
   ],
   "source": [
    "df_HRR['HR_Est_1']=np.polyval(polynomialCoefficients_1,df_HRR['Time'])\n",
    "df_HRR.head()"
   ]
  },
  {
   "cell_type": "markdown",
   "metadata": {},
   "source": [
    "**How about you try this for polynomials of second order (quadratic) and 25th order.**\n",
    "\n",
    "You can always play around with other orders as well and add them to the dataframe. "
   ]
  },
  {
   "cell_type": "code",
   "execution_count": 44,
   "metadata": {},
   "outputs": [
    {
     "name": "stdout",
     "output_type": "stream",
     "text": [
      "[ 2.93097527e-03 -1.13161401e+00  1.75453571e+02]\n",
      "[-2.68243048e-54  5.45878461e-52  1.82917381e-49  1.82171682e-47\n",
      " -5.14073367e-45 -2.86905859e-42 -6.70169010e-40 -4.64136675e-38\n",
      "  2.95416925e-35  1.37658782e-32  2.68479535e-30 -9.08952309e-29\n",
      " -2.23890047e-25 -5.91298996e-23  9.63442800e-22  4.60336308e-18\n",
      "  7.12811942e-16 -2.73085572e-13 -5.58777571e-11  2.74063868e-08\n",
      " -4.12701819e-06  3.18942174e-04 -1.35365554e-02  3.06654379e-01\n",
      " -4.44347520e+00  1.87000000e+02]\n"
     ]
    },
    {
     "name": "stderr",
     "output_type": "stream",
     "text": [
      "C:\\Users\\gerkentx\\Anaconda3\\lib\\site-packages\\IPython\\core\\interactiveshell.py:3437: RankWarning: Polyfit may be poorly conditioned\n",
      "  exec(code_obj, self.user_global_ns, self.user_ns)\n"
     ]
    }
   ],
   "source": [
    "\n",
    "# Complete the Code below to calculate the polynomial coefficients \n",
    "polynomialCoefficients_2  = np.polyfit() #  complete  np.polyfit for a second order polynomial\n",
    "polynomialCoefficients_25 = np.polyfit() #  complete  np.polyfit for a 25th  order polynomial\n",
    "\n",
    "print(polynomialCoefficients_2)\n",
    "print(polynomialCoefficients_25)"
   ]
  },
  {
   "cell_type": "code",
   "execution_count": 43,
   "metadata": {},
   "outputs": [
    {
     "ename": "TypeError",
     "evalue": "_polyval_dispatcher() takes 2 positional arguments but 3 were given",
     "output_type": "error",
     "traceback": [
      "\u001b[1;31m---------------------------------------------------------------------------\u001b[0m",
      "\u001b[1;31mTypeError\u001b[0m                                 Traceback (most recent call last)",
      "\u001b[1;32m<ipython-input-43-f56c854e80f4>\u001b[0m in \u001b[0;36m<module>\u001b[1;34m\u001b[0m\n\u001b[0;32m      2\u001b[0m \u001b[1;33m\u001b[0m\u001b[0m\n\u001b[0;32m      3\u001b[0m \u001b[1;31m# Complete the code below:\u001b[0m\u001b[1;33m\u001b[0m\u001b[1;33m\u001b[0m\u001b[1;33m\u001b[0m\u001b[0m\n\u001b[1;32m----> 4\u001b[1;33m \u001b[0mdf_HRR\u001b[0m\u001b[1;33m[\u001b[0m\u001b[1;34m'HR_Est_2'\u001b[0m\u001b[1;33m]\u001b[0m  \u001b[1;33m=\u001b[0m \u001b[0mnp\u001b[0m\u001b[1;33m.\u001b[0m\u001b[0mpolyval\u001b[0m\u001b[1;33m(\u001b[0m\u001b[0mdf_HRR\u001b[0m\u001b[1;33m[\u001b[0m\u001b[1;34m'Time'\u001b[0m\u001b[1;33m]\u001b[0m\u001b[1;33m,\u001b[0m\u001b[0mdf_HRR\u001b[0m\u001b[1;33m[\u001b[0m\u001b[1;34m'HeartRate'\u001b[0m\u001b[1;33m]\u001b[0m\u001b[1;33m,\u001b[0m\u001b[1;36m2\u001b[0m\u001b[1;33m)\u001b[0m \u001b[1;31m# complete np.polyval(<coef>,x) using the 2nd order polynomial coefficients\u001b[0m\u001b[1;33m\u001b[0m\u001b[1;33m\u001b[0m\u001b[0m\n\u001b[0m\u001b[0;32m      5\u001b[0m \u001b[0mdf_HRR\u001b[0m\u001b[1;33m[\u001b[0m\u001b[1;34m'HR_Est_50'\u001b[0m\u001b[1;33m]\u001b[0m \u001b[1;33m=\u001b[0m \u001b[0mnp\u001b[0m\u001b[1;33m.\u001b[0m\u001b[0mpolyval\u001b[0m\u001b[1;33m(\u001b[0m\u001b[0mdf_HRR\u001b[0m\u001b[1;33m[\u001b[0m\u001b[1;34m'Time'\u001b[0m\u001b[1;33m]\u001b[0m\u001b[1;33m,\u001b[0m\u001b[0mdf_HRR\u001b[0m\u001b[1;33m[\u001b[0m\u001b[1;34m'HeartRate'\u001b[0m\u001b[1;33m]\u001b[0m\u001b[1;33m,\u001b[0m\u001b[1;36m25\u001b[0m\u001b[1;33m)\u001b[0m \u001b[1;31m# complete np.polyval(<coef>,x) using the 25th order polynomial coefficients\u001b[0m\u001b[1;33m\u001b[0m\u001b[1;33m\u001b[0m\u001b[0m\n",
      "\u001b[1;32m<__array_function__ internals>\u001b[0m in \u001b[0;36mpolyval\u001b[1;34m(*args, **kwargs)\u001b[0m\n",
      "\u001b[1;31mTypeError\u001b[0m: _polyval_dispatcher() takes 2 positional arguments but 3 were given"
     ]
    }
   ],
   "source": [
    "\n",
    "# Now let's assign our estimated values for the heart rate to the dataframe. \n",
    "\n",
    "# Complete the code below: \n",
    "df_HRR['HR_Est_2']  = np.polyval() # complete np.polyval(<coef>,x) using the 2nd order polynomial coefficients\n",
    "df_HRR['HR_Est_25'] = np.polyval() # complete np.polyval(<coef>,x) using the 25th order polynomial coefficients\n",
    "df_HRR.head()"
   ]
  },
  {
   "cell_type": "markdown",
   "metadata": {},
   "source": [
    "Let's create a plot to see how our fits look. Beatiful!"
   ]
  },
  {
   "cell_type": "code",
   "execution_count": 50,
   "metadata": {},
   "outputs": [
    {
     "data": {
      "text/plain": [
       "<AxesSubplot:xlabel='Time', ylabel='HeartRate'>"
      ]
     },
     "execution_count": 50,
     "metadata": {},
     "output_type": "execute_result"
    },
    {
     "data": {
      "image/png": "[encoded data removed]",
      "text/plain": [
       "<Figure size 432x288 with 1 Axes>"
      ]
     },
     "metadata": {
      "needs_background": "light"
     },
     "output_type": "display_data"
    }
   ],
   "source": [
    "ax1 = df_HRR.plot(kind='scatter', x='Time', y='HeartRate', color = 'k')\n",
    "df_HRR[['Time', 'HR_Est_1','HR_Est_2','HR_Est_25']].plot(x='Time', ax=ax1, grid = True)"
   ]
  },
  {
   "cell_type": "markdown",
   "metadata": {},
   "source": [
    "The second order and 25th order polynomials seem to fit our data really well. The 25th order polynomical even connects all the measurements ... \n",
    "\n",
    "**Q: Is that something we would expect?**\n",
    "\n",
    "### Evaluating our polynomials\n",
    "\n",
    "We can put a number on our goodness of fit using the square of the correlation coefficient (also known as $R^2$) between the obsered HeartRate and the Estimatated Heart Rate for each of the models. \n",
    "\n",
    "Numpy has a nifty function that will give us the correlation coefficient `np.corrcoef`, which we can then square. Don't worry about the details here. You can always look up the function documentation by using `help(np.corrcoeff)` or in the [numpy manual](https://numpy.org/doc/stable/reference/generated/numpy.corrcoef.html). "
   ]
  },
  {
   "cell_type": "code",
   "execution_count": 53,
   "metadata": {},
   "outputs": [
    {
     "name": "stdout",
     "output_type": "stream",
     "text": [
      "The 1st order polynomial has an R2 of: 0.74\n",
      "The 2nd order polynomial has an R2 of: 0.98\n",
      "The 25th order polynomial has an R2 of: 1.00\n"
     ]
    }
   ],
   "source": [
    "r2_1 = (np.corrcoef(df_HRR['HeartRate'],df_HRR['HR_Est_1'])[0,1])**2\n",
    "r2_2 = (np.corrcoef(df_HRR['HeartRate'],df_HRR['HR_Est_2'])[0,1])**2\n",
    "r2_25 = (np.corrcoef(df_HRR['HeartRate'],df_HRR['HR_Est_25'])[0,1])**2\n",
    "\n",
    "print('The 1st order polynomial has an R2 of: %3.2f' % (r2_1))\n",
    "print('The 2nd order polynomial has an R2 of: %3.2f' % (r2_2))\n",
    "print('The 25th order polynomial has an R2 of: %3.2f' % (r2_25))\n"
   ]
  },
  {
   "cell_type": "markdown",
   "metadata": {},
   "source": [
    "This confirms our initial impression that the higher order polynomials seem to fit the data very well. \n",
    "\n",
    "But there are problems. \n",
    "**Have a look at the quadratic polynomial. What do you notice?**\n",
    "\n",
    "**Do you think that the quadratic fit will provide a good heartrate reading after let's say 2000 seconds?**"
   ]
  },
  {
   "cell_type": "code",
   "execution_count": 55,
   "metadata": {},
   "outputs": [
    {
     "name": "stdout",
     "output_type": "stream",
     "text": [
      "9636.126648351648\n"
     ]
    }
   ],
   "source": [
    "# You can even use np.polyval to find out. \n",
    "HRR_Est_2000s = np.polyval(polynomialCoefficients_2,2000)\n",
    "print(HRR_Est_2000s)"
   ]
  },
  {
   "cell_type": "markdown",
   "metadata": {},
   "source": [
    "What might be the problem with the very high order polynomial. Well, it has a lot free parameters that can create wiggles, so it fits our data very well, but what happens if we evaluate the heart rate at a higher temporal resolution. \n",
    "\n",
    "Let's say instead of every 20 seconds, we estimate the heartrate every second"
   ]
  },
  {
   "cell_type": "code",
   "execution_count": 83,
   "metadata": {},
   "outputs": [
    {
     "data": {
      "image/png": "[encoded data removed]",
      "text/plain": [
       "<Figure size 432x288 with 1 Axes>"
      ]
     },
     "metadata": {
      "needs_background": "light"
     },
     "output_type": "display_data"
    }
   ],
   "source": [
    "t_high_res = np.arange(0,262) # this will create a vector of times between 0 and 262 seconds with 1 s resolution. \n",
    "y_high_res = np.polyval(polynomialCoefficients_25,t_high_res) # we now evaluate the higher order polynomical on this \n",
    "\n",
    "import matplotlib.pyplot as plt\n",
    "ax1 = df_HRR.plot(kind='scatter', x='Time', y='HeartRate', grid = True, color = 'k')\n",
    "ax1 = plt.plot(t_high_res,y_high_res) # because this is not in the dataframe I add this to the plot using pyplot. "
   ]
  },
  {
   "cell_type": "markdown",
   "metadata": {},
   "source": [
    "### Curve fitting redux. \n",
    "\n",
    "We now found out that random polynomials are likely not going to do the job. They may fit the observed data well, but they don't represent the underlying process of heart rate recovery and then fail. \n",
    "\n",
    "Here is a comic about curve fitting that illustrates my main points ... (I like [xkcd](www.xkcd.com)).\n",
    "![](https://imgs.xkcd.com/comics/curve_fitting.png)"
   ]
  },
  {
   "cell_type": "markdown",
   "metadata": {},
   "source": [
    "**We need to make sure that the model we fit makes physical sense. This means we need to have an expectation on how the data behaves**. \n",
    "\n",
    "In the case of heart rate recovery, it makes sense to think about an exponential model, where after stopping the exercise,a high heart rate rapidly declines. As the heart rate declines the rate of change will become slower. \n",
    "\n",
    "Exponental decay can be mathematically described like this.\n",
    "\n",
    "$Y = a + b e^{-kt}$ ,\n",
    "\n",
    "    where a, b, and k are constants and \n",
    "          t is time \n",
    "          "
   ]
  },
  {
   "cell_type": "code",
   "execution_count": 146,
   "metadata": {},
   "outputs": [
    {
     "data": {
      "image/png": "[encoded data removed]",
      "text/plain": [
       "<Figure size 432x288 with 1 Axes>"
      ]
     },
     "metadata": {
      "needs_background": "light"
     },
     "output_type": "display_data"
    }
   ],
   "source": [
    "def func4(t, a, b, k):\n",
    "    return a + b * np.exp(-k*t) \n",
    "\n",
    "\n",
    "a = 75\n",
    "b = 120\n",
    "k = 0.02\n",
    "\n",
    "y_est = func4(x, a, b, k)\n",
    "\n",
    "ax1 = df.plot(kind='scatter', x='Time', y='HeartRate', grid = True)\n",
    "ax1 = plt.plot(x,y_est, color = 'r')\n",
    "ax1 = plt.text(100, 160, r\"$Y = %3.2f +  %3.2f e^{- %3.2f }$\" % (a,b,k), fontsize = 16)\n",
    "ax1 = plt.text(100, 140, r\"$R^2$ = %3.2f\" % (np.corrcoef(y,y_est)[0,1])**2 , fontsize = 16)\n"
   ]
  },
  {
   "cell_type": "code",
   "execution_count": 87,
   "metadata": {},
   "outputs": [
    {
     "data": {
      "text/plain": [
       "'$Y = 75.00 +  120.00 e^{- 0.40 t}$'"
      ]
     },
     "execution_count": 87,
     "metadata": {},
     "output_type": "execute_result"
    }
   ],
   "source": [
    "r\"$Y = %3.2f +  %3.2f e^{- %3.2f t}$\" % (a,b,k)"
   ]
  },
  {
   "cell_type": "code",
   "execution_count": 142,
   "metadata": {},
   "outputs": [
    {
     "name": "stderr",
     "output_type": "stream",
     "text": [
      "<ipython-input-140-c0d3f52adf41>:2: RuntimeWarning: overflow encountered in exp\n",
      "  return a + b * np.exp(-k*t)\n"
     ]
    },
    {
     "data": {
      "text/plain": [
       "array([6.81575240e+01, 1.19345077e+02, 1.74090799e-02])"
      ]
     },
     "execution_count": 142,
     "metadata": {},
     "output_type": "execute_result"
    }
   ],
   "source": [
    "popt4, pcov4  = curve_fit(func4, x, y)\n",
    "popt4"
   ]
  },
  {
   "cell_type": "markdown",
   "metadata": {},
   "source": [
    "## Reading data into a pandas dataframe\n",
    "\n",
    "To look at some data, we have to get it into a pandas dataframe. Pandas has a lot of different functions to read data that is saved as a file. \n",
    "\n"
   ]
  },
  {
   "cell_type": "code",
   "execution_count": 143,
   "metadata": {},
   "outputs": [],
   "source": [
    "import matplotlib.pyplot as plt"
   ]
  },
  {
   "cell_type": "code",
   "execution_count": 147,
   "metadata": {},
   "outputs": [
    {
     "data": {
      "image/png": "[encoded data removed]",
      "text/plain": [
       "<Figure size 432x288 with 1 Axes>"
      ]
     },
     "metadata": {
      "needs_background": "light"
     },
     "output_type": "display_data"
    }
   ],
   "source": [
    "y_est = func4(x,popt4[0],popt4[1],popt4[2])\n",
    "\n",
    "ax1 = df.plot(kind='scatter', x='Time', y='HeartRate', grid = True)\n",
    "ax1 = plt.plot(x,y_est, color = 'r')\n",
    "ax1 = plt.text(100, 160, r\"$Y = %3.2f +  %3.2f e^{- %3.2f }$\" % (popt4[0],popt4[1],popt4[2]), fontsize = 16)\n",
    "ax1 = plt.text(100, 140, r\"$R^2$ = %3.2f\" % (np.corrcoef(y,y_est)[0,1])**2 , fontsize = 16)"
   ]
  },
  {
   "cell_type": "code",
   "execution_count": 100,
   "metadata": {},
   "outputs": [
    {
     "data": {
      "text/plain": [
       "array([[ 1.      , -0.866606],\n",
       "       [-0.866606,  1.      ]])"
      ]
     },
     "execution_count": 100,
     "metadata": {},
     "output_type": "execute_result"
    }
   ],
   "source": [
    "np.corrcoef(x,y_est)"
   ]
  },
  {
   "cell_type": "code",
   "execution_count": 3,
   "metadata": {},
   "outputs": [
    {
     "data": {
      "text/html": [
       "<div>\n",
       "<style scoped>\n",
       "    .dataframe tbody tr th:only-of-type {\n",
       "        vertical-align: middle;\n",
       "    }\n",
       "\n",
       "    .dataframe tbody tr th {\n",
       "        vertical-align: top;\n",
       "    }\n",
       "\n",
       "    .dataframe thead th {\n",
       "        text-align: right;\n",
       "    }\n",
       "</style>\n",
       "<table border=\"1\" class=\"dataframe\">\n",
       "  <thead>\n",
       "    <tr style=\"text-align: right;\">\n",
       "      <th></th>\n",
       "      <th>origin</th>\n",
       "      <th>cylinders</th>\n",
       "      <th>model_year</th>\n",
       "      <th>mpg_level</th>\n",
       "      <th>car_company</th>\n",
       "      <th>mpg</th>\n",
       "      <th>displacement</th>\n",
       "      <th>horsepower</th>\n",
       "      <th>weight</th>\n",
       "      <th>acceleration</th>\n",
       "    </tr>\n",
       "  </thead>\n",
       "  <tbody>\n",
       "    <tr>\n",
       "      <th>0</th>\n",
       "      <td>usa</td>\n",
       "      <td>8</td>\n",
       "      <td>70</td>\n",
       "      <td>medium</td>\n",
       "      <td>chevrolet</td>\n",
       "      <td>18.0</td>\n",
       "      <td>307.0</td>\n",
       "      <td>130.0</td>\n",
       "      <td>3504</td>\n",
       "      <td>12.0</td>\n",
       "    </tr>\n",
       "    <tr>\n",
       "      <th>1</th>\n",
       "      <td>usa</td>\n",
       "      <td>8</td>\n",
       "      <td>70</td>\n",
       "      <td>low</td>\n",
       "      <td>buick</td>\n",
       "      <td>15.0</td>\n",
       "      <td>350.0</td>\n",
       "      <td>165.0</td>\n",
       "      <td>3693</td>\n",
       "      <td>11.5</td>\n",
       "    </tr>\n",
       "    <tr>\n",
       "      <th>2</th>\n",
       "      <td>usa</td>\n",
       "      <td>8</td>\n",
       "      <td>70</td>\n",
       "      <td>medium</td>\n",
       "      <td>plymouth</td>\n",
       "      <td>18.0</td>\n",
       "      <td>318.0</td>\n",
       "      <td>150.0</td>\n",
       "      <td>3436</td>\n",
       "      <td>11.0</td>\n",
       "    </tr>\n",
       "    <tr>\n",
       "      <th>3</th>\n",
       "      <td>usa</td>\n",
       "      <td>8</td>\n",
       "      <td>70</td>\n",
       "      <td>low</td>\n",
       "      <td>amc</td>\n",
       "      <td>16.0</td>\n",
       "      <td>304.0</td>\n",
       "      <td>150.0</td>\n",
       "      <td>3433</td>\n",
       "      <td>12.0</td>\n",
       "    </tr>\n",
       "    <tr>\n",
       "      <th>4</th>\n",
       "      <td>usa</td>\n",
       "      <td>8</td>\n",
       "      <td>70</td>\n",
       "      <td>medium</td>\n",
       "      <td>ford</td>\n",
       "      <td>17.0</td>\n",
       "      <td>302.0</td>\n",
       "      <td>140.0</td>\n",
       "      <td>3449</td>\n",
       "      <td>10.5</td>\n",
       "    </tr>\n",
       "  </tbody>\n",
       "</table>\n",
       "</div>"
      ],
      "text/plain": [
       "  origin  cylinders  model_year mpg_level car_company   mpg  displacement  \\\n",
       "0    usa          8          70    medium   chevrolet  18.0         307.0   \n",
       "1    usa          8          70       low       buick  15.0         350.0   \n",
       "2    usa          8          70    medium    plymouth  18.0         318.0   \n",
       "3    usa          8          70       low         amc  16.0         304.0   \n",
       "4    usa          8          70    medium        ford  17.0         302.0   \n",
       "\n",
       "   horsepower  weight  acceleration  \n",
       "0       130.0    3504          12.0  \n",
       "1       165.0    3693          11.5  \n",
       "2       150.0    3436          11.0  \n",
       "3       150.0    3433          12.0  \n",
       "4       140.0    3449          10.5  "
      ]
     },
     "execution_count": 3,
     "metadata": {},
     "output_type": "execute_result"
    }
   ],
   "source": [
    "df.head()"
   ]
  },
  {
   "cell_type": "code",
   "execution_count": 129,
   "metadata": {},
   "outputs": [
    {
     "data": {
      "text/plain": [
       "array([  0.        ,   2.62626263,   5.25252525,   7.87878788,\n",
       "        10.50505051,  13.13131313,  15.75757576,  18.38383838,\n",
       "        21.01010101,  23.63636364,  26.26262626,  28.88888889,\n",
       "        31.51515152,  34.14141414,  36.76767677,  39.39393939,\n",
       "        42.02020202,  44.64646465,  47.27272727,  49.8989899 ,\n",
       "        52.52525253,  55.15151515,  57.77777778,  60.4040404 ,\n",
       "        63.03030303,  65.65656566,  68.28282828,  70.90909091,\n",
       "        73.53535354,  76.16161616,  78.78787879,  81.41414141,\n",
       "        84.04040404,  86.66666667,  89.29292929,  91.91919192,\n",
       "        94.54545455,  97.17171717,  99.7979798 , 102.42424242,\n",
       "       105.05050505, 107.67676768, 110.3030303 , 112.92929293,\n",
       "       115.55555556, 118.18181818, 120.80808081, 123.43434343,\n",
       "       126.06060606, 128.68686869, 131.31313131, 133.93939394,\n",
       "       136.56565657, 139.19191919, 141.81818182, 144.44444444,\n",
       "       147.07070707, 149.6969697 , 152.32323232, 154.94949495,\n",
       "       157.57575758, 160.2020202 , 162.82828283, 165.45454545,\n",
       "       168.08080808, 170.70707071, 173.33333333, 175.95959596,\n",
       "       178.58585859, 181.21212121, 183.83838384, 186.46464646,\n",
       "       189.09090909, 191.71717172, 194.34343434, 196.96969697,\n",
       "       199.5959596 , 202.22222222, 204.84848485, 207.47474747,\n",
       "       210.1010101 , 212.72727273, 215.35353535, 217.97979798,\n",
       "       220.60606061, 223.23232323, 225.85858586, 228.48484848,\n",
       "       231.11111111, 233.73737374, 236.36363636, 238.98989899,\n",
       "       241.61616162, 244.24242424, 246.86868687, 249.49494949,\n",
       "       252.12121212, 254.74747475, 257.37373737, 260.        ])"
      ]
     },
     "execution_count": 129,
     "metadata": {},
     "output_type": "execute_result"
    }
   ],
   "source": [
    "np.linspace(min(x),max(x),100)"
   ]
  },
  {
   "cell_type": "code",
   "execution_count": 1,
   "metadata": {},
   "outputs": [
    {
     "ename": "NameError",
     "evalue": "name 'df' is not defined",
     "output_type": "error",
     "traceback": [
      "\u001b[1;31m---------------------------------------------------------------------------\u001b[0m",
      "\u001b[1;31mNameError\u001b[0m                                 Traceback (most recent call last)",
      "\u001b[1;32m<ipython-input-1-b666bf274d0a>\u001b[0m in \u001b[0;36m<module>\u001b[1;34m\u001b[0m\n\u001b[1;32m----> 1\u001b[1;33m \u001b[0mdf\u001b[0m\u001b[1;33m.\u001b[0m\u001b[0mcolumns\u001b[0m\u001b[1;33m\u001b[0m\u001b[1;33m\u001b[0m\u001b[0m\n\u001b[0m",
      "\u001b[1;31mNameError\u001b[0m: name 'df' is not defined"
     ]
    }
   ],
   "source": [
    "df.columns"
   ]
  },
  {
   "cell_type": "code",
   "execution_count": null,
   "metadata": {},
   "outputs": [],
   "source": []
  }
 ],
 "metadata": {
  "kernelspec": {
   "display_name": "Python 3",
   "language": "python",
   "name": "python3"
  },
  "language_info": {
   "codemirror_mode": {
    "name": "ipython",
    "version": 3
   },
   "file_extension": ".py",
   "mimetype": "text/x-python",
   "name": "python",
   "nbconvert_exporter": "python",
   "pygments_lexer": "ipython3",
   "version": "3.8.5"
  }
 },
 "nbformat": 4,
 "nbformat_minor": 5
}
