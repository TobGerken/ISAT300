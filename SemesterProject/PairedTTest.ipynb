{
 "cells": [
  {
   "cell_type": "markdown",
   "id": "b8eaa13d",
   "metadata": {},
   "source": [
    "# Paired T-Test example"
   ]
  },
  {
   "cell_type": "code",
   "execution_count": 1,
   "id": "2c62ac71",
   "metadata": {},
   "outputs": [
    {
     "name": "stdout",
     "output_type": "stream",
     "text": [
      "[25.11168178 18.0837692  16.54755516 16.17267113 24.26678739 24.50079621\n",
      " 27.57991087 22.87174246 29.2042114  15.57108266]\n",
      "[11.75079425 14.28649593 19.01710105 18.15732674 23.98117117 20.42188445\n",
      " 27.61527385 20.32229105 25.71680576 28.75815267]\n"
     ]
    }
   ],
   "source": [
    "# We need to import the t-test from the stats package \n",
    "import scipy.stats as stats\n",
    "\n",
    "# We generate some artifical data\n",
    "import numpy as np\n",
    "# this is just data taken randomly from a normal distribution\n",
    "sample1 = np.random.normal(20,5,10)\n",
    "sample2 = np.random.normal(20,5,10)\n",
    "print(sample1)\n",
    "print(sample2)"
   ]
  },
  {
   "cell_type": "code",
   "execution_count": 2,
   "id": "40a105d8",
   "metadata": {},
   "outputs": [
    {
     "data": {
      "text/plain": [
       "Ttest_relResult(statistic=0.46733893046574315, pvalue=0.651365651999783)"
      ]
     },
     "execution_count": 2,
     "metadata": {},
     "output_type": "execute_result"
    }
   ],
   "source": [
    "# performing the paired t-test\n",
    "stats.ttest_rel(sample1, sample2,nan_policy = 'omit')\n",
    "#note setting the nan_policy = 'omit' will take care of any missing data that you may encounter"
   ]
  },
  {
   "cell_type": "code",
   "execution_count": null,
   "id": "74fee528",
   "metadata": {},
   "outputs": [],
   "source": []
  }
 ],
 "metadata": {
  "kernelspec": {
   "display_name": "Python 3",
   "language": "python",
   "name": "python3"
  },
  "language_info": {
   "codemirror_mode": {
    "name": "ipython",
    "version": 3
   },
   "file_extension": ".py",
   "mimetype": "text/x-python",
   "name": "python",
   "nbconvert_exporter": "python",
   "pygments_lexer": "ipython3",
   "version": "3.8.8"
  }
 },
 "nbformat": 4,
 "nbformat_minor": 5
}
