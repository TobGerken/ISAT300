{
 "cells": [
  {
   "cell_type": "markdown",
   "id": "ddd91c2e-6eda-444b-9ade-509803bf0eea",
   "metadata": {
    "tags": []
   },
   "source": [
    "[![Open In Colab](https://colab.research.google.com/assets/colab-badge.svg)](https://colab.research.google.com/github/TobGerken/ISAT300/blob/main/2_DataVisualization.ipynb)"
   ]
  },
  {
   "cell_type": "markdown",
   "id": "c43866c1-4dd9-4353-9e81-f155fd8f4a23",
   "metadata": {},
   "source": [
    "# Data Visualization\n",
    "\n",
    "**This notebook is published on my github. It is publicly accessible, but you cannot save your changes to my github. Learning git & github is beyond the scope of this course. If you are familiar with github, you know that to do. If you don't know github, you can save a personal copy of the file to your google drive, so that you can save your changes and can access them at a later date**\n",
    "\n",
    "This notebook is a continuation from previous classes:\n",
    "\n",
    "1. [GettingStarted](https://github.com/TobGerken/ISAT300/blob/main/1_GettingStarted.ipynb)\n",
    "\n",
    "## Now lets get started \n",
    "\n",
    "This really only scratches the surface and there are so many good resources around. Come and talk to me if you want to know more. I am also pointing out some resources along the way and will link to them on Canvas. \n",
    "\n",
    "We previously covered some [Pandas](https://pandas.pydata.org/) dataframe basics and performed some initial statistics. Well crafted figures are a powerful tool to communicate our main findings and to [tell compelling stories with data](https://hbr.org/2013/04/how-to-tell-a-story-with-data).  \n",
    "\n",
    "Because we are still using pandas we have to import it first. "
   ]
  },
  {
   "cell_type": "code",
   "execution_count": null,
   "id": "5164b321-7825-456b-9472-359bfe856815",
   "metadata": {},
   "outputs": [],
   "source": [
    "# running this will import pandas.\n",
    "import pandas as pd"
   ]
  },
  {
   "cell_type": "markdown",
   "id": "9cae9272-e18d-47ab-9d04-63dd4cc09e4a",
   "metadata": {},
   "source": [
    "## Getting help\n",
    "\n",
    "We all need a little help sometimes. Check out the help command. There is going to be a lot of information provided. There is no need to understand all of it, but sometimes this can be helpful. When you are unsure, try `help()`."
   ]
  },
  {
   "cell_type": "code",
   "execution_count": null,
   "id": "1d9f6831-752b-49a4-8b61-5ebcf3baab5e",
   "metadata": {},
   "outputs": [],
   "source": [
    "help(pd.read_csv)"
   ]
  },
  {
   "cell_type": "markdown",
   "id": "04782b9e-261c-4d15-b31d-01703f851893",
   "metadata": {},
   "source": [
    "As a side note, when you edit a cell, you can also hit the `Tab` key and it will provide some suggestions on what you can do. \n",
    "**Try it out: Type: `pd.` and hit the Tab key** the cell below."
   ]
  },
  {
   "cell_type": "code",
   "execution_count": null,
   "id": "dafa4c38-26f1-44dd-a65a-0417a26ec402",
   "metadata": {},
   "outputs": [],
   "source": []
  },
  {
   "cell_type": "markdown",
   "id": "730c6f27-0262-491b-9dff-2676b84643e8",
   "metadata": {},
   "source": [
    "## Reading data into a pandas dataframe\n",
    "\n",
    "We will use the same data as before and will load this into a dataframe `df`. You can chose to load the data from the online source or to load a local copy. "
   ]
  },
  {
   "cell_type": "code",
   "execution_count": null,
   "id": "a18b4a55-abb3-488c-920f-440709400c24",
   "metadata": {},
   "outputs": [],
   "source": [
    "# This loads the data, which is saved online \n",
    "df = pd.read_csv('https://raw.githubusercontent.com/TobGerken/ISAT300/main/Data/mpg_cated.csv')\n",
    "# This would read a local copy from the data, provided that it is stored in the base folder. \n",
    "# df = pd.read_csv('./mpg_cated.csv')"
   ]
  },
  {
   "cell_type": "markdown",
   "id": "5191f54c-87c7-4fb0-9557-dbbaadcdf28b",
   "metadata": {
    "tags": []
   },
   "source": [
    "Let's remind us what the data we loaded looked like by looking at the fist few entries"
   ]
  },
  {
   "cell_type": "code",
   "execution_count": null,
   "id": "6ce93803-9d56-4e61-9d03-3ce32d3917d9",
   "metadata": {},
   "outputs": [],
   "source": [
    "df.head()\n",
    "# You can also display the last few entries \n",
    "# df.tail()"
   ]
  },
  {
   "cell_type": "code",
   "execution_count": null,
   "id": "1c563710-6c62-44ab-8b49-4c79f1f2e6a9",
   "metadata": {},
   "outputs": [],
   "source": [
    "# This will give you the dimension of the data\n",
    "df.shape"
   ]
  },
  {
   "cell_type": "markdown",
   "id": "1cacf319-6585-4be7-8868-605702b54d8b",
   "metadata": {},
   "source": [
    "The `df.info()` command is another great way of understanding our data. It will provide information about the types of data and how many valid data entries there are. "
   ]
  },
  {
   "cell_type": "code",
   "execution_count": null,
   "id": "3ecbd43e-f0ed-4d4f-88ff-7b4b58ab4f3c",
   "metadata": {},
   "outputs": [],
   "source": [
    "df.info()"
   ]
  },
  {
   "cell_type": "markdown",
   "id": "6715c55e-2507-4912-8aec-3d0aa8e5d2d5",
   "metadata": {},
   "source": [
    "**Question: Look at `Non-Null` Count and the `Dtype` columns. What do they indicate?**\n",
    "\n",
    "Missing data can be a big problem for statistics and data visualization, since they may not work or produce the wrong results. Therefore it is important to always check for missing values. "
   ]
  },
  {
   "cell_type": "markdown",
   "id": "afb9ec45-ca17-46e1-bcad-9796fdfde607",
   "metadata": {},
   "source": [
    "## Getting Started with Data visualization\n",
    "\n",
    "Python contains very powerfull capabilities for data visualziation. One of these is the matplotlib library, which capable of producing complex publication-quality figures with fine layout control in two and three dimensions. \n",
    "\n",
    "[Matplotlib](http://matplotlib.org) is quite old and is built to be familiar to Matlab users. While it is an older library, so many libraries are built on top of it and use its syntax. We might encounter some of these later in the semester.\n",
    "\n",
    "One neat thing about matplotlib is that pandas is actually using the features of matplotlib to produce figures. This will become clearer later. \n",
    "\n",
    "For now, you just need to know that making plots is really easy. "
   ]
  },
  {
   "cell_type": "markdown",
   "id": "dae051bc",
   "metadata": {},
   "source": [
    "If we have a dataframe we can just call the `.plot()` method and a plot will appear. Neat ;-)"
   ]
  },
  {
   "cell_type": "code",
   "execution_count": null,
   "id": "3d3fefb1-df71-4bf4-9575-9270ed346e40",
   "metadata": {},
   "outputs": [],
   "source": [
    "df.plot()"
   ]
  },
  {
   "cell_type": "markdown",
   "id": "4d91ea69",
   "metadata": {},
   "source": [
    "Now we have a plot of the dataframe, but it is not very useful to see what is going on.\n",
    "\n",
    "**Q1: Why?** \n",
    "\n",
    "**Q2: What is missing from this plot?**"
   ]
  },
  {
   "cell_type": "markdown",
   "id": "7d72027e",
   "metadata": {},
   "source": [
    "One of the things we notice is that we have created a line-plot for the entire dataframe. Each column, e.g. `mpg` or `weight`, is treated as a line, which makes it really difficult to differentiate between them. Also we lost any information about categorical data such as `origin`.\n",
    "\n",
    "Let's try this again. Use you knowledge from the last lecture to only select the `mpg` and `horsepower` columns of the dataframe. Do you remember how to select two colums. The code below will only select a single column.\n",
    "\n",
    "**Modify it to select two:** \n",
    "*Hint: You need to select a list of columns. Lists in python are specified within brackets `list = [item1, item2]`*. `df[list_of_columns]`"
   ]
  },
  {
   "cell_type": "code",
   "execution_count": null,
   "id": "5615669e-96b2-4f5e-953f-b0527b5f2c97",
   "metadata": {},
   "outputs": [],
   "source": [
    "df['mpg'].plot()"
   ]
  },
  {
   "cell_type": "markdown",
   "id": "7306ff26",
   "metadata": {},
   "source": [
    "### Scatter Plots \n",
    "\n",
    "Scatter plots or x-y plots are a great way of visualizing relationships between variables, such as correlations. They are also a great tool to show uncertainty!\n",
    "\n",
    "Luckily, they are built into the pandas plotting methods:"
   ]
  },
  {
   "cell_type": "code",
   "execution_count": null,
   "id": "81c88007-f678-44b7-ac63-8670f4666365",
   "metadata": {},
   "outputs": [],
   "source": [
    "df.plot(kind = 'scatter', x='mpg', y ='horsepower')\n"
   ]
  },
  {
   "cell_type": "markdown",
   "id": "a366dd4d",
   "metadata": {},
   "source": [
    "#### Making your plots pretty and useful. \n",
    "\n",
    "There are a lot of options for changing the appearance of your plots. For examplel, you can change the style of plot using the `kind` paramemter and setting it to the desired plot type. \n",
    "\n",
    "Your options are (not all of these may work for your data: \n",
    "\n",
    "- 'line' : line plot (default)\n",
    "- 'bar' : vertical bar plot\n",
    "- 'barh' : horizontal bar plot\n",
    "- 'hist' : histogram\n",
    "- 'box' : boxplot\n",
    "- 'kde' : Kernel Density Estimation plot\n",
    "- 'density' : same as ‘kde’\n",
    "- 'area' : area plot\n",
    "- 'pie' : pie plot\n",
    "- 'scatter : scatter plot (DataFrame only)\n",
    "- 'hexbin' : hexbin plot (DataFrame only)\n",
    "\n",
    "Similarly, there are many other things you can specify. Go to the documentation for the [dataframe plotting function](https://pandas.pydata.org/pandas-docs/stable/reference/api/pandas.DataFrame.plot.html) and explore your options. \n",
    "\n",
    "**Use the documentation and your smarts to understand what the below parameters are doing>**\n",
    "\n",
    "**Next, try changing the plot changing the `ylabel` to something more sensible and by changing the color. Your options are found [here](https://matplotlib.org/stable/gallery/color/named_colors.html#).**"
   ]
  },
  {
   "cell_type": "code",
   "execution_count": null,
   "id": "ca58e73b-47db-423c-868d-456fd5bc6530",
   "metadata": {},
   "outputs": [],
   "source": [
    "df.plot(x='weight', y='mpg', kind = 'scatter', color = 'k', fontsize = 14, \n",
    "        xlabel = 'Weigth of car in pounds', title = 'some title')"
   ]
  },
  {
   "cell_type": "markdown",
   "id": "9db842e0",
   "metadata": {},
   "source": [
    "You can see that the fontsize of the title and the x and y labels did not change.\n",
    "\n",
    "Unfortunately, we cannot do this directly using pandas. We have to use matplotlib directly. So we import first the `pyplot` module from the matplotlib libary. [Pyplot](https://matplotlib.org/stable/tutorials/introductory/pyplot.html) is designed to easily create and manipulate matplotlib figures and works very similar to plotting in [Matlab](https://www.mathworks.com/products/matlab.html) a commonly used - but expensize - programming language in science & engineering\n",
    ". "
   ]
  },
  {
   "cell_type": "code",
   "execution_count": null,
   "id": "218ab5a3",
   "metadata": {},
   "outputs": [],
   "source": [
    "# this imports pyplot and makes it available when calling plt (this is a commong convention to save some typing)\n",
    "import matplotlib.pyplot as plt\n",
    "\n",
    "df.plot(x='weight', y='mpg', kind = 'scatter', color = 'k', fontsize = 14, xlabel = 'Weigth of car in pounds')\n",
    "\n",
    "# We can then use the ylabel and title method in pyplot, which are a bit more flexible to adjust the fontsize.\n",
    "plt.ylabel('Miles Per Gallon', fontsize = 20, color = 'b')\n",
    "plt.title('Some big Title in Red', fontsize = 20, color = 'r')\n",
    "\n",
    "# I really recommend to check out the tutorial for pyplot. \n",
    "# https://matplotlib.org/stable/tutorials/introductory/index.html"
   ]
  },
  {
   "cell_type": "markdown",
   "id": "647f15b9",
   "metadata": {},
   "source": [
    "### Histograms \n",
    "Text taken from: [Python for Data Vizualization](https://www.linkedin.com/learning/python-for-data-visualization/effectively-present-data-with-python?autoplay=true&u=50844473) on LinkedIn Learning\n",
    "> It is a common practice to create histograms to explore your data as it can give you a general idea of what your data looks like. A histogram is a summary of the variation in a measured variable. It shows the number of samples that occur in a category. A histogram is a type of frequency distribution.\n",
    "\n",
    ">Histograms work by binning the entire range of values into a series of intervals and then counting how many values fall into each interval. While the intervals are often of equal size, they are not required to be.\" \n",
    "\n",
    "It would be nice if we could summarize the distribution of our gas milage. "
   ]
  },
  {
   "cell_type": "code",
   "execution_count": null,
   "id": "2a70a2d2",
   "metadata": {},
   "outputs": [],
   "source": [
    "df['mpg']"
   ]
  },
  {
   "cell_type": "markdown",
   "id": "9c3d58ab",
   "metadata": {},
   "source": [
    "Let's create a histogram. \n",
    "\n",
    "**Compare the two histograms below, what does the `bins` specify in each? What is the difference?**\n",
    "\n",
    "You may have also noticed that I used two different methods to create a histogram. Either one works, but they behave slightly differently. "
   ]
  },
  {
   "cell_type": "code",
   "execution_count": null,
   "id": "47047e77-726b-4682-97ac-684c8b160df5",
   "metadata": {},
   "outputs": [],
   "source": [
    "df['mpg'].plot(kind = 'hist', bins =7)"
   ]
  },
  {
   "cell_type": "code",
   "execution_count": null,
   "id": "21e46daa-b2ac-47d3-bd25-63cee7fe0d3f",
   "metadata": {},
   "outputs": [],
   "source": [
    "df['mpg'].hist(bins = [0, 5, 10, 15, 20, 25, 30, 35, 40, 45, 50])"
   ]
  },
  {
   "cell_type": "markdown",
   "id": "65a8523c",
   "metadata": {},
   "source": [
    "Finally try creating a nice histogram that shows the distribution of `weight` and has all the features like lables, titles, etc that wou yould expect from a nice plot. "
   ]
  },
  {
   "cell_type": "code",
   "execution_count": null,
   "id": "38f11a8c",
   "metadata": {},
   "outputs": [],
   "source": [
    "# You can use this as a starter.\n",
    "\n",
    "df['weight'].plot(kind = 'hist', grid = True)"
   ]
  },
  {
   "cell_type": "code",
   "execution_count": null,
   "id": "932f9421",
   "metadata": {},
   "outputs": [],
   "source": []
  }
 ],
 "metadata": {
  "kernelspec": {
   "display_name": "Python 3",
   "language": "python",
   "name": "python3"
  },
  "language_info": {
   "codemirror_mode": {
    "name": "ipython",
    "version": 3
   },
   "file_extension": ".py",
   "mimetype": "text/x-python",
   "name": "python",
   "nbconvert_exporter": "python",
   "pygments_lexer": "ipython3",
   "version": "3.8.8"
  }
 },
 "nbformat": 4,
 "nbformat_minor": 5
}
