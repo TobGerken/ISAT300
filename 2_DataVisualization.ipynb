{
 "cells": [
  {
   "cell_type": "markdown",
   "id": "090b2eae",
   "metadata": {
    "tags": []
   },
   "source": [
    "[![Open In Colab](https://colab.research.google.com/assets/colab-badge.svg)](https://colab.research.google.com/github/TobGerken/ISAT300/blob/main/2_DataVisualization.ipynb)"
   ]
  },
  {
   "cell_type": "markdown",
   "id": "78089da8",
   "metadata": {},
   "source": [
    "# Data Visualization\n",
    "\n",
    "**This notebook is published on my github. It is publicly accessible, but you cannot save your changes to my github. Learning git & github is beyond the scope of this course. If you are familiar with github, you know what to do. If you don't know github, you can save a personal copy of the file to your google drive, so that you can save your changes and can access them at a later date**\n",
    "\n",
    "This notebook is a continuation from previous classes:\n",
    "\n",
    "1. [GettingStarted](https://github.com/TobGerken/ISAT300/blob/main/1_GettingStarted.ipynb)\n",
    "\n",
    "### Purpose\n",
    "\n",
    "Last lecture, we practiced how to read data into _pandas_ and how to calculate simple statistics. This means we can now access our measurements in _Python_ and conduct an analysis. \n",
    "\n",
    "The next step is understanding on how to use figures to understand the data that we measured and to communicate the results of our analysis. \n",
    "\n",
    "Also, presenting data in clear and appealing figures is a useful professional skill. \n",
    "\n",
    "### Learning Goals \n",
    "\n",
    "After completing this notebook, you should be able to \n",
    "\n",
    "- use _Python_ and _pandas_ to read `csv-files`\n",
    "- know how to access and read the documentation for functions\n",
    "- create plots of variables within _dataframes_\n",
    "- visualize the distribution of measurements using histograms\n",
    "- understand how choice of the bin number affects the histogram\n",
    "- manipulate plots (including histograms) to add labels and a title. \n"
   ]
  },
  {
   "cell_type": "markdown",
   "id": "6c7382d3",
   "metadata": {},
   "source": [
    "## Now lets get started \n",
    "\n",
    "This really only scratches the surface and there are so many good resources around. Come and talk to me if you want to know more. I am also pointing out some resources along the way and will link to them on Canvas. \n",
    "\n",
    "We previously covered some [Pandas](https://pandas.pydata.org/) dataframe basics and performed some initial statistics. Well crafted figures are a powerful tool to communicate our main findings and to [tell compelling stories with data](https://hbr.org/2013/04/how-to-tell-a-story-with-data).  \n",
    "\n",
    "Because we are still using pandas we have to import it first. "
   ]
  },
  {
   "cell_type": "code",
   "execution_count": 1,
   "id": "e7de83de",
   "metadata": {},
   "outputs": [],
   "source": [
    "# running this will import pandas.\n",
    "import pandas as pd"
   ]
  },
  {
   "cell_type": "markdown",
   "id": "a558c575",
   "metadata": {},
   "source": [
    "## Getting help\n",
    "\n",
    "We all need a little help sometimes. Check out the help command. There is going to be a lot of information provided. There is no need to understand all of it, but sometimes this can be helpful. When you are unsure, try `help()`."
   ]
  },
  {
   "cell_type": "code",
   "execution_count": 2,
   "id": "4062b6b3",
   "metadata": {},
   "outputs": [
    {
     "name": "stdout",
     "output_type": "stream",
     "text": [
      "Help on function read_csv in module pandas.io.parsers.readers:\n",
      "\n",
      "read_csv(filepath_or_buffer: 'FilePath | ReadCsvBuffer[bytes] | ReadCsvBuffer[str]', *, sep: 'str | None | lib.NoDefault' = <no_default>, delimiter: 'str | None | lib.NoDefault' = None, header: \"int | Sequence[int] | None | Literal['infer']\" = 'infer', names: 'Sequence[Hashable] | None | lib.NoDefault' = <no_default>, index_col: 'IndexLabel | Literal[False] | None' = None, usecols=None, squeeze: 'bool | None' = None, prefix: 'str | lib.NoDefault' = <no_default>, mangle_dupe_cols: 'bool' = True, dtype: 'DtypeArg | None' = None, engine: 'CSVEngine | None' = None, converters=None, true_values=None, false_values=None, skipinitialspace: 'bool' = False, skiprows=None, skipfooter: 'int' = 0, nrows: 'int | None' = None, na_values=None, keep_default_na: 'bool' = True, na_filter: 'bool' = True, verbose: 'bool' = False, skip_blank_lines: 'bool' = True, parse_dates=None, infer_datetime_format: 'bool' = False, keep_date_col: 'bool' = False, date_parser=None, dayfirst: 'bool' = False, cache_dates: 'bool' = True, iterator: 'bool' = False, chunksize: 'int | None' = None, compression: 'CompressionOptions' = 'infer', thousands: 'str | None' = None, decimal: 'str' = '.', lineterminator: 'str | None' = None, quotechar: 'str' = '\"', quoting: 'int' = 0, doublequote: 'bool' = True, escapechar: 'str | None' = None, comment: 'str | None' = None, encoding: 'str | None' = None, encoding_errors: 'str | None' = 'strict', dialect: 'str | csv.Dialect | None' = None, error_bad_lines: 'bool | None' = None, warn_bad_lines: 'bool | None' = None, on_bad_lines=None, delim_whitespace: 'bool' = False, low_memory=True, memory_map: 'bool' = False, float_precision: \"Literal['high', 'legacy'] | None\" = None, storage_options: 'StorageOptions' = None) -> 'DataFrame | TextFileReader'\n",
      "    Read a comma-separated values (csv) file into DataFrame.\n",
      "    \n",
      "    Also supports optionally iterating or breaking of the file\n",
      "    into chunks.\n",
      "    \n",
      "    Additional help can be found in the online docs for\n",
      "    `IO Tools <https://pandas.pydata.org/pandas-docs/stable/user_guide/io.html>`_.\n",
      "    \n",
      "    Parameters\n",
      "    ----------\n",
      "    filepath_or_buffer : str, path object or file-like object\n",
      "        Any valid string path is acceptable. The string could be a URL. Valid\n",
      "        URL schemes include http, ftp, s3, gs, and file. For file URLs, a host is\n",
      "        expected. A local file could be: file://localhost/path/to/table.csv.\n",
      "    \n",
      "        If you want to pass in a path object, pandas accepts any ``os.PathLike``.\n",
      "    \n",
      "        By file-like object, we refer to objects with a ``read()`` method, such as\n",
      "        a file handle (e.g. via builtin ``open`` function) or ``StringIO``.\n",
      "    sep : str, default ','\n",
      "        Delimiter to use. If sep is None, the C engine cannot automatically detect\n",
      "        the separator, but the Python parsing engine can, meaning the latter will\n",
      "        be used and automatically detect the separator by Python's builtin sniffer\n",
      "        tool, ``csv.Sniffer``. In addition, separators longer than 1 character and\n",
      "        different from ``'\\s+'`` will be interpreted as regular expressions and\n",
      "        will also force the use of the Python parsing engine. Note that regex\n",
      "        delimiters are prone to ignoring quoted data. Regex example: ``'\\r\\t'``.\n",
      "    delimiter : str, default ``None``\n",
      "        Alias for sep.\n",
      "    header : int, list of int, None, default 'infer'\n",
      "        Row number(s) to use as the column names, and the start of the\n",
      "        data.  Default behavior is to infer the column names: if no names\n",
      "        are passed the behavior is identical to ``header=0`` and column\n",
      "        names are inferred from the first line of the file, if column\n",
      "        names are passed explicitly then the behavior is identical to\n",
      "        ``header=None``. Explicitly pass ``header=0`` to be able to\n",
      "        replace existing names. The header can be a list of integers that\n",
      "        specify row locations for a multi-index on the columns\n",
      "        e.g. [0,1,3]. Intervening rows that are not specified will be\n",
      "        skipped (e.g. 2 in this example is skipped). Note that this\n",
      "        parameter ignores commented lines and empty lines if\n",
      "        ``skip_blank_lines=True``, so ``header=0`` denotes the first line of\n",
      "        data rather than the first line of the file.\n",
      "    names : array-like, optional\n",
      "        List of column names to use. If the file contains a header row,\n",
      "        then you should explicitly pass ``header=0`` to override the column names.\n",
      "        Duplicates in this list are not allowed.\n",
      "    index_col : int, str, sequence of int / str, or False, optional, default ``None``\n",
      "      Column(s) to use as the row labels of the ``DataFrame``, either given as\n",
      "      string name or column index. If a sequence of int / str is given, a\n",
      "      MultiIndex is used.\n",
      "    \n",
      "      Note: ``index_col=False`` can be used to force pandas to *not* use the first\n",
      "      column as the index, e.g. when you have a malformed file with delimiters at\n",
      "      the end of each line.\n",
      "    usecols : list-like or callable, optional\n",
      "        Return a subset of the columns. If list-like, all elements must either\n",
      "        be positional (i.e. integer indices into the document columns) or strings\n",
      "        that correspond to column names provided either by the user in `names` or\n",
      "        inferred from the document header row(s). If ``names`` are given, the document\n",
      "        header row(s) are not taken into account. For example, a valid list-like\n",
      "        `usecols` parameter would be ``[0, 1, 2]`` or ``['foo', 'bar', 'baz']``.\n",
      "        Element order is ignored, so ``usecols=[0, 1]`` is the same as ``[1, 0]``.\n",
      "        To instantiate a DataFrame from ``data`` with element order preserved use\n",
      "        ``pd.read_csv(data, usecols=['foo', 'bar'])[['foo', 'bar']]`` for columns\n",
      "        in ``['foo', 'bar']`` order or\n",
      "        ``pd.read_csv(data, usecols=['foo', 'bar'])[['bar', 'foo']]``\n",
      "        for ``['bar', 'foo']`` order.\n",
      "    \n",
      "        If callable, the callable function will be evaluated against the column\n",
      "        names, returning names where the callable function evaluates to True. An\n",
      "        example of a valid callable argument would be ``lambda x: x.upper() in\n",
      "        ['AAA', 'BBB', 'DDD']``. Using this parameter results in much faster\n",
      "        parsing time and lower memory usage.\n",
      "    squeeze : bool, default False\n",
      "        If the parsed data only contains one column then return a Series.\n",
      "    \n",
      "        .. deprecated:: 1.4.0\n",
      "            Append ``.squeeze(\"columns\")`` to the call to ``read_csv`` to squeeze\n",
      "            the data.\n",
      "    prefix : str, optional\n",
      "        Prefix to add to column numbers when no header, e.g. 'X' for X0, X1, ...\n",
      "    \n",
      "        .. deprecated:: 1.4.0\n",
      "           Use a list comprehension on the DataFrame's columns after calling ``read_csv``.\n",
      "    mangle_dupe_cols : bool, default True\n",
      "        Duplicate columns will be specified as 'X', 'X.1', ...'X.N', rather than\n",
      "        'X'...'X'. Passing in False will cause data to be overwritten if there\n",
      "        are duplicate names in the columns.\n",
      "    \n",
      "        .. deprecated:: 1.5.0\n",
      "            Not implemented, and a new argument to specify the pattern for the\n",
      "            names of duplicated columns will be added instead\n",
      "    dtype : Type name or dict of column -> type, optional\n",
      "        Data type for data or columns. E.g. {'a': np.float64, 'b': np.int32,\n",
      "        'c': 'Int64'}\n",
      "        Use `str` or `object` together with suitable `na_values` settings\n",
      "        to preserve and not interpret dtype.\n",
      "        If converters are specified, they will be applied INSTEAD\n",
      "        of dtype conversion.\n",
      "    \n",
      "        .. versionadded:: 1.5.0\n",
      "    \n",
      "            Support for defaultdict was added. Specify a defaultdict as input where\n",
      "            the default determines the dtype of the columns which are not explicitly\n",
      "            listed.\n",
      "    engine : {'c', 'python', 'pyarrow'}, optional\n",
      "        Parser engine to use. The C and pyarrow engines are faster, while the python engine\n",
      "        is currently more feature-complete. Multithreading is currently only supported by\n",
      "        the pyarrow engine.\n",
      "    \n",
      "        .. versionadded:: 1.4.0\n",
      "    \n",
      "            The \"pyarrow\" engine was added as an *experimental* engine, and some features\n",
      "            are unsupported, or may not work correctly, with this engine.\n",
      "    converters : dict, optional\n",
      "        Dict of functions for converting values in certain columns. Keys can either\n",
      "        be integers or column labels.\n",
      "    true_values : list, optional\n",
      "        Values to consider as True.\n",
      "    false_values : list, optional\n",
      "        Values to consider as False.\n",
      "    skipinitialspace : bool, default False\n",
      "        Skip spaces after delimiter.\n",
      "    skiprows : list-like, int or callable, optional\n",
      "        Line numbers to skip (0-indexed) or number of lines to skip (int)\n",
      "        at the start of the file.\n",
      "    \n",
      "        If callable, the callable function will be evaluated against the row\n",
      "        indices, returning True if the row should be skipped and False otherwise.\n",
      "        An example of a valid callable argument would be ``lambda x: x in [0, 2]``.\n",
      "    skipfooter : int, default 0\n",
      "        Number of lines at bottom of file to skip (Unsupported with engine='c').\n",
      "    nrows : int, optional\n",
      "        Number of rows of file to read. Useful for reading pieces of large files.\n",
      "    na_values : scalar, str, list-like, or dict, optional\n",
      "        Additional strings to recognize as NA/NaN. If dict passed, specific\n",
      "        per-column NA values.  By default the following values are interpreted as\n",
      "        NaN: '', '#N/A', '#N/A N/A', '#NA', '-1.#IND', '-1.#QNAN', '-NaN', '-nan',\n",
      "        '1.#IND', '1.#QNAN', '<NA>', 'N/A', 'NA', 'NULL', 'NaN', 'n/a',\n",
      "        'nan', 'null'.\n",
      "    keep_default_na : bool, default True\n",
      "        Whether or not to include the default NaN values when parsing the data.\n",
      "        Depending on whether `na_values` is passed in, the behavior is as follows:\n",
      "    \n",
      "        * If `keep_default_na` is True, and `na_values` are specified, `na_values`\n",
      "          is appended to the default NaN values used for parsing.\n",
      "        * If `keep_default_na` is True, and `na_values` are not specified, only\n",
      "          the default NaN values are used for parsing.\n",
      "        * If `keep_default_na` is False, and `na_values` are specified, only\n",
      "          the NaN values specified `na_values` are used for parsing.\n",
      "        * If `keep_default_na` is False, and `na_values` are not specified, no\n",
      "          strings will be parsed as NaN.\n",
      "    \n",
      "        Note that if `na_filter` is passed in as False, the `keep_default_na` and\n",
      "        `na_values` parameters will be ignored.\n",
      "    na_filter : bool, default True\n",
      "        Detect missing value markers (empty strings and the value of na_values). In\n",
      "        data without any NAs, passing na_filter=False can improve the performance\n",
      "        of reading a large file.\n",
      "    verbose : bool, default False\n",
      "        Indicate number of NA values placed in non-numeric columns.\n",
      "    skip_blank_lines : bool, default True\n",
      "        If True, skip over blank lines rather than interpreting as NaN values.\n",
      "    parse_dates : bool or list of int or names or list of lists or dict, default False\n",
      "        The behavior is as follows:\n",
      "    \n",
      "        * boolean. If True -> try parsing the index.\n",
      "        * list of int or names. e.g. If [1, 2, 3] -> try parsing columns 1, 2, 3\n",
      "          each as a separate date column.\n",
      "        * list of lists. e.g.  If [[1, 3]] -> combine columns 1 and 3 and parse as\n",
      "          a single date column.\n",
      "        * dict, e.g. {'foo' : [1, 3]} -> parse columns 1, 3 as date and call\n",
      "          result 'foo'\n",
      "    \n",
      "        If a column or index cannot be represented as an array of datetimes,\n",
      "        say because of an unparsable value or a mixture of timezones, the column\n",
      "        or index will be returned unaltered as an object data type. For\n",
      "        non-standard datetime parsing, use ``pd.to_datetime`` after\n",
      "        ``pd.read_csv``. To parse an index or column with a mixture of timezones,\n",
      "        specify ``date_parser`` to be a partially-applied\n",
      "        :func:`pandas.to_datetime` with ``utc=True``. See\n",
      "        :ref:`io.csv.mixed_timezones` for more.\n",
      "    \n",
      "        Note: A fast-path exists for iso8601-formatted dates.\n",
      "    infer_datetime_format : bool, default False\n",
      "        If True and `parse_dates` is enabled, pandas will attempt to infer the\n",
      "        format of the datetime strings in the columns, and if it can be inferred,\n",
      "        switch to a faster method of parsing them. In some cases this can increase\n",
      "        the parsing speed by 5-10x.\n",
      "    keep_date_col : bool, default False\n",
      "        If True and `parse_dates` specifies combining multiple columns then\n",
      "        keep the original columns.\n",
      "    date_parser : function, optional\n",
      "        Function to use for converting a sequence of string columns to an array of\n",
      "        datetime instances. The default uses ``dateutil.parser.parser`` to do the\n",
      "        conversion. Pandas will try to call `date_parser` in three different ways,\n",
      "        advancing to the next if an exception occurs: 1) Pass one or more arrays\n",
      "        (as defined by `parse_dates`) as arguments; 2) concatenate (row-wise) the\n",
      "        string values from the columns defined by `parse_dates` into a single array\n",
      "        and pass that; and 3) call `date_parser` once for each row using one or\n",
      "        more strings (corresponding to the columns defined by `parse_dates`) as\n",
      "        arguments.\n",
      "    dayfirst : bool, default False\n",
      "        DD/MM format dates, international and European format.\n",
      "    cache_dates : bool, default True\n",
      "        If True, use a cache of unique, converted dates to apply the datetime\n",
      "        conversion. May produce significant speed-up when parsing duplicate\n",
      "        date strings, especially ones with timezone offsets.\n",
      "    \n",
      "        .. versionadded:: 0.25.0\n",
      "    iterator : bool, default False\n",
      "        Return TextFileReader object for iteration or getting chunks with\n",
      "        ``get_chunk()``.\n",
      "    \n",
      "        .. versionchanged:: 1.2\n",
      "    \n",
      "           ``TextFileReader`` is a context manager.\n",
      "    chunksize : int, optional\n",
      "        Return TextFileReader object for iteration.\n",
      "        See the `IO Tools docs\n",
      "        <https://pandas.pydata.org/pandas-docs/stable/io.html#io-chunking>`_\n",
      "        for more information on ``iterator`` and ``chunksize``.\n",
      "    \n",
      "        .. versionchanged:: 1.2\n",
      "    \n",
      "           ``TextFileReader`` is a context manager.\n",
      "    compression : str or dict, default 'infer'\n",
      "        For on-the-fly decompression of on-disk data. If 'infer' and 'filepath_or_buffer' is\n",
      "        path-like, then detect compression from the following extensions: '.gz',\n",
      "        '.bz2', '.zip', '.xz', '.zst', '.tar', '.tar.gz', '.tar.xz' or '.tar.bz2'\n",
      "        (otherwise no compression).\n",
      "        If using 'zip' or 'tar', the ZIP file must contain only one data file to be read in.\n",
      "        Set to ``None`` for no decompression.\n",
      "        Can also be a dict with key ``'method'`` set\n",
      "        to one of {``'zip'``, ``'gzip'``, ``'bz2'``, ``'zstd'``, ``'tar'``} and other\n",
      "        key-value pairs are forwarded to\n",
      "        ``zipfile.ZipFile``, ``gzip.GzipFile``,\n",
      "        ``bz2.BZ2File``, ``zstandard.ZstdDecompressor`` or\n",
      "        ``tarfile.TarFile``, respectively.\n",
      "        As an example, the following could be passed for Zstandard decompression using a\n",
      "        custom compression dictionary:\n",
      "        ``compression={'method': 'zstd', 'dict_data': my_compression_dict}``.\n",
      "    \n",
      "            .. versionadded:: 1.5.0\n",
      "                Added support for `.tar` files.\n",
      "    \n",
      "        .. versionchanged:: 1.4.0 Zstandard support.\n",
      "    \n",
      "    thousands : str, optional\n",
      "        Thousands separator.\n",
      "    decimal : str, default '.'\n",
      "        Character to recognize as decimal point (e.g. use ',' for European data).\n",
      "    lineterminator : str (length 1), optional\n",
      "        Character to break file into lines. Only valid with C parser.\n",
      "    quotechar : str (length 1), optional\n",
      "        The character used to denote the start and end of a quoted item. Quoted\n",
      "        items can include the delimiter and it will be ignored.\n",
      "    quoting : int or csv.QUOTE_* instance, default 0\n",
      "        Control field quoting behavior per ``csv.QUOTE_*`` constants. Use one of\n",
      "        QUOTE_MINIMAL (0), QUOTE_ALL (1), QUOTE_NONNUMERIC (2) or QUOTE_NONE (3).\n",
      "    doublequote : bool, default ``True``\n",
      "       When quotechar is specified and quoting is not ``QUOTE_NONE``, indicate\n",
      "       whether or not to interpret two consecutive quotechar elements INSIDE a\n",
      "       field as a single ``quotechar`` element.\n",
      "    escapechar : str (length 1), optional\n",
      "        One-character string used to escape other characters.\n",
      "    comment : str, optional\n",
      "        Indicates remainder of line should not be parsed. If found at the beginning\n",
      "        of a line, the line will be ignored altogether. This parameter must be a\n",
      "        single character. Like empty lines (as long as ``skip_blank_lines=True``),\n",
      "        fully commented lines are ignored by the parameter `header` but not by\n",
      "        `skiprows`. For example, if ``comment='#'``, parsing\n",
      "        ``#empty\\na,b,c\\n1,2,3`` with ``header=0`` will result in 'a,b,c' being\n",
      "        treated as the header.\n",
      "    encoding : str, optional\n",
      "        Encoding to use for UTF when reading/writing (ex. 'utf-8'). `List of Python\n",
      "        standard encodings\n",
      "        <https://docs.python.org/3/library/codecs.html#standard-encodings>`_ .\n",
      "    \n",
      "        .. versionchanged:: 1.2\n",
      "    \n",
      "           When ``encoding`` is ``None``, ``errors=\"replace\"`` is passed to\n",
      "           ``open()``. Otherwise, ``errors=\"strict\"`` is passed to ``open()``.\n",
      "           This behavior was previously only the case for ``engine=\"python\"``.\n",
      "    \n",
      "        .. versionchanged:: 1.3.0\n",
      "    \n",
      "           ``encoding_errors`` is a new argument. ``encoding`` has no longer an\n",
      "           influence on how encoding errors are handled.\n",
      "    \n",
      "    encoding_errors : str, optional, default \"strict\"\n",
      "        How encoding errors are treated. `List of possible values\n",
      "        <https://docs.python.org/3/library/codecs.html#error-handlers>`_ .\n",
      "    \n",
      "        .. versionadded:: 1.3.0\n",
      "    \n",
      "    dialect : str or csv.Dialect, optional\n",
      "        If provided, this parameter will override values (default or not) for the\n",
      "        following parameters: `delimiter`, `doublequote`, `escapechar`,\n",
      "        `skipinitialspace`, `quotechar`, and `quoting`. If it is necessary to\n",
      "        override values, a ParserWarning will be issued. See csv.Dialect\n",
      "        documentation for more details.\n",
      "    error_bad_lines : bool, optional, default ``None``\n",
      "        Lines with too many fields (e.g. a csv line with too many commas) will by\n",
      "        default cause an exception to be raised, and no DataFrame will be returned.\n",
      "        If False, then these \"bad lines\" will be dropped from the DataFrame that is\n",
      "        returned.\n",
      "    \n",
      "        .. deprecated:: 1.3.0\n",
      "           The ``on_bad_lines`` parameter should be used instead to specify behavior upon\n",
      "           encountering a bad line instead.\n",
      "    warn_bad_lines : bool, optional, default ``None``\n",
      "        If error_bad_lines is False, and warn_bad_lines is True, a warning for each\n",
      "        \"bad line\" will be output.\n",
      "    \n",
      "        .. deprecated:: 1.3.0\n",
      "           The ``on_bad_lines`` parameter should be used instead to specify behavior upon\n",
      "           encountering a bad line instead.\n",
      "    on_bad_lines : {'error', 'warn', 'skip'} or callable, default 'error'\n",
      "        Specifies what to do upon encountering a bad line (a line with too many fields).\n",
      "        Allowed values are :\n",
      "    \n",
      "            - 'error', raise an Exception when a bad line is encountered.\n",
      "            - 'warn', raise a warning when a bad line is encountered and skip that line.\n",
      "            - 'skip', skip bad lines without raising or warning when they are encountered.\n",
      "    \n",
      "        .. versionadded:: 1.3.0\n",
      "    \n",
      "        .. versionadded:: 1.4.0\n",
      "    \n",
      "            - callable, function with signature\n",
      "              ``(bad_line: list[str]) -> list[str] | None`` that will process a single\n",
      "              bad line. ``bad_line`` is a list of strings split by the ``sep``.\n",
      "              If the function returns ``None``, the bad line will be ignored.\n",
      "              If the function returns a new list of strings with more elements than\n",
      "              expected, a ``ParserWarning`` will be emitted while dropping extra elements.\n",
      "              Only supported when ``engine=\"python\"``\n",
      "    \n",
      "    delim_whitespace : bool, default False\n",
      "        Specifies whether or not whitespace (e.g. ``' '`` or ``'    '``) will be\n",
      "        used as the sep. Equivalent to setting ``sep='\\s+'``. If this option\n",
      "        is set to True, nothing should be passed in for the ``delimiter``\n",
      "        parameter.\n",
      "    low_memory : bool, default True\n",
      "        Internally process the file in chunks, resulting in lower memory use\n",
      "        while parsing, but possibly mixed type inference.  To ensure no mixed\n",
      "        types either set False, or specify the type with the `dtype` parameter.\n",
      "        Note that the entire file is read into a single DataFrame regardless,\n",
      "        use the `chunksize` or `iterator` parameter to return the data in chunks.\n",
      "        (Only valid with C parser).\n",
      "    memory_map : bool, default False\n",
      "        If a filepath is provided for `filepath_or_buffer`, map the file object\n",
      "        directly onto memory and access the data directly from there. Using this\n",
      "        option can improve performance because there is no longer any I/O overhead.\n",
      "    float_precision : str, optional\n",
      "        Specifies which converter the C engine should use for floating-point\n",
      "        values. The options are ``None`` or 'high' for the ordinary converter,\n",
      "        'legacy' for the original lower precision pandas converter, and\n",
      "        'round_trip' for the round-trip converter.\n",
      "    \n",
      "        .. versionchanged:: 1.2\n",
      "    \n",
      "    storage_options : dict, optional\n",
      "        Extra options that make sense for a particular storage connection, e.g.\n",
      "        host, port, username, password, etc. For HTTP(S) URLs the key-value pairs\n",
      "        are forwarded to ``urllib.request.Request`` as header options. For other\n",
      "        URLs (e.g. starting with \"s3://\", and \"gcs://\") the key-value pairs are\n",
      "        forwarded to ``fsspec.open``. Please see ``fsspec`` and ``urllib`` for more\n",
      "        details, and for more examples on storage options refer `here\n",
      "        <https://pandas.pydata.org/docs/user_guide/io.html?\n",
      "        highlight=storage_options#reading-writing-remote-files>`_.\n",
      "    \n",
      "        .. versionadded:: 1.2\n",
      "    \n",
      "    Returns\n",
      "    -------\n",
      "    DataFrame or TextParser\n",
      "        A comma-separated values (csv) file is returned as two-dimensional\n",
      "        data structure with labeled axes.\n",
      "    \n",
      "    See Also\n",
      "    --------\n",
      "    DataFrame.to_csv : Write DataFrame to a comma-separated values (csv) file.\n",
      "    read_csv : Read a comma-separated values (csv) file into DataFrame.\n",
      "    read_fwf : Read a table of fixed-width formatted lines into DataFrame.\n",
      "    \n",
      "    Examples\n",
      "    --------\n",
      "    >>> pd.read_csv('data.csv')  # doctest: +SKIP\n",
      "\n"
     ]
    }
   ],
   "source": [
    "help(pd.read_csv)"
   ]
  },
  {
   "cell_type": "markdown",
   "id": "99ca9f8a",
   "metadata": {},
   "source": [
    "As a side note, when you edit a cell, you can also hit the `Tab` key and it will provide some suggestions on what you can do. \n",
    "**Try it out: Type: `pd.` and hit the Tab key** the cell below."
   ]
  },
  {
   "cell_type": "code",
   "execution_count": null,
   "id": "1a2448e2",
   "metadata": {},
   "outputs": [],
   "source": []
  },
  {
   "cell_type": "markdown",
   "id": "5be71d9c",
   "metadata": {},
   "source": [
    "## Reading data into a pandas dataframe\n",
    "\n",
    "We will use the same data as before and will load this into a dataframe `df`. You can chose to load the data from the online source or to load a local copy. "
   ]
  },
  {
   "cell_type": "code",
   "execution_count": 3,
   "id": "8fcfe4f3",
   "metadata": {},
   "outputs": [],
   "source": [
    "# This loads the data, which is saved online: \n",
    "df = pd.read_csv('https://raw.githubusercontent.com/TobGerken/ISAT300/main/Data/mpg_cated.csv')\n",
    "\n",
    "# This would read a local copy from the data, provided that it is stored in the base folder. \n",
    "# df = pd.read_csv('./mpg_cated.csv')"
   ]
  },
  {
   "cell_type": "markdown",
   "id": "43508c6d",
   "metadata": {
    "tags": []
   },
   "source": [
    "Let's remind us what the data we loaded looked like by looking at the fist few entries"
   ]
  },
  {
   "cell_type": "code",
   "execution_count": 4,
   "id": "ed549d7f",
   "metadata": {},
   "outputs": [
    {
     "data": {
      "text/html": [
       "<div>\n",
       "<style scoped>\n",
       "    .dataframe tbody tr th:only-of-type {\n",
       "        vertical-align: middle;\n",
       "    }\n",
       "\n",
       "    .dataframe tbody tr th {\n",
       "        vertical-align: top;\n",
       "    }\n",
       "\n",
       "    .dataframe thead th {\n",
       "        text-align: right;\n",
       "    }\n",
       "</style>\n",
       "<table border=\"1\" class=\"dataframe\">\n",
       "  <thead>\n",
       "    <tr style=\"text-align: right;\">\n",
       "      <th></th>\n",
       "      <th>origin</th>\n",
       "      <th>cylinders</th>\n",
       "      <th>model_year</th>\n",
       "      <th>mpg_level</th>\n",
       "      <th>car_company</th>\n",
       "      <th>mpg</th>\n",
       "      <th>displacement</th>\n",
       "      <th>horsepower</th>\n",
       "      <th>weight</th>\n",
       "      <th>acceleration</th>\n",
       "    </tr>\n",
       "  </thead>\n",
       "  <tbody>\n",
       "    <tr>\n",
       "      <th>0</th>\n",
       "      <td>usa</td>\n",
       "      <td>8</td>\n",
       "      <td>70</td>\n",
       "      <td>medium</td>\n",
       "      <td>chevrolet</td>\n",
       "      <td>18.0</td>\n",
       "      <td>307.0</td>\n",
       "      <td>130.0</td>\n",
       "      <td>3504</td>\n",
       "      <td>12.0</td>\n",
       "    </tr>\n",
       "    <tr>\n",
       "      <th>1</th>\n",
       "      <td>usa</td>\n",
       "      <td>8</td>\n",
       "      <td>70</td>\n",
       "      <td>low</td>\n",
       "      <td>buick</td>\n",
       "      <td>15.0</td>\n",
       "      <td>350.0</td>\n",
       "      <td>165.0</td>\n",
       "      <td>3693</td>\n",
       "      <td>11.5</td>\n",
       "    </tr>\n",
       "    <tr>\n",
       "      <th>2</th>\n",
       "      <td>usa</td>\n",
       "      <td>8</td>\n",
       "      <td>70</td>\n",
       "      <td>medium</td>\n",
       "      <td>plymouth</td>\n",
       "      <td>18.0</td>\n",
       "      <td>318.0</td>\n",
       "      <td>150.0</td>\n",
       "      <td>3436</td>\n",
       "      <td>11.0</td>\n",
       "    </tr>\n",
       "    <tr>\n",
       "      <th>3</th>\n",
       "      <td>usa</td>\n",
       "      <td>8</td>\n",
       "      <td>70</td>\n",
       "      <td>low</td>\n",
       "      <td>amc</td>\n",
       "      <td>16.0</td>\n",
       "      <td>304.0</td>\n",
       "      <td>150.0</td>\n",
       "      <td>3433</td>\n",
       "      <td>12.0</td>\n",
       "    </tr>\n",
       "    <tr>\n",
       "      <th>4</th>\n",
       "      <td>usa</td>\n",
       "      <td>8</td>\n",
       "      <td>70</td>\n",
       "      <td>medium</td>\n",
       "      <td>ford</td>\n",
       "      <td>17.0</td>\n",
       "      <td>302.0</td>\n",
       "      <td>140.0</td>\n",
       "      <td>3449</td>\n",
       "      <td>10.5</td>\n",
       "    </tr>\n",
       "  </tbody>\n",
       "</table>\n",
       "</div>"
      ],
      "text/plain": [
       "  origin  cylinders  model_year mpg_level car_company   mpg  displacement  \\\n",
       "0    usa          8          70    medium   chevrolet  18.0         307.0   \n",
       "1    usa          8          70       low       buick  15.0         350.0   \n",
       "2    usa          8          70    medium    plymouth  18.0         318.0   \n",
       "3    usa          8          70       low         amc  16.0         304.0   \n",
       "4    usa          8          70    medium        ford  17.0         302.0   \n",
       "\n",
       "   horsepower  weight  acceleration  \n",
       "0       130.0    3504          12.0  \n",
       "1       165.0    3693          11.5  \n",
       "2       150.0    3436          11.0  \n",
       "3       150.0    3433          12.0  \n",
       "4       140.0    3449          10.5  "
      ]
     },
     "execution_count": 4,
     "metadata": {},
     "output_type": "execute_result"
    }
   ],
   "source": [
    "df.head()\n",
    "# You can also display the last few entries with the tail function. Try uncommenting it! \n",
    "# df.tail()"
   ]
  },
  {
   "cell_type": "code",
   "execution_count": 5,
   "id": "eae315dd",
   "metadata": {},
   "outputs": [
    {
     "data": {
      "text/plain": [
       "(392, 10)"
      ]
     },
     "execution_count": 5,
     "metadata": {},
     "output_type": "execute_result"
    }
   ],
   "source": [
    "# This will give you the dimension of the data\n",
    "df.shape"
   ]
  },
  {
   "attachments": {},
   "cell_type": "markdown",
   "id": "87c43485",
   "metadata": {},
   "source": [
    "The results from `df.shape` tell us that there is 392 rows with 10 columns in our dataframe. "
   ]
  },
  {
   "cell_type": "markdown",
   "id": "0a0f2c11",
   "metadata": {},
   "source": [
    "The `df.info()` command is another great way of understanding our data. It will provide information about the types of data and how many valid data entries there are. "
   ]
  },
  {
   "cell_type": "code",
   "execution_count": 6,
   "id": "dae7c6b2",
   "metadata": {},
   "outputs": [
    {
     "name": "stdout",
     "output_type": "stream",
     "text": [
      "<class 'pandas.core.frame.DataFrame'>\n",
      "RangeIndex: 392 entries, 0 to 391\n",
      "Data columns (total 10 columns):\n",
      " #   Column        Non-Null Count  Dtype  \n",
      "---  ------        --------------  -----  \n",
      " 0   origin        392 non-null    object \n",
      " 1   cylinders     392 non-null    int64  \n",
      " 2   model_year    392 non-null    int64  \n",
      " 3   mpg_level     392 non-null    object \n",
      " 4   car_company   392 non-null    object \n",
      " 5   mpg           392 non-null    float64\n",
      " 6   displacement  392 non-null    float64\n",
      " 7   horsepower    392 non-null    float64\n",
      " 8   weight        392 non-null    int64  \n",
      " 9   acceleration  392 non-null    float64\n",
      "dtypes: float64(4), int64(3), object(3)\n",
      "memory usage: 30.8+ KB\n"
     ]
    }
   ],
   "source": [
    "df.info()"
   ]
  },
  {
   "attachments": {},
   "cell_type": "markdown",
   "id": "df883c12",
   "metadata": {},
   "source": [
    "**Questions about the `Non-Null` Count and the `Dtype` columns.**  \n",
    "\n",
    "- **Dtype:** Look at the mpg data (see above) and find out the difference between `object`, `int`, and `float`.\n",
    "\n",
    "- **non-null:** \n",
    "  - Look up what it means for a table to have [NULL values](https://en.wikipedia.org/wiki/Null_(SQL)) \n",
    "  - Compare this to the length of the mpg data frame (see `df.shape` above)\n",
    "  - Does the table have missing data? "
   ]
  },
  {
   "attachments": {},
   "cell_type": "markdown",
   "id": "7efebde3",
   "metadata": {},
   "source": [
    "Missing data can be a big problem for statistics and data visualization, since they may not work or produce the wrong results. Therefore it is important to always check for missing values. \n",
    "\n",
    "Missing values are often represented as `NaN` or `nan`\n",
    "Here is an example for a common problem with missing data, when calculating descriptive statistics like the `mean` value. \n",
    "\n",
    "NaN or nan stands for not a number. This is different from zero, but indicates that it is impossible to do calculations on this value. "
   ]
  },
  {
   "cell_type": "code",
   "execution_count": 17,
   "id": "818996a6",
   "metadata": {},
   "outputs": [
    {
     "name": "stdout",
     "output_type": "stream",
     "text": [
      "[1 2 3 4 5]\n",
      "The mean of [1 2 3 4 5] without missing data is: 3.0\n",
      "The mean of [ 1.  2. nan  4.  5.] with missing data is: nan\n"
     ]
    }
   ],
   "source": [
    "import numpy as np\n",
    "array_without_missing_data = np.array([1,2,3,4,5])\n",
    "array_with_missing_data    = np.array([1,2,np.nan,4,5])\n",
    "\n",
    "print('The mean of', array_without_missing_data,  'without missing data is:' , array_without_missing_data.mean())\n",
    "print('The mean of', array_with_missing_data, 'with missing data is:' , array_with_missing_data.mean())"
   ]
  },
  {
   "cell_type": "markdown",
   "id": "e74f1518",
   "metadata": {},
   "source": [
    "## Getting Started with Data visualization\n",
    "\n",
    "Python contains very powerfull capabilities for data visualziation. One of these is the matplotlib library, which capable of producing complex publication-quality figures with fine layout control in two and three dimensions. \n",
    "\n",
    "[Matplotlib](http://matplotlib.org) is quite old and is built to be familiar to Matlab users. While it is an older library, so many libraries are built on top of it and use its syntax. We might encounter some of these later in the semester.\n",
    "\n",
    "One neat thing about matplotlib is that pandas is actually using the features of matplotlib to produce figures. This will become clearer later. \n",
    "\n",
    "For now, you just need to know that making plots is really easy. "
   ]
  },
  {
   "cell_type": "markdown",
   "id": "0c1657cd",
   "metadata": {},
   "source": [
    "If we have a dataframe we can just call the `.plot()` method and a plot will appear. Neat ;-)"
   ]
  },
  {
   "cell_type": "code",
   "execution_count": null,
   "id": "298eb167",
   "metadata": {},
   "outputs": [],
   "source": [
    "df.plot()"
   ]
  },
  {
   "cell_type": "markdown",
   "id": "6bbee3a9",
   "metadata": {},
   "source": [
    "Now we have a plot of the dataframe, but it is not very useful to see what is going on.\n",
    "\n",
    "**Q1: Why?** \n",
    "\n",
    "**Q2: What is missing from this plot?**"
   ]
  },
  {
   "attachments": {},
   "cell_type": "markdown",
   "id": "1bd395a5",
   "metadata": {},
   "source": [
    "One of the things we notice is that we have created a line-plot for the entire dataframe. Each column, e.g. `mpg` or `weight`, is treated as a line, which makes it really difficult to differentiate between them. Also we lost any information about categorical data such as `origin`.\n",
    "\n",
    "Let's try this again. Use you knowledge from the last lecture to only select the `mpg` and `horsepower` columns of the dataframe. Do you remember how to select two colums. The code below will only select a single column.\n",
    "\n",
    "**Modify the below data cell to select both the `mpg` and `horsepower` columns**  \n",
    "\n",
    "Hints:\n",
    "- *You need to select a list of columns:* `df[list_of_columns]`  \n",
    "- *Lists in python are specified within brackets `list = [item1, item2]`*. "
   ]
  },
  {
   "cell_type": "code",
   "execution_count": null,
   "id": "2eb41b38",
   "metadata": {},
   "outputs": [],
   "source": [
    "# Modify this to select the mpg and horespower columns. \n",
    "#list_of_columns = [mpg, horsepower]\n",
    "df['mpg'].plot()"
   ]
  },
  {
   "cell_type": "markdown",
   "id": "fc834101",
   "metadata": {},
   "source": [
    "### Scatter Plots \n",
    "\n",
    "Scatter plots or x-y plots are a great way of visualizing relationships between variables, such as correlations. They are also a great tool to show uncertainty!\n",
    "\n",
    "Luckily, they are built into the pandas plotting methods:"
   ]
  },
  {
   "cell_type": "code",
   "execution_count": 18,
   "id": "7ea16ab2",
   "metadata": {},
   "outputs": [
    {
     "data": {
      "text/plain": [
       "<AxesSubplot:xlabel='mpg', ylabel='horsepower'>"
      ]
     },
     "execution_count": 18,
     "metadata": {},
     "output_type": "execute_result"
    },
    {
     "data": {
      "image/png": "[encoded data removed]",
      "text/plain": [
       "<Figure size 640x480 with 1 Axes>"
      ]
     },
     "metadata": {},
     "output_type": "display_data"
    }
   ],
   "source": [
    "df.plot(kind = 'scatter', x='mpg', y ='horsepower')\n"
   ]
  },
  {
   "cell_type": "markdown",
   "id": "8b50115b",
   "metadata": {},
   "source": [
    "#### Making your plots pretty and useful. \n",
    "\n",
    "There are a lot of options for changing the appearance of your plots. For examplel, you can change the style of plot using the `kind` paramemter and setting it to the desired plot type. \n",
    "\n",
    "Your options are (not all of these may work for your data: \n",
    "\n",
    "- 'line' : line plot (default)\n",
    "- 'bar' : vertical bar plot\n",
    "- 'barh' : horizontal bar plot\n",
    "- 'hist' : histogram\n",
    "- 'box' : boxplot\n",
    "- 'kde' : Kernel Density Estimation plot\n",
    "- 'density' : same as ‘kde’\n",
    "- 'area' : area plot\n",
    "- 'pie' : pie plot\n",
    "- 'scatter : scatter plot (DataFrame only)\n",
    "- 'hexbin' : hexbin plot (DataFrame only)\n",
    "\n",
    "Similarly, there are many other things you can specify. Go to the documentation for the [dataframe plotting function](https://pandas.pydata.org/pandas-docs/stable/reference/api/pandas.DataFrame.plot.html) and explore your options. \n",
    "\n",
    "**Use the documentation and your smarts to understand what the below parameters are doing>**\n",
    "\n",
    "**Next, try changing the plot changing the `ylabel` to something more sensible and by changing the color. Your options are found [here](https://matplotlib.org/stable/gallery/color/named_colors.html#).**"
   ]
  },
  {
   "cell_type": "code",
   "execution_count": null,
   "id": "9bee03a0",
   "metadata": {},
   "outputs": [],
   "source": [
    "df.plot(x='weight', y='mpg', kind = 'scatter', color = 'k', fontsize = 14, \n",
    "        xlabel = 'Weigth of car in pounds', title = 'some title')"
   ]
  },
  {
   "cell_type": "markdown",
   "id": "16db3f3e",
   "metadata": {},
   "source": [
    "You can see that the fontsize of the title and the x and y labels did not change.\n",
    "\n",
    "Unfortunately, we cannot do this directly using pandas. We have to use matplotlib directly. So we import first the `pyplot` module from the matplotlib libary. [Pyplot](https://matplotlib.org/stable/tutorials/introductory/pyplot.html) is designed to easily create and manipulate matplotlib figures and works very similar to plotting in [Matlab](https://www.mathworks.com/products/matlab.html) a commonly used - but expensize - programming language in science & engineering\n",
    ". "
   ]
  },
  {
   "cell_type": "code",
   "execution_count": null,
   "id": "dba3cbdc",
   "metadata": {},
   "outputs": [],
   "source": [
    "# this imports pyplot and makes it available when calling plt (this is a commong convention to save some typing)\n",
    "import matplotlib.pyplot as plt\n",
    "\n",
    "df.plot(x='weight', y='mpg', kind = 'scatter', color = 'k', fontsize = 14, xlabel = 'Weigth of car in pounds')\n",
    "\n",
    "# We can then use the ylabel and title method in pyplot, which are a bit more flexible to adjust the fontsize.\n",
    "plt.ylabel('Miles Per Gallon', fontsize = 20, color = 'b')\n",
    "plt.title('Some big Title in Red', fontsize = 20, color = 'r')\n",
    "\n",
    "# I really recommend to check out the tutorial for pyplot. \n",
    "# https://matplotlib.org/stable/tutorials/introductory/index.html"
   ]
  },
  {
   "cell_type": "markdown",
   "id": "1e246082",
   "metadata": {},
   "source": [
    "### Histograms \n",
    "Text taken from: [Python for Data Vizualization](https://www.linkedin.com/learning/python-for-data-visualization/effectively-present-data-with-python?autoplay=true&u=50844473) on LinkedIn Learning\n",
    "> It is a common practice to create histograms to explore your data as it can give you a general idea of what your data looks like. A histogram is a summary of the variation in a measured variable. It shows the number of samples that occur in a category. A histogram is a type of frequency distribution.\n",
    "\n",
    ">Histograms work by binning the entire range of values into a series of intervals and then counting how many values fall into each interval. While the intervals are often of equal size, they are not required to be.\" \n",
    "\n",
    "It would be nice if we could summarize the distribution of our gas milage. "
   ]
  },
  {
   "cell_type": "code",
   "execution_count": null,
   "id": "887b7440",
   "metadata": {},
   "outputs": [],
   "source": [
    "df['mpg']"
   ]
  },
  {
   "cell_type": "markdown",
   "id": "eb304235",
   "metadata": {},
   "source": [
    "Let's create a histogram. \n",
    "\n",
    "**Compare the two histograms below, what does the `bins` specify in each? What is the difference?**\n",
    "\n",
    "You may have also noticed that I used two different methods to create a histogram. Either one works, but they behave slightly differently. "
   ]
  },
  {
   "cell_type": "code",
   "execution_count": null,
   "id": "dce329bb",
   "metadata": {},
   "outputs": [],
   "source": [
    "df['mpg'].plot(kind = 'hist', bins =7)"
   ]
  },
  {
   "cell_type": "code",
   "execution_count": null,
   "id": "5a01f214",
   "metadata": {},
   "outputs": [],
   "source": [
    "df['mpg'].hist(bins = [0, 5, 10, 15, 20, 25, 30, 35, 40, 45, 50])"
   ]
  },
  {
   "cell_type": "markdown",
   "id": "96a9afc0",
   "metadata": {},
   "source": [
    "Finally try creating a nice histogram that shows the distribution of `weight` and has all the features like lables, titles, etc that wou yould expect from a nice plot. "
   ]
  },
  {
   "cell_type": "code",
   "execution_count": null,
   "id": "77101576",
   "metadata": {},
   "outputs": [],
   "source": [
    "# You can use this as a starter and refer to the plots on how to modify this:\n",
    "\n",
    "df['weight'].plot(kind = 'hist', grid = True)"
   ]
  },
  {
   "cell_type": "markdown",
   "id": "26fd1f88",
   "metadata": {},
   "source": [
    "## Wrapping Up\n",
    "\n",
    "There is so much more to learn about data visualization. However, we have to end it here. If you want to learn more, there is a course on [LinkedIn Learning](https://www.linkedin.com/learning) on [Data Visualization with Python](https://www.linkedin.com/learning/python-for-data-visualization-2019/).  You can check this out if you want, your JMU account will give you access."
   ]
  }
 ],
 "metadata": {
  "kernelspec": {
   "display_name": "Python 3 (ipykernel)",
   "language": "python",
   "name": "python3"
  },
  "language_info": {
   "codemirror_mode": {
    "name": "ipython",
    "version": 3
   },
   "file_extension": ".py",
   "mimetype": "text/x-python",
   "name": "python",
   "nbconvert_exporter": "python",
   "pygments_lexer": "ipython3",
   "version": "3.12.3"
  }
 },
 "nbformat": 4,
 "nbformat_minor": 5
}
