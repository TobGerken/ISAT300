{
 "cells": [
  {
   "cell_type": "markdown",
   "id": "cdf0dbad-4016-4737-bc6f-03308743f456",
   "metadata": {},
   "source": [
    "[![Open In Colab](https://colab.research.google.com/assets/colab-badge.svg)](https://colab.research.google.com/github/TobGerken/ISAT300/blob/main/6_CalibrationAndADConversion.ipynb)"
   ]
  },
  {
   "cell_type": "markdown",
   "id": "5dbb7588-adf3-4779-b910-01c82ffabc69",
   "metadata": {},
   "source": [
    "# This notebook contains the collection of In-Class Exercises for ISAT 300\n",
    "\n",
    "*Note that this page was created to provide an index for all exercises in one place outside of Canvas for the submitted tenure package*\n",
    "\n",
    "Exercises are designed to supplement the powerpoint presentation posted to Canvas and we go over them in class. \n",
    "The exercises can be accessed through the links that will take the user to a new page.\n",
    "\n",
    "1. [GettingStarted](https://colab.research.google.com/github/TobGerken/ISAT300/blob/main/1_GettingStarted.ipynb)\n",
    "2. [Data Visualization](https://colab.research.google.com/github/TobGerken/ISAT300/blob/main/2_DataVisualization.ipynb)\n",
    "3. [Heart Rate Lab Review](https://colab.research.google.com/github/TobGerken/ISAT300/blob/main/3_HeartRateLabReview.ipynb)\n",
    "4. [Temperature Response Lab Review](https://colab.research.google.com/github/TobGerken/ISAT300/blob/main/4_TemperatureResponseLabReview.ipynb)\n",
    "5. [Standard Error](https://colab.research.google.com/github/TobGerken/ISAT300/blob/main/5_StandardErrorDemonstration.ipynb)\n",
    "6. [Instrument Calibration & Analogue to Digital Conversion](https://colab.research.google.com/github/TobGerken/ISAT300/blob/main/6_CalibrationAndADConversion.ipynb)\n",
    "\n"
   ]
  },
  {
   "cell_type": "code",
   "execution_count": null,
   "id": "6fe601f7-d1f3-4cfe-b201-4801e41459ee",
   "metadata": {},
   "outputs": [],
   "source": []
  }
 ],
 "metadata": {
  "kernelspec": {
   "display_name": "Python 3 (ipykernel)",
   "language": "python",
   "name": "python3"
  },
  "language_info": {
   "codemirror_mode": {
    "name": "ipython",
    "version": 3
   },
   "file_extension": ".py",
   "mimetype": "text/x-python",
   "name": "python",
   "nbconvert_exporter": "python",
   "pygments_lexer": "ipython3",
   "version": "3.12.3"
  }
 },
 "nbformat": 4,
 "nbformat_minor": 5
}
